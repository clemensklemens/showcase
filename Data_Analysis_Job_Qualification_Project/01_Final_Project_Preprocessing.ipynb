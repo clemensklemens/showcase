{
 "cells": [
  {
   "cell_type": "markdown",
   "metadata": {},
   "source": [
    "# 2. Praxisteil Preprocessing\n",
    "\n",
    "Der Datensatz besteht aus 2 Teilen die zusammengehören.\n",
    "\n",
    "Führe das Data PreProcessing und eine explorative Datenanalyse durch.\n",
    "\n",
    "Welche Erkenntnisse können aus dem Datensatz gewonnen werden?\n",
    "\n",
    "Verwende dabei verschiedene Plots.\n",
    "\n",
    "Konzentriere dich auf ein Thema welches du analysieren möchtest. Bei den Plots reichen 3 aus. Diese sollen auf einen Blick das Thema verdeutlichen. Hier zählt Qualität statt Quantität!\n",
    "\n",
    "Vergiss nicht die Erkenntnisse aus deinen Plots zu notieren.\n",
    "\n",
    "Thema des Datensatz ist crowdfunding. Hierbei handelt es sich um eine Finanzierungsform bei der verschiedene Investoren unterschiedliche Geldbeträge für bestimmte Projekte geben. Es ist also eine zweckgebunde Finanzierung. Alle Projekte sind abgeschlossene Projekte!\n",
    "\n",
    "\n",
    "Der gesplittete Datensatz enthält folgende Spalten (inkl. Bedeutung):\n",
    "\n",
    "    - funded_amount ... mit Ablauf der Crowdfundingzeit erhaltener Betrag in USD\n",
    "    - loan_amount ... Zielbetrag (Betrag dem man mit Funding erreichen wollte) in USD\n",
    "    - activity ... Unterkategory zu dem das Ziel des Crowdfunding thematisch gehört\n",
    "    - sector ... Oberkategory in den das Crowdfunding Thema fällt\n",
    "    - use ... Kurzbeschreibung wofür das Geld verwendet werden soll\n",
    "    - country_code ... Ländercode nach ISO Norm\n",
    "    - country ... Ländername nach ISO Norm\n",
    "    - region ... Region\n",
    "    - currency ... Währung in den der funded_amount dann ausgezahlt wurde\n",
    "    - term in months ... Dauer über die der Kredit ausgezahlt wurde\n",
    "    - lender_count ...Darlehensgeber (also wieviele Personen Geld für das Projekt gegeben haben)\n",
    "    - borrower_genders ... Geschlecht und Anzahl der Darlehensnehmer, also diejenigen die das\n",
    "    Crowdfundingprojekt initiiert haben\n",
    "    - repayment interval ... Rückzahlungsmodalitäten/-rhythmus"
   ]
  },
  {
   "cell_type": "code",
   "execution_count": 1,
   "metadata": {
    "ExecuteTime": {
     "end_time": "2020-12-10T13:55:01.112774Z",
     "start_time": "2020-12-10T13:55:00.270118Z"
    }
   },
   "outputs": [],
   "source": [
    "# Import der benötigten Bibliotheken\n",
    "import numpy as np\n",
    "import pandas as pd\n",
    "import matplotlib.pyplot as plt\n",
    "import seaborn as sns"
   ]
  },
  {
   "cell_type": "markdown",
   "metadata": {},
   "source": [
    "## Datensatz einlesen\n",
    "Datensatz einlesen und zusammenführen"
   ]
  },
  {
   "cell_type": "code",
   "execution_count": 2,
   "metadata": {
    "ExecuteTime": {
     "end_time": "2020-12-10T13:55:01.236577Z",
     "start_time": "2020-12-10T13:55:01.115262Z"
    }
   },
   "outputs": [
    {
     "name": "stdout",
     "output_type": "stream",
     "text": [
      ",funded_amount,loan_amount,activity,sector,use,country_code,country,region,currency,term_in_months,lender_count,borrower_genders,repayment_interval\r",
      "\r\n",
      "0,300.0,300.0,Fruits & Vegetables,Food,\"To buy seasonal, fresh fruits to sell. \",PK,Pakistan,Lahore,PKR,12.0,12,female,irregular\r",
      "\r\n",
      "1,575.0,575.0,Rickshaw,Transportation,to repair and maintain the auto rickshaw used in their business.,PK,Pakistan,Lahore,PKR,11.0,14,\"female, female\",irregular\r",
      "\r\n",
      "2,150.0,150.0,Transportation,Transportation,To repair their old cycle-van and buy another one to rent out as a source of income,IN,India,Maynaguri,INR,43.0,6,female,bullet\r",
      "\r\n",
      "3,200.0,200.0,Embroidery,Arts,to purchase an embroidery machine and a variety of new embroidery materials.,PK,Pakistan,Lahore,PKR,11.0,8,female,irregular\r",
      "\r\n",
      "4,400.0,400.0,Milk Sales,Food,to purchase one buffalo.,PK,Pakistan,Abdul Hakeem,PKR,14.0,16,female,monthly\r",
      "\r\n",
      "5,250.0,250.0,Services,Services,purchase leather for my business using ksh 20000.,KE,Kenya,,KES,4.0,6,female,irregular\r",
      "\r\n",
      "6,200.0,200.0,Dairy,Agriculture,To purchase a dairy cow and start a milk products business .,IN,India,Maynaguri,INR,43.0,8,female,bullet\r",
      "\r\n",
      "7,400.0,400.0,Beauty Salon,Services,to buy more hair and skin care products.  ,PK,Pakistan,Ellahabad,PKR,14.0,8,female,monthly\r",
      "\r\n",
      "8,475.0,475.0,Manufacturing,Manufacturing,\"to purchase leather, plastic soles and heels in different sizes along with spools of thread.\",PK,Pakistan,Lahore,PKR,14.0,19,female,monthly\r",
      "\r\n"
     ]
    }
   ],
   "source": [
    "# Trennzeichen herausfinden und Datensatz anschauen\n",
    "#!type './part1.csv' #Sollte unter Windows funktionieren --> nicht getestet\n",
    "\n",
    "#Unter Linux\n",
    "!head './part1.csv'"
   ]
  },
  {
   "cell_type": "code",
   "execution_count": 3,
   "metadata": {
    "ExecuteTime": {
     "end_time": "2020-12-10T13:55:01.361278Z",
     "start_time": "2020-12-10T13:55:01.240251Z"
    }
   },
   "outputs": [
    {
     "name": "stdout",
     "output_type": "stream",
     "text": [
      "#funded_amount#loan_amount#activity#sector#use#country_code#country#region#currency#term_in_months#lender_count#borrower_genders#repayment_interval\r",
      "\r\n",
      "0#175.0#175.0#Liquor Store / Off-License#Food#to purchase additional stock of coconut wine to sell#PH#Philippines#Palo, Leyte#PHP#8.0#6#female#irregular\r",
      "\r\n",
      "1#325.0#325.0#Livestock#Agriculture#to buy 3 zebus and food to fatten them up.#MG#Madagascar#Antsirabe#MGA#12.0#13#female#monthly\r",
      "\r\n",
      "2#550.0#550.0#Food Stall#Food#to buy ingredients for her food-vending business, such as meat, spices, chicken, etc.#PH#Philippines#Cordova, Cebu#PHP#5.0#6#female#irregular\r",
      "\r\n",
      "3#1300.0#1300.0#Cattle#Agriculture#to buy one head of cattle.#EG#Egypt#Baniswef#EGP#14.0#50#male#monthly\r",
      "\r\n",
      "4#900.0#900.0#Consumer Goods#Personal Use#to buy consumer goods amongst others.#PE#Peru#Urubamba - Urubamba - Cusco#PEN#6.0#1#female#irregular\r",
      "\r\n",
      "5#625.0#625.0#Fuel/Firewood#Retail#to purchase more okra and firewood for constant delivery to her customers.#GH#Ghana#Teshie, Accra#GHS#10.0#15#female, female#irregular\r",
      "\r\n",
      "6#200.0#200.0#Home Appliances#Personal Use#To buy a water filter to provide safe drinking water for their family.#KH#Cambodia#Phnom Penh#KHR#8.0#6#female, male, female, female, female#monthly\r",
      "\r\n",
      "7#3225.0#3225.0#Beverages#Food#to stock up with 15 cases of soft drinks.#CD#The Democratic Republic of the Congo#Goma, North Kivu province#USD#6.0#17#female, female, female, female, female, female, female, female, female, female, female, female, female, female, female, female, female, female, female, female, female, female, female, female, female, female, female#irregular\r",
      "\r\n",
      "8#400.0#400.0#Home Appliances#Personal Use#to replace a broken refrigerator and purchase a TV.#AL#Albania#Korce#ALL#13.0#15#female#monthly\r",
      "\r\n"
     ]
    }
   ],
   "source": [
    "#!type './part2.csv' #Sollte unter Windows funktionieren --> nicht getestet\n",
    "\n",
    "#Unter Linux\n",
    "!head './part2.csv'"
   ]
  },
  {
   "cell_type": "markdown",
   "metadata": {},
   "source": [
    "Teil 1 hat als Trennzeichen \",\"<br>\n",
    "Teil 2 hat als Trennzeichen \"#\""
   ]
  },
  {
   "cell_type": "code",
   "execution_count": 4,
   "metadata": {
    "ExecuteTime": {
     "end_time": "2020-12-10T13:55:02.952749Z",
     "start_time": "2020-12-10T13:55:01.364378Z"
    }
   },
   "outputs": [],
   "source": [
    "# Einlesen Teil 1\n",
    "df_crowd_raw1 = pd.read_csv('./part1.csv')\n",
    "\n",
    "#Einlesen Teil 2\n",
    "df_crowd_raw2 = pd.read_csv('./part2.csv', sep='#')"
   ]
  },
  {
   "cell_type": "code",
   "execution_count": 5,
   "metadata": {
    "ExecuteTime": {
     "end_time": "2020-12-10T13:55:02.974230Z",
     "start_time": "2020-12-10T13:55:02.954434Z"
    }
   },
   "outputs": [
    {
     "data": {
      "text/html": [
       "<div>\n",
       "<style scoped>\n",
       "    .dataframe tbody tr th:only-of-type {\n",
       "        vertical-align: middle;\n",
       "    }\n",
       "\n",
       "    .dataframe tbody tr th {\n",
       "        vertical-align: top;\n",
       "    }\n",
       "\n",
       "    .dataframe thead th {\n",
       "        text-align: right;\n",
       "    }\n",
       "</style>\n",
       "<table border=\"1\" class=\"dataframe\">\n",
       "  <thead>\n",
       "    <tr style=\"text-align: right;\">\n",
       "      <th></th>\n",
       "      <th>Unnamed: 0</th>\n",
       "      <th>funded_amount</th>\n",
       "      <th>loan_amount</th>\n",
       "      <th>activity</th>\n",
       "      <th>sector</th>\n",
       "      <th>use</th>\n",
       "      <th>country_code</th>\n",
       "      <th>country</th>\n",
       "      <th>region</th>\n",
       "      <th>currency</th>\n",
       "      <th>term_in_months</th>\n",
       "      <th>lender_count</th>\n",
       "      <th>borrower_genders</th>\n",
       "      <th>repayment_interval</th>\n",
       "    </tr>\n",
       "  </thead>\n",
       "  <tbody>\n",
       "    <tr>\n",
       "      <th>0</th>\n",
       "      <td>0</td>\n",
       "      <td>300.0</td>\n",
       "      <td>300.0</td>\n",
       "      <td>Fruits &amp; Vegetables</td>\n",
       "      <td>Food</td>\n",
       "      <td>To buy seasonal, fresh fruits to sell.</td>\n",
       "      <td>PK</td>\n",
       "      <td>Pakistan</td>\n",
       "      <td>Lahore</td>\n",
       "      <td>PKR</td>\n",
       "      <td>12.0</td>\n",
       "      <td>12</td>\n",
       "      <td>female</td>\n",
       "      <td>irregular</td>\n",
       "    </tr>\n",
       "    <tr>\n",
       "      <th>1</th>\n",
       "      <td>1</td>\n",
       "      <td>575.0</td>\n",
       "      <td>575.0</td>\n",
       "      <td>Rickshaw</td>\n",
       "      <td>Transportation</td>\n",
       "      <td>to repair and maintain the auto rickshaw used ...</td>\n",
       "      <td>PK</td>\n",
       "      <td>Pakistan</td>\n",
       "      <td>Lahore</td>\n",
       "      <td>PKR</td>\n",
       "      <td>11.0</td>\n",
       "      <td>14</td>\n",
       "      <td>female, female</td>\n",
       "      <td>irregular</td>\n",
       "    </tr>\n",
       "    <tr>\n",
       "      <th>2</th>\n",
       "      <td>2</td>\n",
       "      <td>150.0</td>\n",
       "      <td>150.0</td>\n",
       "      <td>Transportation</td>\n",
       "      <td>Transportation</td>\n",
       "      <td>To repair their old cycle-van and buy another ...</td>\n",
       "      <td>IN</td>\n",
       "      <td>India</td>\n",
       "      <td>Maynaguri</td>\n",
       "      <td>INR</td>\n",
       "      <td>43.0</td>\n",
       "      <td>6</td>\n",
       "      <td>female</td>\n",
       "      <td>bullet</td>\n",
       "    </tr>\n",
       "  </tbody>\n",
       "</table>\n",
       "</div>"
      ],
      "text/plain": [
       "   Unnamed: 0  funded_amount  loan_amount             activity  \\\n",
       "0           0          300.0        300.0  Fruits & Vegetables   \n",
       "1           1          575.0        575.0             Rickshaw   \n",
       "2           2          150.0        150.0       Transportation   \n",
       "\n",
       "           sector                                                use  \\\n",
       "0            Food            To buy seasonal, fresh fruits to sell.    \n",
       "1  Transportation  to repair and maintain the auto rickshaw used ...   \n",
       "2  Transportation  To repair their old cycle-van and buy another ...   \n",
       "\n",
       "  country_code   country     region currency  term_in_months  lender_count  \\\n",
       "0           PK  Pakistan     Lahore      PKR            12.0            12   \n",
       "1           PK  Pakistan     Lahore      PKR            11.0            14   \n",
       "2           IN     India  Maynaguri      INR            43.0             6   \n",
       "\n",
       "  borrower_genders repayment_interval  \n",
       "0           female          irregular  \n",
       "1   female, female          irregular  \n",
       "2           female             bullet  "
      ]
     },
     "execution_count": 5,
     "metadata": {},
     "output_type": "execute_result"
    }
   ],
   "source": [
    "#Hat funktioniert?\n",
    "df_crowd_raw1.head(3)"
   ]
  },
  {
   "cell_type": "code",
   "execution_count": 6,
   "metadata": {
    "ExecuteTime": {
     "end_time": "2020-12-10T13:55:02.999252Z",
     "start_time": "2020-12-10T13:55:02.975855Z"
    }
   },
   "outputs": [
    {
     "data": {
      "text/html": [
       "<div>\n",
       "<style scoped>\n",
       "    .dataframe tbody tr th:only-of-type {\n",
       "        vertical-align: middle;\n",
       "    }\n",
       "\n",
       "    .dataframe tbody tr th {\n",
       "        vertical-align: top;\n",
       "    }\n",
       "\n",
       "    .dataframe thead th {\n",
       "        text-align: right;\n",
       "    }\n",
       "</style>\n",
       "<table border=\"1\" class=\"dataframe\">\n",
       "  <thead>\n",
       "    <tr style=\"text-align: right;\">\n",
       "      <th></th>\n",
       "      <th>Unnamed: 0</th>\n",
       "      <th>funded_amount</th>\n",
       "      <th>loan_amount</th>\n",
       "      <th>activity</th>\n",
       "      <th>sector</th>\n",
       "      <th>use</th>\n",
       "      <th>country_code</th>\n",
       "      <th>country</th>\n",
       "      <th>region</th>\n",
       "      <th>currency</th>\n",
       "      <th>term_in_months</th>\n",
       "      <th>lender_count</th>\n",
       "      <th>borrower_genders</th>\n",
       "      <th>repayment_interval</th>\n",
       "    </tr>\n",
       "  </thead>\n",
       "  <tbody>\n",
       "    <tr>\n",
       "      <th>334997</th>\n",
       "      <td>334997</td>\n",
       "      <td>925.0</td>\n",
       "      <td>925.0</td>\n",
       "      <td>Cattle</td>\n",
       "      <td>Agriculture</td>\n",
       "      <td>to increase his herd to get more milk and prov...</td>\n",
       "      <td>TJ</td>\n",
       "      <td>Tajikistan</td>\n",
       "      <td>Khuroson</td>\n",
       "      <td>TJS</td>\n",
       "      <td>14.0</td>\n",
       "      <td>28</td>\n",
       "      <td>male</td>\n",
       "      <td>monthly</td>\n",
       "    </tr>\n",
       "    <tr>\n",
       "      <th>334998</th>\n",
       "      <td>334998</td>\n",
       "      <td>175.0</td>\n",
       "      <td>175.0</td>\n",
       "      <td>General Store</td>\n",
       "      <td>Retail</td>\n",
       "      <td>to buy additional items to sell, like beverage...</td>\n",
       "      <td>PH</td>\n",
       "      <td>Philippines</td>\n",
       "      <td>Palo, Leyte</td>\n",
       "      <td>PHP</td>\n",
       "      <td>8.0</td>\n",
       "      <td>6</td>\n",
       "      <td>female</td>\n",
       "      <td>irregular</td>\n",
       "    </tr>\n",
       "    <tr>\n",
       "      <th>334999</th>\n",
       "      <td>334999</td>\n",
       "      <td>150.0</td>\n",
       "      <td>150.0</td>\n",
       "      <td>Food Production/Sales</td>\n",
       "      <td>Food</td>\n",
       "      <td>to buy sticky rice and sugar.</td>\n",
       "      <td>PH</td>\n",
       "      <td>Philippines</td>\n",
       "      <td>Jagna, Bohol</td>\n",
       "      <td>PHP</td>\n",
       "      <td>8.0</td>\n",
       "      <td>5</td>\n",
       "      <td>female</td>\n",
       "      <td>irregular</td>\n",
       "    </tr>\n",
       "  </tbody>\n",
       "</table>\n",
       "</div>"
      ],
      "text/plain": [
       "        Unnamed: 0  funded_amount  loan_amount               activity  \\\n",
       "334997      334997          925.0        925.0                 Cattle   \n",
       "334998      334998          175.0        175.0          General Store   \n",
       "334999      334999          150.0        150.0  Food Production/Sales   \n",
       "\n",
       "             sector                                                use  \\\n",
       "334997  Agriculture  to increase his herd to get more milk and prov...   \n",
       "334998       Retail  to buy additional items to sell, like beverage...   \n",
       "334999         Food                      to buy sticky rice and sugar.   \n",
       "\n",
       "       country_code      country        region currency  term_in_months  \\\n",
       "334997           TJ   Tajikistan      Khuroson      TJS            14.0   \n",
       "334998           PH  Philippines   Palo, Leyte      PHP             8.0   \n",
       "334999           PH  Philippines  Jagna, Bohol      PHP             8.0   \n",
       "\n",
       "        lender_count borrower_genders repayment_interval  \n",
       "334997            28             male            monthly  \n",
       "334998             6           female          irregular  \n",
       "334999             5           female          irregular  "
      ]
     },
     "execution_count": 6,
     "metadata": {},
     "output_type": "execute_result"
    }
   ],
   "source": [
    "df_crowd_raw1.tail(3)"
   ]
  },
  {
   "cell_type": "code",
   "execution_count": 7,
   "metadata": {
    "ExecuteTime": {
     "end_time": "2020-12-10T13:55:03.031832Z",
     "start_time": "2020-12-10T13:55:03.000815Z"
    }
   },
   "outputs": [
    {
     "data": {
      "text/html": [
       "<div>\n",
       "<style scoped>\n",
       "    .dataframe tbody tr th:only-of-type {\n",
       "        vertical-align: middle;\n",
       "    }\n",
       "\n",
       "    .dataframe tbody tr th {\n",
       "        vertical-align: top;\n",
       "    }\n",
       "\n",
       "    .dataframe thead th {\n",
       "        text-align: right;\n",
       "    }\n",
       "</style>\n",
       "<table border=\"1\" class=\"dataframe\">\n",
       "  <thead>\n",
       "    <tr style=\"text-align: right;\">\n",
       "      <th></th>\n",
       "      <th>Unnamed: 0</th>\n",
       "      <th>funded_amount</th>\n",
       "      <th>loan_amount</th>\n",
       "      <th>activity</th>\n",
       "      <th>sector</th>\n",
       "      <th>use</th>\n",
       "      <th>country_code</th>\n",
       "      <th>country</th>\n",
       "      <th>region</th>\n",
       "      <th>currency</th>\n",
       "      <th>term_in_months</th>\n",
       "      <th>lender_count</th>\n",
       "      <th>borrower_genders</th>\n",
       "      <th>repayment_interval</th>\n",
       "    </tr>\n",
       "  </thead>\n",
       "  <tbody>\n",
       "    <tr>\n",
       "      <th>0</th>\n",
       "      <td>0</td>\n",
       "      <td>175.0</td>\n",
       "      <td>175.0</td>\n",
       "      <td>Liquor Store / Off-License</td>\n",
       "      <td>Food</td>\n",
       "      <td>to purchase additional stock of coconut wine t...</td>\n",
       "      <td>PH</td>\n",
       "      <td>Philippines</td>\n",
       "      <td>Palo, Leyte</td>\n",
       "      <td>PHP</td>\n",
       "      <td>8.0</td>\n",
       "      <td>6</td>\n",
       "      <td>female</td>\n",
       "      <td>irregular</td>\n",
       "    </tr>\n",
       "    <tr>\n",
       "      <th>1</th>\n",
       "      <td>1</td>\n",
       "      <td>325.0</td>\n",
       "      <td>325.0</td>\n",
       "      <td>Livestock</td>\n",
       "      <td>Agriculture</td>\n",
       "      <td>to buy 3 zebus and food to fatten them up.</td>\n",
       "      <td>MG</td>\n",
       "      <td>Madagascar</td>\n",
       "      <td>Antsirabe</td>\n",
       "      <td>MGA</td>\n",
       "      <td>12.0</td>\n",
       "      <td>13</td>\n",
       "      <td>female</td>\n",
       "      <td>monthly</td>\n",
       "    </tr>\n",
       "    <tr>\n",
       "      <th>2</th>\n",
       "      <td>2</td>\n",
       "      <td>550.0</td>\n",
       "      <td>550.0</td>\n",
       "      <td>Food Stall</td>\n",
       "      <td>Food</td>\n",
       "      <td>to buy ingredients for her food-vending busine...</td>\n",
       "      <td>PH</td>\n",
       "      <td>Philippines</td>\n",
       "      <td>Cordova, Cebu</td>\n",
       "      <td>PHP</td>\n",
       "      <td>5.0</td>\n",
       "      <td>6</td>\n",
       "      <td>female</td>\n",
       "      <td>irregular</td>\n",
       "    </tr>\n",
       "  </tbody>\n",
       "</table>\n",
       "</div>"
      ],
      "text/plain": [
       "   Unnamed: 0  funded_amount  loan_amount                    activity  \\\n",
       "0           0          175.0        175.0  Liquor Store / Off-License   \n",
       "1           1          325.0        325.0                   Livestock   \n",
       "2           2          550.0        550.0                  Food Stall   \n",
       "\n",
       "        sector                                                use  \\\n",
       "0         Food  to purchase additional stock of coconut wine t...   \n",
       "1  Agriculture         to buy 3 zebus and food to fatten them up.   \n",
       "2         Food  to buy ingredients for her food-vending busine...   \n",
       "\n",
       "  country_code      country         region currency  term_in_months  \\\n",
       "0           PH  Philippines    Palo, Leyte      PHP             8.0   \n",
       "1           MG   Madagascar      Antsirabe      MGA            12.0   \n",
       "2           PH  Philippines  Cordova, Cebu      PHP             5.0   \n",
       "\n",
       "   lender_count borrower_genders repayment_interval  \n",
       "0             6           female          irregular  \n",
       "1            13           female            monthly  \n",
       "2             6           female          irregular  "
      ]
     },
     "execution_count": 7,
     "metadata": {},
     "output_type": "execute_result"
    }
   ],
   "source": [
    "df_crowd_raw2.head(3)"
   ]
  },
  {
   "cell_type": "code",
   "execution_count": 8,
   "metadata": {
    "ExecuteTime": {
     "end_time": "2020-12-10T13:55:03.059861Z",
     "start_time": "2020-12-10T13:55:03.035834Z"
    }
   },
   "outputs": [
    {
     "data": {
      "text/html": [
       "<div>\n",
       "<style scoped>\n",
       "    .dataframe tbody tr th:only-of-type {\n",
       "        vertical-align: middle;\n",
       "    }\n",
       "\n",
       "    .dataframe tbody tr th {\n",
       "        vertical-align: top;\n",
       "    }\n",
       "\n",
       "    .dataframe thead th {\n",
       "        text-align: right;\n",
       "    }\n",
       "</style>\n",
       "<table border=\"1\" class=\"dataframe\">\n",
       "  <thead>\n",
       "    <tr style=\"text-align: right;\">\n",
       "      <th></th>\n",
       "      <th>Unnamed: 0</th>\n",
       "      <th>funded_amount</th>\n",
       "      <th>loan_amount</th>\n",
       "      <th>activity</th>\n",
       "      <th>sector</th>\n",
       "      <th>use</th>\n",
       "      <th>country_code</th>\n",
       "      <th>country</th>\n",
       "      <th>region</th>\n",
       "      <th>currency</th>\n",
       "      <th>term_in_months</th>\n",
       "      <th>lender_count</th>\n",
       "      <th>borrower_genders</th>\n",
       "      <th>repayment_interval</th>\n",
       "    </tr>\n",
       "  </thead>\n",
       "  <tbody>\n",
       "    <tr>\n",
       "      <th>336202</th>\n",
       "      <td>336202</td>\n",
       "      <td>0.0</td>\n",
       "      <td>25.0</td>\n",
       "      <td>Games</td>\n",
       "      <td>Entertainment</td>\n",
       "      <td>NaN</td>\n",
       "      <td>KE</td>\n",
       "      <td>Kenya</td>\n",
       "      <td>NaN</td>\n",
       "      <td>KES</td>\n",
       "      <td>13.0</td>\n",
       "      <td>0</td>\n",
       "      <td>NaN</td>\n",
       "      <td>monthly</td>\n",
       "    </tr>\n",
       "    <tr>\n",
       "      <th>336203</th>\n",
       "      <td>336203</td>\n",
       "      <td>0.0</td>\n",
       "      <td>25.0</td>\n",
       "      <td>Livestock</td>\n",
       "      <td>Agriculture</td>\n",
       "      <td>[True, u'to start a turducken farm.'] - this l...</td>\n",
       "      <td>KE</td>\n",
       "      <td>Kenya</td>\n",
       "      <td>NaN</td>\n",
       "      <td>KES</td>\n",
       "      <td>13.0</td>\n",
       "      <td>0</td>\n",
       "      <td>female</td>\n",
       "      <td>monthly</td>\n",
       "    </tr>\n",
       "    <tr>\n",
       "      <th>336204</th>\n",
       "      <td>336204</td>\n",
       "      <td>0.0</td>\n",
       "      <td>25.0</td>\n",
       "      <td>Livestock</td>\n",
       "      <td>Agriculture</td>\n",
       "      <td>[True, u'to start a turducken farm.'] - this l...</td>\n",
       "      <td>KE</td>\n",
       "      <td>Kenya</td>\n",
       "      <td>NaN</td>\n",
       "      <td>KES</td>\n",
       "      <td>13.0</td>\n",
       "      <td>0</td>\n",
       "      <td>female</td>\n",
       "      <td>monthly</td>\n",
       "    </tr>\n",
       "  </tbody>\n",
       "</table>\n",
       "</div>"
      ],
      "text/plain": [
       "        Unnamed: 0  funded_amount  loan_amount   activity         sector  \\\n",
       "336202      336202            0.0         25.0      Games  Entertainment   \n",
       "336203      336203            0.0         25.0  Livestock    Agriculture   \n",
       "336204      336204            0.0         25.0  Livestock    Agriculture   \n",
       "\n",
       "                                                      use country_code  \\\n",
       "336202                                                NaN           KE   \n",
       "336203  [True, u'to start a turducken farm.'] - this l...           KE   \n",
       "336204  [True, u'to start a turducken farm.'] - this l...           KE   \n",
       "\n",
       "       country region currency  term_in_months  lender_count borrower_genders  \\\n",
       "336202   Kenya    NaN      KES            13.0             0              NaN   \n",
       "336203   Kenya    NaN      KES            13.0             0           female   \n",
       "336204   Kenya    NaN      KES            13.0             0           female   \n",
       "\n",
       "       repayment_interval  \n",
       "336202            monthly  \n",
       "336203            monthly  \n",
       "336204            monthly  "
      ]
     },
     "execution_count": 8,
     "metadata": {},
     "output_type": "execute_result"
    }
   ],
   "source": [
    "df_crowd_raw2.tail(3)"
   ]
  },
  {
   "cell_type": "markdown",
   "metadata": {},
   "source": [
    "- Beide Teile wurden eingelesen\n",
    "- Datensätze haben gleiche Spalten --> können Reihenweise über concat zusammengeführt werden\n",
    "- Spalte Unnamed: 0 kommt vom einlesen der csv. Dateien gibt nur den Index wieder --> keine Information\n",
    "- In Spalte use gibt es fehlende Werte und Text in [] --> überlegen was damit zu tun ist"
   ]
  },
  {
   "cell_type": "code",
   "execution_count": 9,
   "metadata": {
    "ExecuteTime": {
     "end_time": "2020-12-10T13:55:03.437175Z",
     "start_time": "2020-12-10T13:55:03.061848Z"
    }
   },
   "outputs": [],
   "source": [
    "# Dataframes zusammenführen, ohne Index zu benutzen, Spalte Unnamed: 0 löschen\n",
    "df_crowd = pd.concat([df_crowd_raw1, df_crowd_raw2], ignore_index=True)\n",
    "df_crowd.drop(columns=[\"Unnamed: 0\"], inplace=True)"
   ]
  },
  {
   "cell_type": "code",
   "execution_count": 10,
   "metadata": {
    "ExecuteTime": {
     "end_time": "2020-12-10T13:55:03.452608Z",
     "start_time": "2020-12-10T13:55:03.438877Z"
    }
   },
   "outputs": [
    {
     "data": {
      "text/html": [
       "<div>\n",
       "<style scoped>\n",
       "    .dataframe tbody tr th:only-of-type {\n",
       "        vertical-align: middle;\n",
       "    }\n",
       "\n",
       "    .dataframe tbody tr th {\n",
       "        vertical-align: top;\n",
       "    }\n",
       "\n",
       "    .dataframe thead th {\n",
       "        text-align: right;\n",
       "    }\n",
       "</style>\n",
       "<table border=\"1\" class=\"dataframe\">\n",
       "  <thead>\n",
       "    <tr style=\"text-align: right;\">\n",
       "      <th></th>\n",
       "      <th>funded_amount</th>\n",
       "      <th>loan_amount</th>\n",
       "      <th>activity</th>\n",
       "      <th>sector</th>\n",
       "      <th>use</th>\n",
       "      <th>country_code</th>\n",
       "      <th>country</th>\n",
       "      <th>region</th>\n",
       "      <th>currency</th>\n",
       "      <th>term_in_months</th>\n",
       "      <th>lender_count</th>\n",
       "      <th>borrower_genders</th>\n",
       "      <th>repayment_interval</th>\n",
       "    </tr>\n",
       "  </thead>\n",
       "  <tbody>\n",
       "    <tr>\n",
       "      <th>0</th>\n",
       "      <td>300.0</td>\n",
       "      <td>300.0</td>\n",
       "      <td>Fruits &amp; Vegetables</td>\n",
       "      <td>Food</td>\n",
       "      <td>To buy seasonal, fresh fruits to sell.</td>\n",
       "      <td>PK</td>\n",
       "      <td>Pakistan</td>\n",
       "      <td>Lahore</td>\n",
       "      <td>PKR</td>\n",
       "      <td>12.0</td>\n",
       "      <td>12</td>\n",
       "      <td>female</td>\n",
       "      <td>irregular</td>\n",
       "    </tr>\n",
       "    <tr>\n",
       "      <th>1</th>\n",
       "      <td>575.0</td>\n",
       "      <td>575.0</td>\n",
       "      <td>Rickshaw</td>\n",
       "      <td>Transportation</td>\n",
       "      <td>to repair and maintain the auto rickshaw used ...</td>\n",
       "      <td>PK</td>\n",
       "      <td>Pakistan</td>\n",
       "      <td>Lahore</td>\n",
       "      <td>PKR</td>\n",
       "      <td>11.0</td>\n",
       "      <td>14</td>\n",
       "      <td>female, female</td>\n",
       "      <td>irregular</td>\n",
       "    </tr>\n",
       "    <tr>\n",
       "      <th>2</th>\n",
       "      <td>150.0</td>\n",
       "      <td>150.0</td>\n",
       "      <td>Transportation</td>\n",
       "      <td>Transportation</td>\n",
       "      <td>To repair their old cycle-van and buy another ...</td>\n",
       "      <td>IN</td>\n",
       "      <td>India</td>\n",
       "      <td>Maynaguri</td>\n",
       "      <td>INR</td>\n",
       "      <td>43.0</td>\n",
       "      <td>6</td>\n",
       "      <td>female</td>\n",
       "      <td>bullet</td>\n",
       "    </tr>\n",
       "  </tbody>\n",
       "</table>\n",
       "</div>"
      ],
      "text/plain": [
       "   funded_amount  loan_amount             activity          sector  \\\n",
       "0          300.0        300.0  Fruits & Vegetables            Food   \n",
       "1          575.0        575.0             Rickshaw  Transportation   \n",
       "2          150.0        150.0       Transportation  Transportation   \n",
       "\n",
       "                                                 use country_code   country  \\\n",
       "0            To buy seasonal, fresh fruits to sell.            PK  Pakistan   \n",
       "1  to repair and maintain the auto rickshaw used ...           PK  Pakistan   \n",
       "2  To repair their old cycle-van and buy another ...           IN     India   \n",
       "\n",
       "      region currency  term_in_months  lender_count borrower_genders  \\\n",
       "0     Lahore      PKR            12.0            12           female   \n",
       "1     Lahore      PKR            11.0            14   female, female   \n",
       "2  Maynaguri      INR            43.0             6           female   \n",
       "\n",
       "  repayment_interval  \n",
       "0          irregular  \n",
       "1          irregular  \n",
       "2             bullet  "
      ]
     },
     "execution_count": 10,
     "metadata": {},
     "output_type": "execute_result"
    }
   ],
   "source": [
    "df_crowd.head(3)"
   ]
  },
  {
   "cell_type": "code",
   "execution_count": 11,
   "metadata": {
    "ExecuteTime": {
     "end_time": "2020-12-10T13:55:03.477298Z",
     "start_time": "2020-12-10T13:55:03.454779Z"
    }
   },
   "outputs": [
    {
     "data": {
      "text/html": [
       "<div>\n",
       "<style scoped>\n",
       "    .dataframe tbody tr th:only-of-type {\n",
       "        vertical-align: middle;\n",
       "    }\n",
       "\n",
       "    .dataframe tbody tr th {\n",
       "        vertical-align: top;\n",
       "    }\n",
       "\n",
       "    .dataframe thead th {\n",
       "        text-align: right;\n",
       "    }\n",
       "</style>\n",
       "<table border=\"1\" class=\"dataframe\">\n",
       "  <thead>\n",
       "    <tr style=\"text-align: right;\">\n",
       "      <th></th>\n",
       "      <th>funded_amount</th>\n",
       "      <th>loan_amount</th>\n",
       "      <th>activity</th>\n",
       "      <th>sector</th>\n",
       "      <th>use</th>\n",
       "      <th>country_code</th>\n",
       "      <th>country</th>\n",
       "      <th>region</th>\n",
       "      <th>currency</th>\n",
       "      <th>term_in_months</th>\n",
       "      <th>lender_count</th>\n",
       "      <th>borrower_genders</th>\n",
       "      <th>repayment_interval</th>\n",
       "    </tr>\n",
       "  </thead>\n",
       "  <tbody>\n",
       "    <tr>\n",
       "      <th>671202</th>\n",
       "      <td>0.0</td>\n",
       "      <td>25.0</td>\n",
       "      <td>Games</td>\n",
       "      <td>Entertainment</td>\n",
       "      <td>NaN</td>\n",
       "      <td>KE</td>\n",
       "      <td>Kenya</td>\n",
       "      <td>NaN</td>\n",
       "      <td>KES</td>\n",
       "      <td>13.0</td>\n",
       "      <td>0</td>\n",
       "      <td>NaN</td>\n",
       "      <td>monthly</td>\n",
       "    </tr>\n",
       "    <tr>\n",
       "      <th>671203</th>\n",
       "      <td>0.0</td>\n",
       "      <td>25.0</td>\n",
       "      <td>Livestock</td>\n",
       "      <td>Agriculture</td>\n",
       "      <td>[True, u'to start a turducken farm.'] - this l...</td>\n",
       "      <td>KE</td>\n",
       "      <td>Kenya</td>\n",
       "      <td>NaN</td>\n",
       "      <td>KES</td>\n",
       "      <td>13.0</td>\n",
       "      <td>0</td>\n",
       "      <td>female</td>\n",
       "      <td>monthly</td>\n",
       "    </tr>\n",
       "    <tr>\n",
       "      <th>671204</th>\n",
       "      <td>0.0</td>\n",
       "      <td>25.0</td>\n",
       "      <td>Livestock</td>\n",
       "      <td>Agriculture</td>\n",
       "      <td>[True, u'to start a turducken farm.'] - this l...</td>\n",
       "      <td>KE</td>\n",
       "      <td>Kenya</td>\n",
       "      <td>NaN</td>\n",
       "      <td>KES</td>\n",
       "      <td>13.0</td>\n",
       "      <td>0</td>\n",
       "      <td>female</td>\n",
       "      <td>monthly</td>\n",
       "    </tr>\n",
       "  </tbody>\n",
       "</table>\n",
       "</div>"
      ],
      "text/plain": [
       "        funded_amount  loan_amount   activity         sector  \\\n",
       "671202            0.0         25.0      Games  Entertainment   \n",
       "671203            0.0         25.0  Livestock    Agriculture   \n",
       "671204            0.0         25.0  Livestock    Agriculture   \n",
       "\n",
       "                                                      use country_code  \\\n",
       "671202                                                NaN           KE   \n",
       "671203  [True, u'to start a turducken farm.'] - this l...           KE   \n",
       "671204  [True, u'to start a turducken farm.'] - this l...           KE   \n",
       "\n",
       "       country region currency  term_in_months  lender_count borrower_genders  \\\n",
       "671202   Kenya    NaN      KES            13.0             0              NaN   \n",
       "671203   Kenya    NaN      KES            13.0             0           female   \n",
       "671204   Kenya    NaN      KES            13.0             0           female   \n",
       "\n",
       "       repayment_interval  \n",
       "671202            monthly  \n",
       "671203            monthly  \n",
       "671204            monthly  "
      ]
     },
     "execution_count": 11,
     "metadata": {},
     "output_type": "execute_result"
    }
   ],
   "source": [
    "df_crowd.tail(3)"
   ]
  },
  {
   "cell_type": "markdown",
   "metadata": {},
   "source": [
    "- Hat funktioniert"
   ]
  },
  {
   "cell_type": "markdown",
   "metadata": {},
   "source": [
    "## Erste Inspektion der Spalten und Speicherplatz"
   ]
  },
  {
   "cell_type": "code",
   "execution_count": 12,
   "metadata": {
    "ExecuteTime": {
     "end_time": "2020-12-10T13:55:03.747843Z",
     "start_time": "2020-12-10T13:55:03.478451Z"
    }
   },
   "outputs": [
    {
     "name": "stdout",
     "output_type": "stream",
     "text": [
      "<class 'pandas.core.frame.DataFrame'>\n",
      "RangeIndex: 671205 entries, 0 to 671204\n",
      "Data columns (total 13 columns):\n",
      " #   Column              Non-Null Count   Dtype  \n",
      "---  ------              --------------   -----  \n",
      " 0   funded_amount       671205 non-null  float64\n",
      " 1   loan_amount         671205 non-null  float64\n",
      " 2   activity            671205 non-null  object \n",
      " 3   sector              671205 non-null  object \n",
      " 4   use                 666973 non-null  object \n",
      " 5   country_code        671197 non-null  object \n",
      " 6   country             671205 non-null  object \n",
      " 7   region              614405 non-null  object \n",
      " 8   currency            671205 non-null  object \n",
      " 9   term_in_months      671205 non-null  float64\n",
      " 10  lender_count        671205 non-null  int64  \n",
      " 11  borrower_genders    666984 non-null  object \n",
      " 12  repayment_interval  671205 non-null  object \n",
      "dtypes: float64(3), int64(1), object(9)\n",
      "memory usage: 66.6+ MB\n"
     ]
    }
   ],
   "source": [
    "df_crowd.info()"
   ]
  },
  {
   "cell_type": "markdown",
   "metadata": {},
   "source": [
    "- \"use\", \"country_code\", \"region\", \"borrower_genders\" haben NULL-Werte nach Konvention\n",
    "- \"use\" ist Freitext --> Text Mining notwendig\n",
    "- \"region\" könnte interessant sein für einen genaueren Blick auf ein Land\n",
    "    - Fehlende Werte in der Spalte müssen dann bleiben\n",
    "- \"activity\" erlaubt genaueren Blick auf die einzelen Sektoren\n",
    "    - Eventuell aber zuviel\n",
    "- \"repayment_interval\"\n",
    "    - hängt funded_amount von repayment Intervall ab\n",
    "    - repayment interval abhängig vom Land?\n",
    "    - repayment interval abhängig von den Borrowers?\n",
    "- Der Datensatz hat eine Größe von > 66mb mit mehr als 670000 Einträgen\n",
    "    - Spalten \"funded_amount\", \"loan_amount\" und \"term_in_months sind float können in Integer umgewandelt werden um den Datensatz zu verkleinern\n",
    "    - Spalte Currency ist nicht von Interesse, Information inhärent in country vorhanden\n",
    "    - Spalte country_code behalten, für darstellen in einer Karte\n",
    "    - Spalte repayment_interval wird behalten --> Mögliche zusammenhänge"
   ]
  },
  {
   "cell_type": "code",
   "execution_count": 13,
   "metadata": {
    "ExecuteTime": {
     "end_time": "2020-12-10T13:55:03.825175Z",
     "start_time": "2020-12-10T13:55:03.749346Z"
    }
   },
   "outputs": [],
   "source": [
    "#Spalte \"term_in_months\" in int umwandeln\n",
    "df_crowd[\"term_in_months\"] = df_crowd[\"term_in_months\"].astype(int)\n",
    "\n",
    "#Spalte \"loan_amount\" in int umwandeln\n",
    "df_crowd[\"loan_amount\"] = df_crowd[\"loan_amount\"].astype(int)\n",
    "\n",
    "#Spalte \"funded_amount\" in int umwandeln\n",
    "df_crowd[\"funded_amount\"] = df_crowd[\"funded_amount\"].astype(int)\n",
    "\n",
    "#Spalte \"currency löschen\"\n",
    "df_crowd.drop(columns=[\"currency\"], inplace=True)"
   ]
  },
  {
   "cell_type": "code",
   "execution_count": 14,
   "metadata": {
    "ExecuteTime": {
     "end_time": "2020-12-10T13:55:04.055132Z",
     "start_time": "2020-12-10T13:55:03.826863Z"
    }
   },
   "outputs": [
    {
     "name": "stdout",
     "output_type": "stream",
     "text": [
      "<class 'pandas.core.frame.DataFrame'>\n",
      "RangeIndex: 671205 entries, 0 to 671204\n",
      "Data columns (total 12 columns):\n",
      " #   Column              Non-Null Count   Dtype \n",
      "---  ------              --------------   ----- \n",
      " 0   funded_amount       671205 non-null  int64 \n",
      " 1   loan_amount         671205 non-null  int64 \n",
      " 2   activity            671205 non-null  object\n",
      " 3   sector              671205 non-null  object\n",
      " 4   use                 666973 non-null  object\n",
      " 5   country_code        671197 non-null  object\n",
      " 6   country             671205 non-null  object\n",
      " 7   region              614405 non-null  object\n",
      " 8   term_in_months      671205 non-null  int64 \n",
      " 9   lender_count        671205 non-null  int64 \n",
      " 10  borrower_genders    666984 non-null  object\n",
      " 11  repayment_interval  671205 non-null  object\n",
      "dtypes: int64(4), object(8)\n",
      "memory usage: 61.5+ MB\n"
     ]
    }
   ],
   "source": [
    "#Check ob alles funktioniert hat\n",
    "df_crowd.info()"
   ]
  },
  {
   "cell_type": "markdown",
   "metadata": {},
   "source": [
    "Hat funktioniert Speicherverbrauch um 5Mb gesunken"
   ]
  },
  {
   "cell_type": "markdown",
   "metadata": {},
   "source": [
    "## Fehlende Werte\n",
    "### Synonyme"
   ]
  },
  {
   "cell_type": "code",
   "execution_count": 15,
   "metadata": {
    "ExecuteTime": {
     "end_time": "2020-12-10T13:55:04.824025Z",
     "start_time": "2020-12-10T13:55:04.056813Z"
    }
   },
   "outputs": [
    {
     "data": {
      "text/plain": [
       "funded_amount         0\n",
       "loan_amount           0\n",
       "activity              0\n",
       "sector                0\n",
       "use                   1\n",
       "country_code          0\n",
       "country               0\n",
       "region                0\n",
       "term_in_months        0\n",
       "lender_count          0\n",
       "borrower_genders      0\n",
       "repayment_interval    0\n",
       "dtype: int64"
      ]
     },
     "execution_count": 15,
     "metadata": {},
     "output_type": "execute_result"
    }
   ],
   "source": [
    "#Mit Liste schauen welche Spalten Synonyme enhalten die zu ersetzen sind.\n",
    "missing_list = ['?', ' ', '', '-', 'dummy', 'dummy-must-be-changed', \"missing\", \"missing_value\", \"unknown\"]\n",
    "df_crowd.isin(missing_list).sum()"
   ]
  },
  {
   "cell_type": "markdown",
   "metadata": {},
   "source": [
    "In Spalte \"use\" kommt ein Synonym vor"
   ]
  },
  {
   "cell_type": "code",
   "execution_count": 16,
   "metadata": {
    "ExecuteTime": {
     "end_time": "2020-12-10T13:55:04.891344Z",
     "start_time": "2020-12-10T13:55:04.826479Z"
    }
   },
   "outputs": [
    {
     "data": {
      "text/html": [
       "<div>\n",
       "<style scoped>\n",
       "    .dataframe tbody tr th:only-of-type {\n",
       "        vertical-align: middle;\n",
       "    }\n",
       "\n",
       "    .dataframe tbody tr th {\n",
       "        vertical-align: top;\n",
       "    }\n",
       "\n",
       "    .dataframe thead th {\n",
       "        text-align: right;\n",
       "    }\n",
       "</style>\n",
       "<table border=\"1\" class=\"dataframe\">\n",
       "  <thead>\n",
       "    <tr style=\"text-align: right;\">\n",
       "      <th></th>\n",
       "      <th>funded_amount</th>\n",
       "      <th>loan_amount</th>\n",
       "      <th>activity</th>\n",
       "      <th>sector</th>\n",
       "      <th>use</th>\n",
       "      <th>country_code</th>\n",
       "      <th>country</th>\n",
       "      <th>region</th>\n",
       "      <th>term_in_months</th>\n",
       "      <th>lender_count</th>\n",
       "      <th>borrower_genders</th>\n",
       "      <th>repayment_interval</th>\n",
       "    </tr>\n",
       "  </thead>\n",
       "  <tbody>\n",
       "    <tr>\n",
       "      <th>121644</th>\n",
       "      <td>1350</td>\n",
       "      <td>1350</td>\n",
       "      <td>Fish Selling</td>\n",
       "      <td>Food</td>\n",
       "      <td></td>\n",
       "      <td>CO</td>\n",
       "      <td>Colombia</td>\n",
       "      <td>Soledad Atlàntico</td>\n",
       "      <td>14</td>\n",
       "      <td>54</td>\n",
       "      <td>female</td>\n",
       "      <td>monthly</td>\n",
       "    </tr>\n",
       "  </tbody>\n",
       "</table>\n",
       "</div>"
      ],
      "text/plain": [
       "        funded_amount  loan_amount      activity sector use country_code  \\\n",
       "121644           1350         1350  Fish Selling   Food               CO   \n",
       "\n",
       "         country             region  term_in_months  lender_count  \\\n",
       "121644  Colombia  Soledad Atlàntico              14            54   \n",
       "\n",
       "       borrower_genders repayment_interval  \n",
       "121644           female            monthly  "
      ]
     },
     "execution_count": 16,
     "metadata": {},
     "output_type": "execute_result"
    }
   ],
   "source": [
    "df_crowd.loc[df_crowd[\"use\"].isin(missing_list)]"
   ]
  },
  {
   "cell_type": "markdown",
   "metadata": {},
   "source": [
    "Was wir damit machen entscheidet sich nach der Suche von Konventionen"
   ]
  },
  {
   "cell_type": "markdown",
   "metadata": {},
   "source": [
    "### Konventionen"
   ]
  },
  {
   "cell_type": "code",
   "execution_count": 17,
   "metadata": {
    "ExecuteTime": {
     "end_time": "2020-12-10T13:55:05.116212Z",
     "start_time": "2020-12-10T13:55:04.893145Z"
    }
   },
   "outputs": [
    {
     "data": {
      "text/plain": [
       "funded_amount             0\n",
       "loan_amount               0\n",
       "activity                  0\n",
       "sector                    0\n",
       "use                    4232\n",
       "country_code              8\n",
       "country                   0\n",
       "region                56800\n",
       "term_in_months            0\n",
       "lender_count              0\n",
       "borrower_genders       4221\n",
       "repayment_interval        0\n",
       "dtype: int64"
      ]
     },
     "execution_count": 17,
     "metadata": {},
     "output_type": "execute_result"
    }
   ],
   "source": [
    "#Nach Konventionen schauen\n",
    "df_crowd.isnull().sum()"
   ]
  },
  {
   "cell_type": "markdown",
   "metadata": {},
   "source": [
    "### Behandlung der Werte"
   ]
  },
  {
   "cell_type": "markdown",
   "metadata": {},
   "source": [
    "- Spalten \"use\", \"region\" und \"borrower_genders\", \"country_code\" haben fehlende Werte\n",
    "    - Die Informationen von \"use\" sind in den Spalten \"sector\" und \"activity\" beinhaltet\n",
    "        - --> \"use\" könnte gelöscht werden (keine Zeit für Textanalyse). Ich lasse die Werte drin und ändere sie in einen leeren String um bei interessanten Projekten weitere Informationen zu haben\n",
    "    - In Spalte \"borrower_genders\" genauer nachschauen\n",
    "        - Betriftt wieviel Prozent der Einträge?\n",
    "        - Bei weniger als 1% können Werte gelöscht werden ohne Einfluss auf die Statistik zu haben\n",
    "    - Informationen aus \"region\" sind in \"country\" beinhaltet\n",
    "        - für Analyse einzelner Länder von Interesse\n",
    "        - Betrifft wieviel Prozent der Einträge?\n",
    "    - country code ist in country beinhaltet, aber nützlich für weitere Auswertung\n",
    "        - Welche Länder, wie ersetzen?"
   ]
  },
  {
   "cell_type": "code",
   "execution_count": 18,
   "metadata": {
    "ExecuteTime": {
     "end_time": "2020-12-10T13:55:05.227925Z",
     "start_time": "2020-12-10T13:55:05.117830Z"
    }
   },
   "outputs": [
    {
     "data": {
      "text/plain": [
       "0"
      ]
     },
     "execution_count": 18,
     "metadata": {},
     "output_type": "execute_result"
    }
   ],
   "source": [
    "#Fehlende Werte in \"use\" durch leeren String ersetzen\n",
    "df_crowd[\"use\"].replace({np.nan: \"\"}, inplace=True)\n",
    "df_crowd[\"use\"].isnull().sum()"
   ]
  },
  {
   "cell_type": "code",
   "execution_count": 19,
   "metadata": {
    "ExecuteTime": {
     "end_time": "2020-12-10T13:55:05.259812Z",
     "start_time": "2020-12-10T13:55:05.230300Z"
    }
   },
   "outputs": [
    {
     "data": {
      "text/plain": [
       "8.46239226465834"
      ]
     },
     "execution_count": 19,
     "metadata": {},
     "output_type": "execute_result"
    }
   ],
   "source": [
    "#Wie viel Prozent der Einträge in Region betroffen?\n",
    "df_crowd[\"region\"].isnull().sum() / len(df_crowd[\"region\"]) *100"
   ]
  },
  {
   "cell_type": "markdown",
   "metadata": {},
   "source": [
    "Es sind 8.46% der Einträge betroffen --> Spalte behalten um später Länder nach Regionen auswerten zu können"
   ]
  },
  {
   "cell_type": "code",
   "execution_count": 20,
   "metadata": {
    "ExecuteTime": {
     "end_time": "2020-12-10T13:55:05.294339Z",
     "start_time": "2020-12-10T13:55:05.261220Z"
    }
   },
   "outputs": [
    {
     "data": {
      "text/plain": [
       "0.6288689744563881"
      ]
     },
     "execution_count": 20,
     "metadata": {},
     "output_type": "execute_result"
    }
   ],
   "source": [
    "#Wie viel Prozent der Einträge in borrower_gender sind betroffen\n",
    "df_crowd[\"borrower_genders\"].isnull().sum() / len(df_crowd[\"borrower_genders\"]) *100"
   ]
  },
  {
   "cell_type": "markdown",
   "metadata": {},
   "source": [
    "Es sind weniger als 1% der Daten betroffen --> die Einträge können gelöscht werden"
   ]
  },
  {
   "cell_type": "code",
   "execution_count": 21,
   "metadata": {
    "ExecuteTime": {
     "end_time": "2020-12-10T13:55:05.662540Z",
     "start_time": "2020-12-10T13:55:05.296851Z"
    }
   },
   "outputs": [
    {
     "name": "stdout",
     "output_type": "stream",
     "text": [
      "funded_amount             0\n",
      "loan_amount               0\n",
      "activity                  0\n",
      "sector                    0\n",
      "use                       0\n",
      "country_code              8\n",
      "country                   0\n",
      "region                52579\n",
      "term_in_months            0\n",
      "lender_count              0\n",
      "borrower_genders          0\n",
      "repayment_interval        0\n",
      "dtype: int64\n"
     ]
    },
    {
     "data": {
      "text/html": [
       "<div>\n",
       "<style scoped>\n",
       "    .dataframe tbody tr th:only-of-type {\n",
       "        vertical-align: middle;\n",
       "    }\n",
       "\n",
       "    .dataframe tbody tr th {\n",
       "        vertical-align: top;\n",
       "    }\n",
       "\n",
       "    .dataframe thead th {\n",
       "        text-align: right;\n",
       "    }\n",
       "</style>\n",
       "<table border=\"1\" class=\"dataframe\">\n",
       "  <thead>\n",
       "    <tr style=\"text-align: right;\">\n",
       "      <th></th>\n",
       "      <th>funded_amount</th>\n",
       "      <th>loan_amount</th>\n",
       "      <th>activity</th>\n",
       "      <th>sector</th>\n",
       "      <th>use</th>\n",
       "      <th>country_code</th>\n",
       "      <th>country</th>\n",
       "      <th>region</th>\n",
       "      <th>term_in_months</th>\n",
       "      <th>lender_count</th>\n",
       "      <th>borrower_genders</th>\n",
       "      <th>repayment_interval</th>\n",
       "    </tr>\n",
       "  </thead>\n",
       "  <tbody>\n",
       "    <tr>\n",
       "      <th>0</th>\n",
       "      <td>300</td>\n",
       "      <td>300</td>\n",
       "      <td>Fruits &amp; Vegetables</td>\n",
       "      <td>Food</td>\n",
       "      <td>To buy seasonal, fresh fruits to sell.</td>\n",
       "      <td>PK</td>\n",
       "      <td>Pakistan</td>\n",
       "      <td>Lahore</td>\n",
       "      <td>12</td>\n",
       "      <td>12</td>\n",
       "      <td>female</td>\n",
       "      <td>irregular</td>\n",
       "    </tr>\n",
       "    <tr>\n",
       "      <th>1</th>\n",
       "      <td>575</td>\n",
       "      <td>575</td>\n",
       "      <td>Rickshaw</td>\n",
       "      <td>Transportation</td>\n",
       "      <td>to repair and maintain the auto rickshaw used ...</td>\n",
       "      <td>PK</td>\n",
       "      <td>Pakistan</td>\n",
       "      <td>Lahore</td>\n",
       "      <td>11</td>\n",
       "      <td>14</td>\n",
       "      <td>female, female</td>\n",
       "      <td>irregular</td>\n",
       "    </tr>\n",
       "    <tr>\n",
       "      <th>2</th>\n",
       "      <td>150</td>\n",
       "      <td>150</td>\n",
       "      <td>Transportation</td>\n",
       "      <td>Transportation</td>\n",
       "      <td>To repair their old cycle-van and buy another ...</td>\n",
       "      <td>IN</td>\n",
       "      <td>India</td>\n",
       "      <td>Maynaguri</td>\n",
       "      <td>43</td>\n",
       "      <td>6</td>\n",
       "      <td>female</td>\n",
       "      <td>bullet</td>\n",
       "    </tr>\n",
       "  </tbody>\n",
       "</table>\n",
       "</div>"
      ],
      "text/plain": [
       "   funded_amount  loan_amount             activity          sector  \\\n",
       "0            300          300  Fruits & Vegetables            Food   \n",
       "1            575          575             Rickshaw  Transportation   \n",
       "2            150          150       Transportation  Transportation   \n",
       "\n",
       "                                                 use country_code   country  \\\n",
       "0            To buy seasonal, fresh fruits to sell.            PK  Pakistan   \n",
       "1  to repair and maintain the auto rickshaw used ...           PK  Pakistan   \n",
       "2  To repair their old cycle-van and buy another ...           IN     India   \n",
       "\n",
       "      region  term_in_months  lender_count borrower_genders repayment_interval  \n",
       "0     Lahore              12            12           female          irregular  \n",
       "1     Lahore              11            14   female, female          irregular  \n",
       "2  Maynaguri              43             6           female             bullet  "
      ]
     },
     "execution_count": 21,
     "metadata": {},
     "output_type": "execute_result"
    }
   ],
   "source": [
    "#Nur Zeilen in Dataframe belassen bei denen \"borrower_genders\" nicht NULL ist\n",
    "df_crowd = df_crowd.loc[~df_crowd[\"borrower_genders\"].isnull()]\n",
    "\n",
    "#Index neu machen\n",
    "df_crowd.reset_index(inplace=True, drop=True)\n",
    "\n",
    "#Überprüfen ob geklappt\n",
    "print(df_crowd.isnull().sum())\n",
    "df_crowd.head(3)"
   ]
  },
  {
   "cell_type": "code",
   "execution_count": 22,
   "metadata": {
    "ExecuteTime": {
     "end_time": "2020-12-10T13:55:05.715778Z",
     "start_time": "2020-12-10T13:55:05.663861Z"
    }
   },
   "outputs": [
    {
     "data": {
      "text/html": [
       "<div>\n",
       "<style scoped>\n",
       "    .dataframe tbody tr th:only-of-type {\n",
       "        vertical-align: middle;\n",
       "    }\n",
       "\n",
       "    .dataframe tbody tr th {\n",
       "        vertical-align: top;\n",
       "    }\n",
       "\n",
       "    .dataframe thead th {\n",
       "        text-align: right;\n",
       "    }\n",
       "</style>\n",
       "<table border=\"1\" class=\"dataframe\">\n",
       "  <thead>\n",
       "    <tr style=\"text-align: right;\">\n",
       "      <th></th>\n",
       "      <th>funded_amount</th>\n",
       "      <th>loan_amount</th>\n",
       "      <th>activity</th>\n",
       "      <th>sector</th>\n",
       "      <th>use</th>\n",
       "      <th>country_code</th>\n",
       "      <th>country</th>\n",
       "      <th>region</th>\n",
       "      <th>term_in_months</th>\n",
       "      <th>lender_count</th>\n",
       "      <th>borrower_genders</th>\n",
       "      <th>repayment_interval</th>\n",
       "    </tr>\n",
       "  </thead>\n",
       "  <tbody>\n",
       "    <tr>\n",
       "      <th>199747</th>\n",
       "      <td>4150</td>\n",
       "      <td>4150</td>\n",
       "      <td>Wholesale</td>\n",
       "      <td>Wholesale</td>\n",
       "      <td>To purchase lighting products for sale to loca...</td>\n",
       "      <td>NaN</td>\n",
       "      <td>Namibia</td>\n",
       "      <td>EEnhana</td>\n",
       "      <td>6</td>\n",
       "      <td>162</td>\n",
       "      <td>female</td>\n",
       "      <td>bullet</td>\n",
       "    </tr>\n",
       "    <tr>\n",
       "      <th>200031</th>\n",
       "      <td>4150</td>\n",
       "      <td>4150</td>\n",
       "      <td>Wholesale</td>\n",
       "      <td>Wholesale</td>\n",
       "      <td>To purchase lighting products for sale to loca...</td>\n",
       "      <td>NaN</td>\n",
       "      <td>Namibia</td>\n",
       "      <td>Rundu</td>\n",
       "      <td>6</td>\n",
       "      <td>159</td>\n",
       "      <td>male</td>\n",
       "      <td>bullet</td>\n",
       "    </tr>\n",
       "    <tr>\n",
       "      <th>341192</th>\n",
       "      <td>3325</td>\n",
       "      <td>3325</td>\n",
       "      <td>Wholesale</td>\n",
       "      <td>Wholesale</td>\n",
       "      <td>To purchase lighting products for sale to loca...</td>\n",
       "      <td>NaN</td>\n",
       "      <td>Namibia</td>\n",
       "      <td>EEnhana</td>\n",
       "      <td>7</td>\n",
       "      <td>120</td>\n",
       "      <td>female</td>\n",
       "      <td>bullet</td>\n",
       "    </tr>\n",
       "    <tr>\n",
       "      <th>347422</th>\n",
       "      <td>3325</td>\n",
       "      <td>3325</td>\n",
       "      <td>Wholesale</td>\n",
       "      <td>Wholesale</td>\n",
       "      <td>To purchase lighting products for sale to loca...</td>\n",
       "      <td>NaN</td>\n",
       "      <td>Namibia</td>\n",
       "      <td>Rundu</td>\n",
       "      <td>7</td>\n",
       "      <td>126</td>\n",
       "      <td>male</td>\n",
       "      <td>bullet</td>\n",
       "    </tr>\n",
       "    <tr>\n",
       "      <th>417041</th>\n",
       "      <td>3325</td>\n",
       "      <td>3325</td>\n",
       "      <td>Wholesale</td>\n",
       "      <td>Wholesale</td>\n",
       "      <td>To purchase lighting products for sale to loca...</td>\n",
       "      <td>NaN</td>\n",
       "      <td>Namibia</td>\n",
       "      <td>EEnhana</td>\n",
       "      <td>7</td>\n",
       "      <td>118</td>\n",
       "      <td>female</td>\n",
       "      <td>bullet</td>\n",
       "    </tr>\n",
       "    <tr>\n",
       "      <th>417306</th>\n",
       "      <td>4000</td>\n",
       "      <td>4000</td>\n",
       "      <td>Wholesale</td>\n",
       "      <td>Wholesale</td>\n",
       "      <td>purchase solar lighting products for sale to l...</td>\n",
       "      <td>NaN</td>\n",
       "      <td>Namibia</td>\n",
       "      <td>Rundu</td>\n",
       "      <td>7</td>\n",
       "      <td>150</td>\n",
       "      <td>male</td>\n",
       "      <td>bullet</td>\n",
       "    </tr>\n",
       "    <tr>\n",
       "      <th>483202</th>\n",
       "      <td>5100</td>\n",
       "      <td>5100</td>\n",
       "      <td>Renewable Energy Products</td>\n",
       "      <td>Retail</td>\n",
       "      <td>to pay for stock of solar lights and cell phon...</td>\n",
       "      <td>NaN</td>\n",
       "      <td>Namibia</td>\n",
       "      <td>Katima Mulilo</td>\n",
       "      <td>7</td>\n",
       "      <td>183</td>\n",
       "      <td>male</td>\n",
       "      <td>bullet</td>\n",
       "    </tr>\n",
       "    <tr>\n",
       "      <th>483647</th>\n",
       "      <td>5000</td>\n",
       "      <td>5000</td>\n",
       "      <td>Wholesale</td>\n",
       "      <td>Wholesale</td>\n",
       "      <td>to maintain a stock of solar lights and cell p...</td>\n",
       "      <td>NaN</td>\n",
       "      <td>Namibia</td>\n",
       "      <td>Oshakati</td>\n",
       "      <td>7</td>\n",
       "      <td>183</td>\n",
       "      <td>female</td>\n",
       "      <td>bullet</td>\n",
       "    </tr>\n",
       "  </tbody>\n",
       "</table>\n",
       "</div>"
      ],
      "text/plain": [
       "        funded_amount  loan_amount                   activity     sector  \\\n",
       "199747           4150         4150                  Wholesale  Wholesale   \n",
       "200031           4150         4150                  Wholesale  Wholesale   \n",
       "341192           3325         3325                  Wholesale  Wholesale   \n",
       "347422           3325         3325                  Wholesale  Wholesale   \n",
       "417041           3325         3325                  Wholesale  Wholesale   \n",
       "417306           4000         4000                  Wholesale  Wholesale   \n",
       "483202           5100         5100  Renewable Energy Products     Retail   \n",
       "483647           5000         5000                  Wholesale  Wholesale   \n",
       "\n",
       "                                                      use country_code  \\\n",
       "199747  To purchase lighting products for sale to loca...          NaN   \n",
       "200031  To purchase lighting products for sale to loca...          NaN   \n",
       "341192  To purchase lighting products for sale to loca...          NaN   \n",
       "347422  To purchase lighting products for sale to loca...          NaN   \n",
       "417041  To purchase lighting products for sale to loca...          NaN   \n",
       "417306  purchase solar lighting products for sale to l...          NaN   \n",
       "483202  to pay for stock of solar lights and cell phon...          NaN   \n",
       "483647  to maintain a stock of solar lights and cell p...          NaN   \n",
       "\n",
       "        country         region  term_in_months  lender_count borrower_genders  \\\n",
       "199747  Namibia        EEnhana               6           162           female   \n",
       "200031  Namibia          Rundu               6           159             male   \n",
       "341192  Namibia        EEnhana               7           120           female   \n",
       "347422  Namibia          Rundu               7           126             male   \n",
       "417041  Namibia        EEnhana               7           118           female   \n",
       "417306  Namibia          Rundu               7           150             male   \n",
       "483202  Namibia  Katima Mulilo               7           183             male   \n",
       "483647  Namibia       Oshakati               7           183           female   \n",
       "\n",
       "       repayment_interval  \n",
       "199747             bullet  \n",
       "200031             bullet  \n",
       "341192             bullet  \n",
       "347422             bullet  \n",
       "417041             bullet  \n",
       "417306             bullet  \n",
       "483202             bullet  \n",
       "483647             bullet  "
      ]
     },
     "execution_count": 22,
     "metadata": {},
     "output_type": "execute_result"
    }
   ],
   "source": [
    "#fehlende Werte in country_code anschauen\n",
    "df_crowd.loc[df_crowd[\"country_code\"].isnull()]"
   ]
  },
  {
   "cell_type": "markdown",
   "metadata": {},
   "source": [
    "Scheint nur Namibia zu betreffen"
   ]
  },
  {
   "cell_type": "code",
   "execution_count": 23,
   "metadata": {
    "ExecuteTime": {
     "end_time": "2020-12-10T13:55:05.817459Z",
     "start_time": "2020-12-10T13:55:05.720001Z"
    }
   },
   "outputs": [
    {
     "data": {
      "text/html": [
       "<div>\n",
       "<style scoped>\n",
       "    .dataframe tbody tr th:only-of-type {\n",
       "        vertical-align: middle;\n",
       "    }\n",
       "\n",
       "    .dataframe tbody tr th {\n",
       "        vertical-align: top;\n",
       "    }\n",
       "\n",
       "    .dataframe thead th {\n",
       "        text-align: right;\n",
       "    }\n",
       "</style>\n",
       "<table border=\"1\" class=\"dataframe\">\n",
       "  <thead>\n",
       "    <tr style=\"text-align: right;\">\n",
       "      <th></th>\n",
       "      <th>funded_amount</th>\n",
       "      <th>loan_amount</th>\n",
       "      <th>activity</th>\n",
       "      <th>sector</th>\n",
       "      <th>use</th>\n",
       "      <th>country_code</th>\n",
       "      <th>country</th>\n",
       "      <th>region</th>\n",
       "      <th>term_in_months</th>\n",
       "      <th>lender_count</th>\n",
       "      <th>borrower_genders</th>\n",
       "      <th>repayment_interval</th>\n",
       "    </tr>\n",
       "  </thead>\n",
       "  <tbody>\n",
       "  </tbody>\n",
       "</table>\n",
       "</div>"
      ],
      "text/plain": [
       "Empty DataFrame\n",
       "Columns: [funded_amount, loan_amount, activity, sector, use, country_code, country, region, term_in_months, lender_count, borrower_genders, repayment_interval]\n",
       "Index: []"
      ]
     },
     "execution_count": 23,
     "metadata": {},
     "output_type": "execute_result"
    }
   ],
   "source": [
    "#Checken ob das stimmt\n",
    "df_crowd.loc[(df_crowd[\"country_code\"].isnull()) & (df_crowd[\"country\"] != \"Namibia\")]"
   ]
  },
  {
   "cell_type": "code",
   "execution_count": 24,
   "metadata": {
    "ExecuteTime": {
     "end_time": "2020-12-10T13:55:05.920033Z",
     "start_time": "2020-12-10T13:55:05.821944Z"
    }
   },
   "outputs": [
    {
     "data": {
      "text/html": [
       "<div>\n",
       "<style scoped>\n",
       "    .dataframe tbody tr th:only-of-type {\n",
       "        vertical-align: middle;\n",
       "    }\n",
       "\n",
       "    .dataframe tbody tr th {\n",
       "        vertical-align: top;\n",
       "    }\n",
       "\n",
       "    .dataframe thead th {\n",
       "        text-align: right;\n",
       "    }\n",
       "</style>\n",
       "<table border=\"1\" class=\"dataframe\">\n",
       "  <thead>\n",
       "    <tr style=\"text-align: right;\">\n",
       "      <th></th>\n",
       "      <th>funded_amount</th>\n",
       "      <th>loan_amount</th>\n",
       "      <th>activity</th>\n",
       "      <th>sector</th>\n",
       "      <th>use</th>\n",
       "      <th>country_code</th>\n",
       "      <th>country</th>\n",
       "      <th>region</th>\n",
       "      <th>term_in_months</th>\n",
       "      <th>lender_count</th>\n",
       "      <th>borrower_genders</th>\n",
       "      <th>repayment_interval</th>\n",
       "    </tr>\n",
       "  </thead>\n",
       "  <tbody>\n",
       "  </tbody>\n",
       "</table>\n",
       "</div>"
      ],
      "text/plain": [
       "Empty DataFrame\n",
       "Columns: [funded_amount, loan_amount, activity, sector, use, country_code, country, region, term_in_months, lender_count, borrower_genders, repayment_interval]\n",
       "Index: []"
      ]
     },
     "execution_count": 24,
     "metadata": {},
     "output_type": "execute_result"
    }
   ],
   "source": [
    "#Hat Namibia noch andere country codes?\n",
    "df_crowd.loc[(~df_crowd[\"country_code\"].isnull()) & (df_crowd[\"country\"] == \"Namibia\")]"
   ]
  },
  {
   "cell_type": "markdown",
   "metadata": {},
   "source": [
    "Namibia als country_code ist schwierig. Werte ersetzen durch \"NA\" (aus https://de.wikipedia.org/wiki/ISO-3166-1-Kodierliste)"
   ]
  },
  {
   "cell_type": "code",
   "execution_count": 25,
   "metadata": {
    "ExecuteTime": {
     "end_time": "2020-12-10T13:55:06.031780Z",
     "start_time": "2020-12-10T13:55:05.921612Z"
    }
   },
   "outputs": [
    {
     "data": {
      "text/html": [
       "<div>\n",
       "<style scoped>\n",
       "    .dataframe tbody tr th:only-of-type {\n",
       "        vertical-align: middle;\n",
       "    }\n",
       "\n",
       "    .dataframe tbody tr th {\n",
       "        vertical-align: top;\n",
       "    }\n",
       "\n",
       "    .dataframe thead th {\n",
       "        text-align: right;\n",
       "    }\n",
       "</style>\n",
       "<table border=\"1\" class=\"dataframe\">\n",
       "  <thead>\n",
       "    <tr style=\"text-align: right;\">\n",
       "      <th></th>\n",
       "      <th>funded_amount</th>\n",
       "      <th>loan_amount</th>\n",
       "      <th>activity</th>\n",
       "      <th>sector</th>\n",
       "      <th>use</th>\n",
       "      <th>country_code</th>\n",
       "      <th>country</th>\n",
       "      <th>region</th>\n",
       "      <th>term_in_months</th>\n",
       "      <th>lender_count</th>\n",
       "      <th>borrower_genders</th>\n",
       "      <th>repayment_interval</th>\n",
       "    </tr>\n",
       "  </thead>\n",
       "  <tbody>\n",
       "    <tr>\n",
       "      <th>199747</th>\n",
       "      <td>4150</td>\n",
       "      <td>4150</td>\n",
       "      <td>Wholesale</td>\n",
       "      <td>Wholesale</td>\n",
       "      <td>To purchase lighting products for sale to loca...</td>\n",
       "      <td>NA</td>\n",
       "      <td>Namibia</td>\n",
       "      <td>EEnhana</td>\n",
       "      <td>6</td>\n",
       "      <td>162</td>\n",
       "      <td>female</td>\n",
       "      <td>bullet</td>\n",
       "    </tr>\n",
       "    <tr>\n",
       "      <th>200031</th>\n",
       "      <td>4150</td>\n",
       "      <td>4150</td>\n",
       "      <td>Wholesale</td>\n",
       "      <td>Wholesale</td>\n",
       "      <td>To purchase lighting products for sale to loca...</td>\n",
       "      <td>NA</td>\n",
       "      <td>Namibia</td>\n",
       "      <td>Rundu</td>\n",
       "      <td>6</td>\n",
       "      <td>159</td>\n",
       "      <td>male</td>\n",
       "      <td>bullet</td>\n",
       "    </tr>\n",
       "    <tr>\n",
       "      <th>341192</th>\n",
       "      <td>3325</td>\n",
       "      <td>3325</td>\n",
       "      <td>Wholesale</td>\n",
       "      <td>Wholesale</td>\n",
       "      <td>To purchase lighting products for sale to loca...</td>\n",
       "      <td>NA</td>\n",
       "      <td>Namibia</td>\n",
       "      <td>EEnhana</td>\n",
       "      <td>7</td>\n",
       "      <td>120</td>\n",
       "      <td>female</td>\n",
       "      <td>bullet</td>\n",
       "    </tr>\n",
       "    <tr>\n",
       "      <th>347422</th>\n",
       "      <td>3325</td>\n",
       "      <td>3325</td>\n",
       "      <td>Wholesale</td>\n",
       "      <td>Wholesale</td>\n",
       "      <td>To purchase lighting products for sale to loca...</td>\n",
       "      <td>NA</td>\n",
       "      <td>Namibia</td>\n",
       "      <td>Rundu</td>\n",
       "      <td>7</td>\n",
       "      <td>126</td>\n",
       "      <td>male</td>\n",
       "      <td>bullet</td>\n",
       "    </tr>\n",
       "    <tr>\n",
       "      <th>417041</th>\n",
       "      <td>3325</td>\n",
       "      <td>3325</td>\n",
       "      <td>Wholesale</td>\n",
       "      <td>Wholesale</td>\n",
       "      <td>To purchase lighting products for sale to loca...</td>\n",
       "      <td>NA</td>\n",
       "      <td>Namibia</td>\n",
       "      <td>EEnhana</td>\n",
       "      <td>7</td>\n",
       "      <td>118</td>\n",
       "      <td>female</td>\n",
       "      <td>bullet</td>\n",
       "    </tr>\n",
       "    <tr>\n",
       "      <th>417306</th>\n",
       "      <td>4000</td>\n",
       "      <td>4000</td>\n",
       "      <td>Wholesale</td>\n",
       "      <td>Wholesale</td>\n",
       "      <td>purchase solar lighting products for sale to l...</td>\n",
       "      <td>NA</td>\n",
       "      <td>Namibia</td>\n",
       "      <td>Rundu</td>\n",
       "      <td>7</td>\n",
       "      <td>150</td>\n",
       "      <td>male</td>\n",
       "      <td>bullet</td>\n",
       "    </tr>\n",
       "    <tr>\n",
       "      <th>483202</th>\n",
       "      <td>5100</td>\n",
       "      <td>5100</td>\n",
       "      <td>Renewable Energy Products</td>\n",
       "      <td>Retail</td>\n",
       "      <td>to pay for stock of solar lights and cell phon...</td>\n",
       "      <td>NA</td>\n",
       "      <td>Namibia</td>\n",
       "      <td>Katima Mulilo</td>\n",
       "      <td>7</td>\n",
       "      <td>183</td>\n",
       "      <td>male</td>\n",
       "      <td>bullet</td>\n",
       "    </tr>\n",
       "    <tr>\n",
       "      <th>483647</th>\n",
       "      <td>5000</td>\n",
       "      <td>5000</td>\n",
       "      <td>Wholesale</td>\n",
       "      <td>Wholesale</td>\n",
       "      <td>to maintain a stock of solar lights and cell p...</td>\n",
       "      <td>NA</td>\n",
       "      <td>Namibia</td>\n",
       "      <td>Oshakati</td>\n",
       "      <td>7</td>\n",
       "      <td>183</td>\n",
       "      <td>female</td>\n",
       "      <td>bullet</td>\n",
       "    </tr>\n",
       "  </tbody>\n",
       "</table>\n",
       "</div>"
      ],
      "text/plain": [
       "        funded_amount  loan_amount                   activity     sector  \\\n",
       "199747           4150         4150                  Wholesale  Wholesale   \n",
       "200031           4150         4150                  Wholesale  Wholesale   \n",
       "341192           3325         3325                  Wholesale  Wholesale   \n",
       "347422           3325         3325                  Wholesale  Wholesale   \n",
       "417041           3325         3325                  Wholesale  Wholesale   \n",
       "417306           4000         4000                  Wholesale  Wholesale   \n",
       "483202           5100         5100  Renewable Energy Products     Retail   \n",
       "483647           5000         5000                  Wholesale  Wholesale   \n",
       "\n",
       "                                                      use country_code  \\\n",
       "199747  To purchase lighting products for sale to loca...           NA   \n",
       "200031  To purchase lighting products for sale to loca...           NA   \n",
       "341192  To purchase lighting products for sale to loca...           NA   \n",
       "347422  To purchase lighting products for sale to loca...           NA   \n",
       "417041  To purchase lighting products for sale to loca...           NA   \n",
       "417306  purchase solar lighting products for sale to l...           NA   \n",
       "483202  to pay for stock of solar lights and cell phon...           NA   \n",
       "483647  to maintain a stock of solar lights and cell p...           NA   \n",
       "\n",
       "        country         region  term_in_months  lender_count borrower_genders  \\\n",
       "199747  Namibia        EEnhana               6           162           female   \n",
       "200031  Namibia          Rundu               6           159             male   \n",
       "341192  Namibia        EEnhana               7           120           female   \n",
       "347422  Namibia          Rundu               7           126             male   \n",
       "417041  Namibia        EEnhana               7           118           female   \n",
       "417306  Namibia          Rundu               7           150             male   \n",
       "483202  Namibia  Katima Mulilo               7           183             male   \n",
       "483647  Namibia       Oshakati               7           183           female   \n",
       "\n",
       "       repayment_interval  \n",
       "199747             bullet  \n",
       "200031             bullet  \n",
       "341192             bullet  \n",
       "347422             bullet  \n",
       "417041             bullet  \n",
       "417306             bullet  \n",
       "483202             bullet  \n",
       "483647             bullet  "
      ]
     },
     "execution_count": 25,
     "metadata": {},
     "output_type": "execute_result"
    }
   ],
   "source": [
    "#Werte ersetzen nicht mit Replace um sicherzugehen, dass wir wirklich nur Namibia ersetzen\n",
    "df_crowd.loc[df_crowd[\"country\"] == \"Namibia\", \"country_code\"] = 'NA'\n",
    "df_crowd.loc[df_crowd[\"country\"] == \"Namibia\"]"
   ]
  },
  {
   "cell_type": "code",
   "execution_count": 26,
   "metadata": {
    "ExecuteTime": {
     "end_time": "2020-12-10T13:55:06.064685Z",
     "start_time": "2020-12-10T13:55:06.033078Z"
    }
   },
   "outputs": [
    {
     "data": {
      "text/plain": [
       "0"
      ]
     },
     "execution_count": 26,
     "metadata": {},
     "output_type": "execute_result"
    }
   ],
   "source": [
    "#Wird nicht mehr als NULL betrachtet?\n",
    "df_crowd[\"country_code\"].isnull().sum()"
   ]
  },
  {
   "cell_type": "markdown",
   "metadata": {},
   "source": [
    "## Inspektion / Pairplot"
   ]
  },
  {
   "cell_type": "code",
   "execution_count": 27,
   "metadata": {
    "ExecuteTime": {
     "end_time": "2020-12-10T13:56:00.382405Z",
     "start_time": "2020-12-10T13:55:06.067839Z"
    }
   },
   "outputs": [
    {
     "data": {
      "text/plain": [
       "<seaborn.axisgrid.PairGrid at 0x7f8913d27ed0>"
      ]
     },
     "execution_count": 27,
     "metadata": {},
     "output_type": "execute_result"
    },
    {
     "data": {
      "image/png": "[encoded data removed]",
      "text/plain": [
       "<Figure size 720x720 with 14 Axes>"
      ]
     },
     "metadata": {
      "needs_background": "light"
     },
     "output_type": "display_data"
    }
   ],
   "source": [
    "#Pairplot\n",
    "sns.pairplot(df_crowd, corner=True, vars=[\"funded_amount\", \"loan_amount\", \"term_in_months\", \"lender_count\"])"
   ]
  },
  {
   "cell_type": "markdown",
   "metadata": {},
   "source": [
    "- funded_amount und loan_amount haben linearen Zusammenhang\n",
    "    - hier sind gerade die Fälle interessant bei denen das nicht zutrifft (mehr Geld bekommen als den Zielwert)\n",
    "- loan_amount und funded_amount haben einen Ausreißer\n",
    "    - was für ein Projekt ist das?\n",
    "- Loan_amount und funded_amount haben eine quasi Barriere bei 50000 USD außer den Ausreißer gibt es dort keine größeren Werte\n",
    "- lender_count hat einen Ausreißer mit ~3000\n",
    "    - Ausreißer oder cooles Projekt?\n",
    "- Ausreißer macht Plot schwer zu interpretieren"
   ]
  },
  {
   "cell_type": "code",
   "execution_count": 28,
   "metadata": {
    "ExecuteTime": {
     "end_time": "2020-12-10T13:56:00.482717Z",
     "start_time": "2020-12-10T13:56:00.384051Z"
    }
   },
   "outputs": [
    {
     "data": {
      "text/html": [
       "<div>\n",
       "<style scoped>\n",
       "    .dataframe tbody tr th:only-of-type {\n",
       "        vertical-align: middle;\n",
       "    }\n",
       "\n",
       "    .dataframe tbody tr th {\n",
       "        vertical-align: top;\n",
       "    }\n",
       "\n",
       "    .dataframe thead th {\n",
       "        text-align: right;\n",
       "    }\n",
       "</style>\n",
       "<table border=\"1\" class=\"dataframe\">\n",
       "  <thead>\n",
       "    <tr style=\"text-align: right;\">\n",
       "      <th></th>\n",
       "      <th>funded_amount</th>\n",
       "      <th>loan_amount</th>\n",
       "      <th>term_in_months</th>\n",
       "      <th>lender_count</th>\n",
       "    </tr>\n",
       "  </thead>\n",
       "  <tbody>\n",
       "    <tr>\n",
       "      <th>count</th>\n",
       "      <td>666984.000000</td>\n",
       "      <td>666984.000000</td>\n",
       "      <td>666984.000000</td>\n",
       "      <td>666984.000000</td>\n",
       "    </tr>\n",
       "    <tr>\n",
       "      <th>mean</th>\n",
       "      <td>785.127844</td>\n",
       "      <td>840.300742</td>\n",
       "      <td>13.730235</td>\n",
       "      <td>20.550875</td>\n",
       "    </tr>\n",
       "    <tr>\n",
       "      <th>std</th>\n",
       "      <td>1127.999928</td>\n",
       "      <td>1187.909500</td>\n",
       "      <td>8.596158</td>\n",
       "      <td>28.366197</td>\n",
       "    </tr>\n",
       "    <tr>\n",
       "      <th>min</th>\n",
       "      <td>0.000000</td>\n",
       "      <td>25.000000</td>\n",
       "      <td>1.000000</td>\n",
       "      <td>0.000000</td>\n",
       "    </tr>\n",
       "    <tr>\n",
       "      <th>25%</th>\n",
       "      <td>250.000000</td>\n",
       "      <td>275.000000</td>\n",
       "      <td>8.000000</td>\n",
       "      <td>7.000000</td>\n",
       "    </tr>\n",
       "    <tr>\n",
       "      <th>50%</th>\n",
       "      <td>450.000000</td>\n",
       "      <td>500.000000</td>\n",
       "      <td>13.000000</td>\n",
       "      <td>13.000000</td>\n",
       "    </tr>\n",
       "    <tr>\n",
       "      <th>75%</th>\n",
       "      <td>900.000000</td>\n",
       "      <td>1000.000000</td>\n",
       "      <td>14.000000</td>\n",
       "      <td>24.000000</td>\n",
       "    </tr>\n",
       "    <tr>\n",
       "      <th>max</th>\n",
       "      <td>100000.000000</td>\n",
       "      <td>100000.000000</td>\n",
       "      <td>158.000000</td>\n",
       "      <td>2986.000000</td>\n",
       "    </tr>\n",
       "  </tbody>\n",
       "</table>\n",
       "</div>"
      ],
      "text/plain": [
       "       funded_amount    loan_amount  term_in_months   lender_count\n",
       "count  666984.000000  666984.000000   666984.000000  666984.000000\n",
       "mean      785.127844     840.300742       13.730235      20.550875\n",
       "std      1127.999928    1187.909500        8.596158      28.366197\n",
       "min         0.000000      25.000000        1.000000       0.000000\n",
       "25%       250.000000     275.000000        8.000000       7.000000\n",
       "50%       450.000000     500.000000       13.000000      13.000000\n",
       "75%       900.000000    1000.000000       14.000000      24.000000\n",
       "max    100000.000000  100000.000000      158.000000    2986.000000"
      ]
     },
     "execution_count": 28,
     "metadata": {},
     "output_type": "execute_result"
    }
   ],
   "source": [
    "#Per Describe Statistik machen\n",
    "df_crowd.describe()"
   ]
  },
  {
   "cell_type": "markdown",
   "metadata": {},
   "source": [
    "- Projekte mit max funded und loan amount anschauen\n",
    "- Projekt mit 2986 lender_count anschauen\n",
    "- mean und median funded_amount sind kleiner als mean und median loan_amount\n",
    "    - Welche Projekte haben ihre Funding Ziele erreichen?\n",
    "    - Welche Projekte haben ihre Funding Ziele nicht erreicht?\n",
    "    - Welche Projekte haben ihre Funding Ziele übertroffen?\n",
    "- Projekte mit funded_amount 0\n",
    "- Projekte mit lender_count 0"
   ]
  },
  {
   "cell_type": "markdown",
   "metadata": {},
   "source": [
    "## Ausreißer"
   ]
  },
  {
   "cell_type": "code",
   "execution_count": 29,
   "metadata": {
    "ExecuteTime": {
     "end_time": "2020-12-10T13:56:00.770971Z",
     "start_time": "2020-12-10T13:56:00.484452Z"
    }
   },
   "outputs": [
    {
     "data": {
      "text/html": [
       "<div>\n",
       "<style scoped>\n",
       "    .dataframe tbody tr th:only-of-type {\n",
       "        vertical-align: middle;\n",
       "    }\n",
       "\n",
       "    .dataframe tbody tr th {\n",
       "        vertical-align: top;\n",
       "    }\n",
       "\n",
       "    .dataframe thead th {\n",
       "        text-align: right;\n",
       "    }\n",
       "</style>\n",
       "<table border=\"1\" class=\"dataframe\">\n",
       "  <thead>\n",
       "    <tr style=\"text-align: right;\">\n",
       "      <th></th>\n",
       "      <th>funded_amount</th>\n",
       "      <th>loan_amount</th>\n",
       "      <th>activity</th>\n",
       "      <th>sector</th>\n",
       "      <th>use</th>\n",
       "      <th>country_code</th>\n",
       "      <th>country</th>\n",
       "      <th>region</th>\n",
       "      <th>term_in_months</th>\n",
       "      <th>lender_count</th>\n",
       "      <th>borrower_genders</th>\n",
       "      <th>repayment_interval</th>\n",
       "    </tr>\n",
       "  </thead>\n",
       "  <tbody>\n",
       "    <tr>\n",
       "      <th>69540</th>\n",
       "      <td>100000</td>\n",
       "      <td>100000</td>\n",
       "      <td>Agriculture</td>\n",
       "      <td>Agriculture</td>\n",
       "      <td>create more than 300 jobs for women and farmer...</td>\n",
       "      <td>HT</td>\n",
       "      <td>Haiti</td>\n",
       "      <td>Les Cayes</td>\n",
       "      <td>75</td>\n",
       "      <td>2986</td>\n",
       "      <td>female</td>\n",
       "      <td>irregular</td>\n",
       "    </tr>\n",
       "    <tr>\n",
       "      <th>490440</th>\n",
       "      <td>50000</td>\n",
       "      <td>50000</td>\n",
       "      <td>Agriculture</td>\n",
       "      <td>Agriculture</td>\n",
       "      <td>To pay smallholder coffee farmers in rural Ken...</td>\n",
       "      <td>KE</td>\n",
       "      <td>Kenya</td>\n",
       "      <td>Nairobi</td>\n",
       "      <td>15</td>\n",
       "      <td>1441</td>\n",
       "      <td>female</td>\n",
       "      <td>irregular</td>\n",
       "    </tr>\n",
       "    <tr>\n",
       "      <th>536928</th>\n",
       "      <td>50000</td>\n",
       "      <td>50000</td>\n",
       "      <td>Goods Distribution</td>\n",
       "      <td>Wholesale</td>\n",
       "      <td>to bolster logistics of affordable water distr...</td>\n",
       "      <td>HT</td>\n",
       "      <td>Haiti</td>\n",
       "      <td>Petion-Ville</td>\n",
       "      <td>14</td>\n",
       "      <td>1349</td>\n",
       "      <td>male</td>\n",
       "      <td>irregular</td>\n",
       "    </tr>\n",
       "    <tr>\n",
       "      <th>161412</th>\n",
       "      <td>50000</td>\n",
       "      <td>50000</td>\n",
       "      <td>Agriculture</td>\n",
       "      <td>Agriculture</td>\n",
       "      <td>to fund its growing loan book and further deve...</td>\n",
       "      <td>KE</td>\n",
       "      <td>Kenya</td>\n",
       "      <td>Nairobi</td>\n",
       "      <td>38</td>\n",
       "      <td>1343</td>\n",
       "      <td>female</td>\n",
       "      <td>bullet</td>\n",
       "    </tr>\n",
       "    <tr>\n",
       "      <th>610689</th>\n",
       "      <td>50000</td>\n",
       "      <td>50000</td>\n",
       "      <td>Furniture Making</td>\n",
       "      <td>Manufacturing</td>\n",
       "      <td>create jobs through environmentally-friendly m...</td>\n",
       "      <td>KE</td>\n",
       "      <td>Kenya</td>\n",
       "      <td>Nairobi</td>\n",
       "      <td>20</td>\n",
       "      <td>1094</td>\n",
       "      <td>male</td>\n",
       "      <td>irregular</td>\n",
       "    </tr>\n",
       "  </tbody>\n",
       "</table>\n",
       "</div>"
      ],
      "text/plain": [
       "        funded_amount  loan_amount            activity         sector  \\\n",
       "69540          100000       100000         Agriculture    Agriculture   \n",
       "490440          50000        50000         Agriculture    Agriculture   \n",
       "536928          50000        50000  Goods Distribution      Wholesale   \n",
       "161412          50000        50000         Agriculture    Agriculture   \n",
       "610689          50000        50000    Furniture Making  Manufacturing   \n",
       "\n",
       "                                                      use country_code  \\\n",
       "69540   create more than 300 jobs for women and farmer...           HT   \n",
       "490440  To pay smallholder coffee farmers in rural Ken...           KE   \n",
       "536928  to bolster logistics of affordable water distr...           HT   \n",
       "161412  to fund its growing loan book and further deve...           KE   \n",
       "610689  create jobs through environmentally-friendly m...           KE   \n",
       "\n",
       "       country        region  term_in_months  lender_count borrower_genders  \\\n",
       "69540    Haiti     Les Cayes              75          2986           female   \n",
       "490440   Kenya       Nairobi              15          1441           female   \n",
       "536928   Haiti  Petion-Ville              14          1349             male   \n",
       "161412   Kenya       Nairobi              38          1343           female   \n",
       "610689   Kenya       Nairobi              20          1094             male   \n",
       "\n",
       "       repayment_interval  \n",
       "69540           irregular  \n",
       "490440          irregular  \n",
       "536928          irregular  \n",
       "161412             bullet  \n",
       "610689          irregular  "
      ]
     },
     "execution_count": 29,
     "metadata": {},
     "output_type": "execute_result"
    }
   ],
   "source": [
    "# Projekt mit den maximalen Werten bei Loan Amount und Funded Amount anschauen\n",
    "df_crowd.sort_values(by=\"funded_amount\", ascending=False)[0:5]"
   ]
  },
  {
   "cell_type": "markdown",
   "metadata": {},
   "source": [
    "- Großes Projekt, Schaffung von mehr als 300 Arbeitsplätzen\n",
    "- Funded, loan amount und lender_count deutlich höher als bei anderen\n",
    "- Für Statistiken auschließen\n",
    "- Für generelle Auswertung bleibt Projekt drin"
   ]
  },
  {
   "cell_type": "code",
   "execution_count": 30,
   "metadata": {
    "ExecuteTime": {
     "end_time": "2020-12-10T13:56:00.791836Z",
     "start_time": "2020-12-10T13:56:00.772213Z"
    }
   },
   "outputs": [
    {
     "data": {
      "text/html": [
       "<div>\n",
       "<style scoped>\n",
       "    .dataframe tbody tr th:only-of-type {\n",
       "        vertical-align: middle;\n",
       "    }\n",
       "\n",
       "    .dataframe tbody tr th {\n",
       "        vertical-align: top;\n",
       "    }\n",
       "\n",
       "    .dataframe thead th {\n",
       "        text-align: right;\n",
       "    }\n",
       "</style>\n",
       "<table border=\"1\" class=\"dataframe\">\n",
       "  <thead>\n",
       "    <tr style=\"text-align: right;\">\n",
       "      <th></th>\n",
       "      <th>funded_amount</th>\n",
       "      <th>loan_amount</th>\n",
       "      <th>activity</th>\n",
       "      <th>sector</th>\n",
       "      <th>use</th>\n",
       "      <th>country_code</th>\n",
       "      <th>country</th>\n",
       "      <th>region</th>\n",
       "      <th>term_in_months</th>\n",
       "      <th>lender_count</th>\n",
       "      <th>borrower_genders</th>\n",
       "      <th>repayment_interval</th>\n",
       "    </tr>\n",
       "  </thead>\n",
       "  <tbody>\n",
       "    <tr>\n",
       "      <th>4760</th>\n",
       "      <td>0</td>\n",
       "      <td>5000</td>\n",
       "      <td>Food Production/Sales</td>\n",
       "      <td>Food</td>\n",
       "      <td>grow and create new jobs in my company.</td>\n",
       "      <td>US</td>\n",
       "      <td>United States</td>\n",
       "      <td>NaN</td>\n",
       "      <td>24</td>\n",
       "      <td>0</td>\n",
       "      <td>female</td>\n",
       "      <td>bullet</td>\n",
       "    </tr>\n",
       "    <tr>\n",
       "      <th>6710</th>\n",
       "      <td>0</td>\n",
       "      <td>10000</td>\n",
       "      <td>Cosmetics Sales</td>\n",
       "      <td>Retail</td>\n",
       "      <td>start a new stream of income by offering retai...</td>\n",
       "      <td>US</td>\n",
       "      <td>United States</td>\n",
       "      <td>NaN</td>\n",
       "      <td>36</td>\n",
       "      <td>0</td>\n",
       "      <td>male</td>\n",
       "      <td>bullet</td>\n",
       "    </tr>\n",
       "    <tr>\n",
       "      <th>10620</th>\n",
       "      <td>0</td>\n",
       "      <td>5000</td>\n",
       "      <td>Services</td>\n",
       "      <td>Services</td>\n",
       "      <td>purchase new equipment and market to more pote...</td>\n",
       "      <td>US</td>\n",
       "      <td>United States</td>\n",
       "      <td>NaN</td>\n",
       "      <td>24</td>\n",
       "      <td>0</td>\n",
       "      <td>male</td>\n",
       "      <td>bullet</td>\n",
       "    </tr>\n",
       "    <tr>\n",
       "      <th>11910</th>\n",
       "      <td>0</td>\n",
       "      <td>5000</td>\n",
       "      <td>Food Production/Sales</td>\n",
       "      <td>Food</td>\n",
       "      <td>purchase much needed packaging that is sustain...</td>\n",
       "      <td>US</td>\n",
       "      <td>United States</td>\n",
       "      <td>NaN</td>\n",
       "      <td>24</td>\n",
       "      <td>0</td>\n",
       "      <td>male</td>\n",
       "      <td>bullet</td>\n",
       "    </tr>\n",
       "    <tr>\n",
       "      <th>13400</th>\n",
       "      <td>0</td>\n",
       "      <td>1500</td>\n",
       "      <td>Crafts</td>\n",
       "      <td>Arts</td>\n",
       "      <td>increase my inventory of handmade candles, dri...</td>\n",
       "      <td>US</td>\n",
       "      <td>United States</td>\n",
       "      <td>NaN</td>\n",
       "      <td>12</td>\n",
       "      <td>0</td>\n",
       "      <td>male</td>\n",
       "      <td>bullet</td>\n",
       "    </tr>\n",
       "  </tbody>\n",
       "</table>\n",
       "</div>"
      ],
      "text/plain": [
       "       funded_amount  loan_amount               activity    sector  \\\n",
       "4760               0         5000  Food Production/Sales      Food   \n",
       "6710               0        10000        Cosmetics Sales    Retail   \n",
       "10620              0         5000               Services  Services   \n",
       "11910              0         5000  Food Production/Sales      Food   \n",
       "13400              0         1500                 Crafts      Arts   \n",
       "\n",
       "                                                     use country_code  \\\n",
       "4760             grow and create new jobs in my company.           US   \n",
       "6710   start a new stream of income by offering retai...           US   \n",
       "10620  purchase new equipment and market to more pote...           US   \n",
       "11910  purchase much needed packaging that is sustain...           US   \n",
       "13400  increase my inventory of handmade candles, dri...           US   \n",
       "\n",
       "             country region  term_in_months  lender_count borrower_genders  \\\n",
       "4760   United States    NaN              24             0           female   \n",
       "6710   United States    NaN              36             0             male   \n",
       "10620  United States    NaN              24             0             male   \n",
       "11910  United States    NaN              24             0             male   \n",
       "13400  United States    NaN              12             0             male   \n",
       "\n",
       "      repayment_interval  \n",
       "4760              bullet  \n",
       "6710              bullet  \n",
       "10620             bullet  \n",
       "11910             bullet  \n",
       "13400             bullet  "
      ]
     },
     "execution_count": 30,
     "metadata": {},
     "output_type": "execute_result"
    }
   ],
   "source": [
    "# Projekt bei denen kein Geld gebenen wurde Funded Amount = 0\n",
    "df_crowd.loc[df_crowd[\"funded_amount\"] == 0][0:5]"
   ]
  },
  {
   "cell_type": "code",
   "execution_count": 31,
   "metadata": {
    "ExecuteTime": {
     "end_time": "2020-12-10T13:56:00.801342Z",
     "start_time": "2020-12-10T13:56:00.793236Z"
    }
   },
   "outputs": [
    {
     "data": {
      "text/plain": [
       "3254"
      ]
     },
     "execution_count": 31,
     "metadata": {},
     "output_type": "execute_result"
    }
   ],
   "source": [
    "#Wie viele von diesen Projekten gibt es?\n",
    "len(df_crowd.loc[df_crowd[\"funded_amount\"] == 0])"
   ]
  },
  {
   "cell_type": "markdown",
   "metadata": {},
   "source": [
    "- Projekte die keine Geldgeber gefunden haben\n",
    "- Keine Ausreißer im eigentlich Sinn --> bleiben im Datensatz\n",
    "- Check machen ob es Projekte mit Geld gibt bei denen kein Geldgeber eingetragen wurde und umgekehrt"
   ]
  },
  {
   "cell_type": "code",
   "execution_count": 32,
   "metadata": {
    "ExecuteTime": {
     "end_time": "2020-12-10T13:56:00.821530Z",
     "start_time": "2020-12-10T13:56:00.803583Z"
    }
   },
   "outputs": [
    {
     "data": {
      "text/html": [
       "<div>\n",
       "<style scoped>\n",
       "    .dataframe tbody tr th:only-of-type {\n",
       "        vertical-align: middle;\n",
       "    }\n",
       "\n",
       "    .dataframe tbody tr th {\n",
       "        vertical-align: top;\n",
       "    }\n",
       "\n",
       "    .dataframe thead th {\n",
       "        text-align: right;\n",
       "    }\n",
       "</style>\n",
       "<table border=\"1\" class=\"dataframe\">\n",
       "  <thead>\n",
       "    <tr style=\"text-align: right;\">\n",
       "      <th></th>\n",
       "      <th>funded_amount</th>\n",
       "      <th>loan_amount</th>\n",
       "      <th>activity</th>\n",
       "      <th>sector</th>\n",
       "      <th>use</th>\n",
       "      <th>country_code</th>\n",
       "      <th>country</th>\n",
       "      <th>region</th>\n",
       "      <th>term_in_months</th>\n",
       "      <th>lender_count</th>\n",
       "      <th>borrower_genders</th>\n",
       "      <th>repayment_interval</th>\n",
       "    </tr>\n",
       "  </thead>\n",
       "  <tbody>\n",
       "  </tbody>\n",
       "</table>\n",
       "</div>"
      ],
      "text/plain": [
       "Empty DataFrame\n",
       "Columns: [funded_amount, loan_amount, activity, sector, use, country_code, country, region, term_in_months, lender_count, borrower_genders, repayment_interval]\n",
       "Index: []"
      ]
     },
     "execution_count": 32,
     "metadata": {},
     "output_type": "execute_result"
    }
   ],
   "source": [
    "#Projekte mit Geld gibt bei denen kein Geldgeber eingetragen wurde umgekehrt\n",
    "df_crowd.loc[((df_crowd[\"funded_amount\"] == 0) & (df_crowd[\"lender_count\"] != 0)) |\n",
    "            ((df_crowd[\"funded_amount\"] != 0) & (df_crowd[\"lender_count\"] == 0))]"
   ]
  },
  {
   "cell_type": "markdown",
   "metadata": {},
   "source": [
    "Gut die Daten sind konsistent"
   ]
  },
  {
   "cell_type": "markdown",
   "metadata": {},
   "source": [
    "## Features"
   ]
  },
  {
   "cell_type": "code",
   "execution_count": 33,
   "metadata": {
    "ExecuteTime": {
     "end_time": "2020-12-10T13:56:00.836647Z",
     "start_time": "2020-12-10T13:56:00.822805Z"
    }
   },
   "outputs": [
    {
     "data": {
      "text/html": [
       "<div>\n",
       "<style scoped>\n",
       "    .dataframe tbody tr th:only-of-type {\n",
       "        vertical-align: middle;\n",
       "    }\n",
       "\n",
       "    .dataframe tbody tr th {\n",
       "        vertical-align: top;\n",
       "    }\n",
       "\n",
       "    .dataframe thead th {\n",
       "        text-align: right;\n",
       "    }\n",
       "</style>\n",
       "<table border=\"1\" class=\"dataframe\">\n",
       "  <thead>\n",
       "    <tr style=\"text-align: right;\">\n",
       "      <th></th>\n",
       "      <th>funded_amount</th>\n",
       "      <th>loan_amount</th>\n",
       "      <th>activity</th>\n",
       "      <th>sector</th>\n",
       "      <th>use</th>\n",
       "      <th>country_code</th>\n",
       "      <th>country</th>\n",
       "      <th>region</th>\n",
       "      <th>term_in_months</th>\n",
       "      <th>lender_count</th>\n",
       "      <th>borrower_genders</th>\n",
       "      <th>repayment_interval</th>\n",
       "    </tr>\n",
       "  </thead>\n",
       "  <tbody>\n",
       "    <tr>\n",
       "      <th>0</th>\n",
       "      <td>300</td>\n",
       "      <td>300</td>\n",
       "      <td>Fruits &amp; Vegetables</td>\n",
       "      <td>Food</td>\n",
       "      <td>To buy seasonal, fresh fruits to sell.</td>\n",
       "      <td>PK</td>\n",
       "      <td>Pakistan</td>\n",
       "      <td>Lahore</td>\n",
       "      <td>12</td>\n",
       "      <td>12</td>\n",
       "      <td>female</td>\n",
       "      <td>irregular</td>\n",
       "    </tr>\n",
       "    <tr>\n",
       "      <th>1</th>\n",
       "      <td>575</td>\n",
       "      <td>575</td>\n",
       "      <td>Rickshaw</td>\n",
       "      <td>Transportation</td>\n",
       "      <td>to repair and maintain the auto rickshaw used ...</td>\n",
       "      <td>PK</td>\n",
       "      <td>Pakistan</td>\n",
       "      <td>Lahore</td>\n",
       "      <td>11</td>\n",
       "      <td>14</td>\n",
       "      <td>female, female</td>\n",
       "      <td>irregular</td>\n",
       "    </tr>\n",
       "    <tr>\n",
       "      <th>2</th>\n",
       "      <td>150</td>\n",
       "      <td>150</td>\n",
       "      <td>Transportation</td>\n",
       "      <td>Transportation</td>\n",
       "      <td>To repair their old cycle-van and buy another ...</td>\n",
       "      <td>IN</td>\n",
       "      <td>India</td>\n",
       "      <td>Maynaguri</td>\n",
       "      <td>43</td>\n",
       "      <td>6</td>\n",
       "      <td>female</td>\n",
       "      <td>bullet</td>\n",
       "    </tr>\n",
       "  </tbody>\n",
       "</table>\n",
       "</div>"
      ],
      "text/plain": [
       "   funded_amount  loan_amount             activity          sector  \\\n",
       "0            300          300  Fruits & Vegetables            Food   \n",
       "1            575          575             Rickshaw  Transportation   \n",
       "2            150          150       Transportation  Transportation   \n",
       "\n",
       "                                                 use country_code   country  \\\n",
       "0            To buy seasonal, fresh fruits to sell.            PK  Pakistan   \n",
       "1  to repair and maintain the auto rickshaw used ...           PK  Pakistan   \n",
       "2  To repair their old cycle-van and buy another ...           IN     India   \n",
       "\n",
       "      region  term_in_months  lender_count borrower_genders repayment_interval  \n",
       "0     Lahore              12            12           female          irregular  \n",
       "1     Lahore              11            14   female, female          irregular  \n",
       "2  Maynaguri              43             6           female             bullet  "
      ]
     },
     "execution_count": 33,
     "metadata": {},
     "output_type": "execute_result"
    }
   ],
   "source": [
    "df_crowd.head(3)"
   ]
  },
  {
   "cell_type": "markdown",
   "metadata": {},
   "source": [
    "- Neue Spalte: goal_reached:\n",
    "    - reached: funded_amount == loan_amount\n",
    "    - not reached: funded_amount < loan_amount\n",
    "    - no funding funded_amount == 0\n",
    "    - exceeded: funded_amount > loan_amount\n",
    "- Neue Spalte: borrowers_female und borrowers_male:\n",
    "    - Anzahl der Leute die das Projekt gestartet haben\n",
    "    - Getrennt nach Geschlecht\n",
    "    - Summe kann genutzt werden für Gesamtzahl Projektstarter\n",
    "- Spalte borrower_genders ändern:\n",
    "    - Geschlecht der Leute die das Projekt gestartet haben\n",
    "    - Nur Male --> Male\n",
    "    - Nur Female --> Female\n",
    "    - Beides --> Mixed"
   ]
  },
  {
   "cell_type": "markdown",
   "metadata": {},
   "source": [
    "### goal_reached"
   ]
  },
  {
   "cell_type": "code",
   "execution_count": 34,
   "metadata": {
    "ExecuteTime": {
     "end_time": "2020-12-10T13:56:01.033576Z",
     "start_time": "2020-12-10T13:56:00.838844Z"
    }
   },
   "outputs": [],
   "source": [
    "#Neue leere Spalte erstellen\n",
    "df_crowd[\"goal_reached\"] = ''\n",
    "\n",
    "#Funding erfolreich\n",
    "df_crowd.loc[df_crowd[\"funded_amount\"] == df_crowd[\"loan_amount\"], \"goal_reached\"] = \"reached\"\n",
    "\n",
    "#Nicht erfolgreich\n",
    "df_crowd.loc[df_crowd[\"funded_amount\"] < df_crowd[\"loan_amount\"], \"goal_reached\"] = \"not reached\"\n",
    "\n",
    "#Kein Geld bekommen\n",
    "df_crowd.loc[df_crowd[\"funded_amount\"] == 0, \"goal_reached\"] = \"no funding\"\n",
    "\n",
    "#Ziel übertroffen\n",
    "df_crowd.loc[df_crowd[\"funded_amount\"] > df_crowd[\"loan_amount\"], \"goal_reached\"] = \"exceeded\""
   ]
  },
  {
   "cell_type": "code",
   "execution_count": 35,
   "metadata": {
    "ExecuteTime": {
     "end_time": "2020-12-10T13:56:01.057980Z",
     "start_time": "2020-12-10T13:56:01.035338Z"
    }
   },
   "outputs": [
    {
     "data": {
      "text/html": [
       "<div>\n",
       "<style scoped>\n",
       "    .dataframe tbody tr th:only-of-type {\n",
       "        vertical-align: middle;\n",
       "    }\n",
       "\n",
       "    .dataframe tbody tr th {\n",
       "        vertical-align: top;\n",
       "    }\n",
       "\n",
       "    .dataframe thead th {\n",
       "        text-align: right;\n",
       "    }\n",
       "</style>\n",
       "<table border=\"1\" class=\"dataframe\">\n",
       "  <thead>\n",
       "    <tr style=\"text-align: right;\">\n",
       "      <th></th>\n",
       "      <th>funded_amount</th>\n",
       "      <th>loan_amount</th>\n",
       "      <th>activity</th>\n",
       "      <th>sector</th>\n",
       "      <th>use</th>\n",
       "      <th>country_code</th>\n",
       "      <th>country</th>\n",
       "      <th>region</th>\n",
       "      <th>term_in_months</th>\n",
       "      <th>lender_count</th>\n",
       "      <th>borrower_genders</th>\n",
       "      <th>repayment_interval</th>\n",
       "      <th>goal_reached</th>\n",
       "    </tr>\n",
       "  </thead>\n",
       "  <tbody>\n",
       "    <tr>\n",
       "      <th>0</th>\n",
       "      <td>300</td>\n",
       "      <td>300</td>\n",
       "      <td>Fruits &amp; Vegetables</td>\n",
       "      <td>Food</td>\n",
       "      <td>To buy seasonal, fresh fruits to sell.</td>\n",
       "      <td>PK</td>\n",
       "      <td>Pakistan</td>\n",
       "      <td>Lahore</td>\n",
       "      <td>12</td>\n",
       "      <td>12</td>\n",
       "      <td>female</td>\n",
       "      <td>irregular</td>\n",
       "      <td>reached</td>\n",
       "    </tr>\n",
       "    <tr>\n",
       "      <th>1</th>\n",
       "      <td>575</td>\n",
       "      <td>575</td>\n",
       "      <td>Rickshaw</td>\n",
       "      <td>Transportation</td>\n",
       "      <td>to repair and maintain the auto rickshaw used ...</td>\n",
       "      <td>PK</td>\n",
       "      <td>Pakistan</td>\n",
       "      <td>Lahore</td>\n",
       "      <td>11</td>\n",
       "      <td>14</td>\n",
       "      <td>female, female</td>\n",
       "      <td>irregular</td>\n",
       "      <td>reached</td>\n",
       "    </tr>\n",
       "    <tr>\n",
       "      <th>2</th>\n",
       "      <td>150</td>\n",
       "      <td>150</td>\n",
       "      <td>Transportation</td>\n",
       "      <td>Transportation</td>\n",
       "      <td>To repair their old cycle-van and buy another ...</td>\n",
       "      <td>IN</td>\n",
       "      <td>India</td>\n",
       "      <td>Maynaguri</td>\n",
       "      <td>43</td>\n",
       "      <td>6</td>\n",
       "      <td>female</td>\n",
       "      <td>bullet</td>\n",
       "      <td>reached</td>\n",
       "    </tr>\n",
       "    <tr>\n",
       "      <th>3</th>\n",
       "      <td>200</td>\n",
       "      <td>200</td>\n",
       "      <td>Embroidery</td>\n",
       "      <td>Arts</td>\n",
       "      <td>to purchase an embroidery machine and a variet...</td>\n",
       "      <td>PK</td>\n",
       "      <td>Pakistan</td>\n",
       "      <td>Lahore</td>\n",
       "      <td>11</td>\n",
       "      <td>8</td>\n",
       "      <td>female</td>\n",
       "      <td>irregular</td>\n",
       "      <td>reached</td>\n",
       "    </tr>\n",
       "    <tr>\n",
       "      <th>4</th>\n",
       "      <td>400</td>\n",
       "      <td>400</td>\n",
       "      <td>Milk Sales</td>\n",
       "      <td>Food</td>\n",
       "      <td>to purchase one buffalo.</td>\n",
       "      <td>PK</td>\n",
       "      <td>Pakistan</td>\n",
       "      <td>Abdul Hakeem</td>\n",
       "      <td>14</td>\n",
       "      <td>16</td>\n",
       "      <td>female</td>\n",
       "      <td>monthly</td>\n",
       "      <td>reached</td>\n",
       "    </tr>\n",
       "    <tr>\n",
       "      <th>...</th>\n",
       "      <td>...</td>\n",
       "      <td>...</td>\n",
       "      <td>...</td>\n",
       "      <td>...</td>\n",
       "      <td>...</td>\n",
       "      <td>...</td>\n",
       "      <td>...</td>\n",
       "      <td>...</td>\n",
       "      <td>...</td>\n",
       "      <td>...</td>\n",
       "      <td>...</td>\n",
       "      <td>...</td>\n",
       "      <td>...</td>\n",
       "    </tr>\n",
       "    <tr>\n",
       "      <th>666979</th>\n",
       "      <td>0</td>\n",
       "      <td>25</td>\n",
       "      <td>Livestock</td>\n",
       "      <td>Agriculture</td>\n",
       "      <td>[True, u'para compara: cemento, arenya y ladri...</td>\n",
       "      <td>PY</td>\n",
       "      <td>Paraguay</td>\n",
       "      <td>Concepción</td>\n",
       "      <td>13</td>\n",
       "      <td>0</td>\n",
       "      <td>female</td>\n",
       "      <td>monthly</td>\n",
       "      <td>no funding</td>\n",
       "    </tr>\n",
       "    <tr>\n",
       "      <th>666980</th>\n",
       "      <td>0</td>\n",
       "      <td>25</td>\n",
       "      <td>Livestock</td>\n",
       "      <td>Agriculture</td>\n",
       "      <td>[True, u'para compara: cemento, arenya y ladri...</td>\n",
       "      <td>PY</td>\n",
       "      <td>Paraguay</td>\n",
       "      <td>Concepción</td>\n",
       "      <td>13</td>\n",
       "      <td>0</td>\n",
       "      <td>female</td>\n",
       "      <td>monthly</td>\n",
       "      <td>no funding</td>\n",
       "    </tr>\n",
       "    <tr>\n",
       "      <th>666981</th>\n",
       "      <td>25</td>\n",
       "      <td>25</td>\n",
       "      <td>Livestock</td>\n",
       "      <td>Agriculture</td>\n",
       "      <td>[True, u'to start a turducken farm.'] - this l...</td>\n",
       "      <td>KE</td>\n",
       "      <td>Kenya</td>\n",
       "      <td>NaN</td>\n",
       "      <td>13</td>\n",
       "      <td>1</td>\n",
       "      <td>female</td>\n",
       "      <td>monthly</td>\n",
       "      <td>reached</td>\n",
       "    </tr>\n",
       "    <tr>\n",
       "      <th>666982</th>\n",
       "      <td>0</td>\n",
       "      <td>25</td>\n",
       "      <td>Livestock</td>\n",
       "      <td>Agriculture</td>\n",
       "      <td>[True, u'to start a turducken farm.'] - this l...</td>\n",
       "      <td>KE</td>\n",
       "      <td>Kenya</td>\n",
       "      <td>NaN</td>\n",
       "      <td>13</td>\n",
       "      <td>0</td>\n",
       "      <td>female</td>\n",
       "      <td>monthly</td>\n",
       "      <td>no funding</td>\n",
       "    </tr>\n",
       "    <tr>\n",
       "      <th>666983</th>\n",
       "      <td>0</td>\n",
       "      <td>25</td>\n",
       "      <td>Livestock</td>\n",
       "      <td>Agriculture</td>\n",
       "      <td>[True, u'to start a turducken farm.'] - this l...</td>\n",
       "      <td>KE</td>\n",
       "      <td>Kenya</td>\n",
       "      <td>NaN</td>\n",
       "      <td>13</td>\n",
       "      <td>0</td>\n",
       "      <td>female</td>\n",
       "      <td>monthly</td>\n",
       "      <td>no funding</td>\n",
       "    </tr>\n",
       "  </tbody>\n",
       "</table>\n",
       "<p>666984 rows × 13 columns</p>\n",
       "</div>"
      ],
      "text/plain": [
       "        funded_amount  loan_amount             activity          sector  \\\n",
       "0                 300          300  Fruits & Vegetables            Food   \n",
       "1                 575          575             Rickshaw  Transportation   \n",
       "2                 150          150       Transportation  Transportation   \n",
       "3                 200          200           Embroidery            Arts   \n",
       "4                 400          400           Milk Sales            Food   \n",
       "...               ...          ...                  ...             ...   \n",
       "666979              0           25            Livestock     Agriculture   \n",
       "666980              0           25            Livestock     Agriculture   \n",
       "666981             25           25            Livestock     Agriculture   \n",
       "666982              0           25            Livestock     Agriculture   \n",
       "666983              0           25            Livestock     Agriculture   \n",
       "\n",
       "                                                      use country_code  \\\n",
       "0                 To buy seasonal, fresh fruits to sell.            PK   \n",
       "1       to repair and maintain the auto rickshaw used ...           PK   \n",
       "2       To repair their old cycle-van and buy another ...           IN   \n",
       "3       to purchase an embroidery machine and a variet...           PK   \n",
       "4                                to purchase one buffalo.           PK   \n",
       "...                                                   ...          ...   \n",
       "666979  [True, u'para compara: cemento, arenya y ladri...           PY   \n",
       "666980  [True, u'para compara: cemento, arenya y ladri...           PY   \n",
       "666981  [True, u'to start a turducken farm.'] - this l...           KE   \n",
       "666982  [True, u'to start a turducken farm.'] - this l...           KE   \n",
       "666983  [True, u'to start a turducken farm.'] - this l...           KE   \n",
       "\n",
       "         country        region  term_in_months  lender_count borrower_genders  \\\n",
       "0       Pakistan        Lahore              12            12           female   \n",
       "1       Pakistan        Lahore              11            14   female, female   \n",
       "2          India     Maynaguri              43             6           female   \n",
       "3       Pakistan        Lahore              11             8           female   \n",
       "4       Pakistan  Abdul Hakeem              14            16           female   \n",
       "...          ...           ...             ...           ...              ...   \n",
       "666979  Paraguay    Concepción              13             0           female   \n",
       "666980  Paraguay    Concepción              13             0           female   \n",
       "666981     Kenya           NaN              13             1           female   \n",
       "666982     Kenya           NaN              13             0           female   \n",
       "666983     Kenya           NaN              13             0           female   \n",
       "\n",
       "       repayment_interval goal_reached  \n",
       "0               irregular      reached  \n",
       "1               irregular      reached  \n",
       "2                  bullet      reached  \n",
       "3               irregular      reached  \n",
       "4                 monthly      reached  \n",
       "...                   ...          ...  \n",
       "666979            monthly   no funding  \n",
       "666980            monthly   no funding  \n",
       "666981            monthly      reached  \n",
       "666982            monthly   no funding  \n",
       "666983            monthly   no funding  \n",
       "\n",
       "[666984 rows x 13 columns]"
      ]
     },
     "execution_count": 35,
     "metadata": {},
     "output_type": "execute_result"
    }
   ],
   "source": [
    "#Hat geklappt?\n",
    "df_crowd"
   ]
  },
  {
   "cell_type": "markdown",
   "metadata": {},
   "source": [
    "### borrower_male / borrower_female und borrower_genders"
   ]
  },
  {
   "cell_type": "code",
   "execution_count": 36,
   "metadata": {
    "ExecuteTime": {
     "end_time": "2020-12-10T13:56:03.826903Z",
     "start_time": "2020-12-10T13:56:01.060022Z"
    }
   },
   "outputs": [],
   "source": [
    "#Anzahl Projektstarter \"borrower_count\" aus Spalte \"borrower_genders\" holen\n",
    "\n",
    "#Echte Kopie der Spalte borrower_genders erstellen\n",
    "genders = df_crowd[\"borrower_genders\"].copy()\n",
    "\n",
    "#String aufteilen an ',' --> wird zu Liste\n",
    "genders = genders.str.split(', ')\n",
    "\n",
    "#Leere Listen erstellen und über genders Liste iterieren\n",
    "borrower_female = []\n",
    "borrower_male = []\n",
    "borrower_genders = []\n",
    "\n",
    "for gender in genders:\n",
    "    #Einträge Männlich / Weiblich zählen\n",
    "    f = gender.count(\"female\")\n",
    "    m = gender.count(\"male\")\n",
    "    \n",
    "    #Einträge an Listen anhängen\n",
    "    borrower_female.append(f)\n",
    "    borrower_male.append(m)\n",
    "    \n",
    "    #Schauen ob Gruppe männlich / weiblich oder mixed ist\n",
    "    if (f > 0) and (m > 0):\n",
    "        borrower_genders.append(\"mixed\")\n",
    "    elif (f == 0) and (m > 0):\n",
    "        borrower_genders.append(\"male\")\n",
    "    elif (f > 0) and (m == 0):\n",
    "        borrower_genders.append(\"female\")\n",
    "    else:\n",
    "        #Falls Eintrag fehlen sollte --> nachher überprüfen\n",
    "        borrower_genders.append(\"\")\n",
    "\n",
    "        #Listen in Dataframe einfügen        \n",
    "df_crowd[\"borrower_genders\"] = borrower_genders\n",
    "df_crowd[\"borrower_female\"] = borrower_female\n",
    "df_crowd[\"borrower_male\"] = borrower_male"
   ]
  },
  {
   "cell_type": "markdown",
   "metadata": {},
   "source": [
    "Test ob funktioniert"
   ]
  },
  {
   "cell_type": "code",
   "execution_count": 37,
   "metadata": {
    "ExecuteTime": {
     "end_time": "2020-12-10T13:56:03.842735Z",
     "start_time": "2020-12-10T13:56:03.828227Z"
    }
   },
   "outputs": [
    {
     "data": {
      "text/html": [
       "<div>\n",
       "<style scoped>\n",
       "    .dataframe tbody tr th:only-of-type {\n",
       "        vertical-align: middle;\n",
       "    }\n",
       "\n",
       "    .dataframe tbody tr th {\n",
       "        vertical-align: top;\n",
       "    }\n",
       "\n",
       "    .dataframe thead th {\n",
       "        text-align: right;\n",
       "    }\n",
       "</style>\n",
       "<table border=\"1\" class=\"dataframe\">\n",
       "  <thead>\n",
       "    <tr style=\"text-align: right;\">\n",
       "      <th></th>\n",
       "      <th>funded_amount</th>\n",
       "      <th>loan_amount</th>\n",
       "      <th>activity</th>\n",
       "      <th>sector</th>\n",
       "      <th>use</th>\n",
       "      <th>country_code</th>\n",
       "      <th>country</th>\n",
       "      <th>region</th>\n",
       "      <th>term_in_months</th>\n",
       "      <th>lender_count</th>\n",
       "      <th>borrower_genders</th>\n",
       "      <th>repayment_interval</th>\n",
       "      <th>goal_reached</th>\n",
       "      <th>borrower_female</th>\n",
       "      <th>borrower_male</th>\n",
       "    </tr>\n",
       "  </thead>\n",
       "  <tbody>\n",
       "    <tr>\n",
       "      <th>0</th>\n",
       "      <td>300</td>\n",
       "      <td>300</td>\n",
       "      <td>Fruits &amp; Vegetables</td>\n",
       "      <td>Food</td>\n",
       "      <td>To buy seasonal, fresh fruits to sell.</td>\n",
       "      <td>PK</td>\n",
       "      <td>Pakistan</td>\n",
       "      <td>Lahore</td>\n",
       "      <td>12</td>\n",
       "      <td>12</td>\n",
       "      <td>female</td>\n",
       "      <td>irregular</td>\n",
       "      <td>reached</td>\n",
       "      <td>1</td>\n",
       "      <td>0</td>\n",
       "    </tr>\n",
       "    <tr>\n",
       "      <th>1</th>\n",
       "      <td>575</td>\n",
       "      <td>575</td>\n",
       "      <td>Rickshaw</td>\n",
       "      <td>Transportation</td>\n",
       "      <td>to repair and maintain the auto rickshaw used ...</td>\n",
       "      <td>PK</td>\n",
       "      <td>Pakistan</td>\n",
       "      <td>Lahore</td>\n",
       "      <td>11</td>\n",
       "      <td>14</td>\n",
       "      <td>female</td>\n",
       "      <td>irregular</td>\n",
       "      <td>reached</td>\n",
       "      <td>2</td>\n",
       "      <td>0</td>\n",
       "    </tr>\n",
       "    <tr>\n",
       "      <th>2</th>\n",
       "      <td>150</td>\n",
       "      <td>150</td>\n",
       "      <td>Transportation</td>\n",
       "      <td>Transportation</td>\n",
       "      <td>To repair their old cycle-van and buy another ...</td>\n",
       "      <td>IN</td>\n",
       "      <td>India</td>\n",
       "      <td>Maynaguri</td>\n",
       "      <td>43</td>\n",
       "      <td>6</td>\n",
       "      <td>female</td>\n",
       "      <td>bullet</td>\n",
       "      <td>reached</td>\n",
       "      <td>1</td>\n",
       "      <td>0</td>\n",
       "    </tr>\n",
       "  </tbody>\n",
       "</table>\n",
       "</div>"
      ],
      "text/plain": [
       "   funded_amount  loan_amount             activity          sector  \\\n",
       "0            300          300  Fruits & Vegetables            Food   \n",
       "1            575          575             Rickshaw  Transportation   \n",
       "2            150          150       Transportation  Transportation   \n",
       "\n",
       "                                                 use country_code   country  \\\n",
       "0            To buy seasonal, fresh fruits to sell.            PK  Pakistan   \n",
       "1  to repair and maintain the auto rickshaw used ...           PK  Pakistan   \n",
       "2  To repair their old cycle-van and buy another ...           IN     India   \n",
       "\n",
       "      region  term_in_months  lender_count borrower_genders  \\\n",
       "0     Lahore              12            12           female   \n",
       "1     Lahore              11            14           female   \n",
       "2  Maynaguri              43             6           female   \n",
       "\n",
       "  repayment_interval goal_reached  borrower_female  borrower_male  \n",
       "0          irregular      reached                1              0  \n",
       "1          irregular      reached                2              0  \n",
       "2             bullet      reached                1              0  "
      ]
     },
     "execution_count": 37,
     "metadata": {},
     "output_type": "execute_result"
    }
   ],
   "source": [
    "df_crowd.head(3)"
   ]
  },
  {
   "cell_type": "markdown",
   "metadata": {},
   "source": [
    "Test ob es funktioniert hat und auch alle Geschlechtergruppen vertreten sind"
   ]
  },
  {
   "cell_type": "code",
   "execution_count": 38,
   "metadata": {
    "ExecuteTime": {
     "end_time": "2020-12-10T13:56:03.897332Z",
     "start_time": "2020-12-10T13:56:03.844299Z"
    }
   },
   "outputs": [
    {
     "data": {
      "text/plain": [
       "array(['female', 'male', 'mixed'], dtype=object)"
      ]
     },
     "execution_count": 38,
     "metadata": {},
     "output_type": "execute_result"
    }
   ],
   "source": [
    "df_crowd[\"borrower_genders\"].unique()"
   ]
  },
  {
   "cell_type": "code",
   "execution_count": 39,
   "metadata": {
    "ExecuteTime": {
     "end_time": "2020-12-10T13:56:03.978805Z",
     "start_time": "2020-12-10T13:56:03.899061Z"
    }
   },
   "outputs": [
    {
     "data": {
      "text/html": [
       "<div>\n",
       "<style scoped>\n",
       "    .dataframe tbody tr th:only-of-type {\n",
       "        vertical-align: middle;\n",
       "    }\n",
       "\n",
       "    .dataframe tbody tr th {\n",
       "        vertical-align: top;\n",
       "    }\n",
       "\n",
       "    .dataframe thead th {\n",
       "        text-align: right;\n",
       "    }\n",
       "</style>\n",
       "<table border=\"1\" class=\"dataframe\">\n",
       "  <thead>\n",
       "    <tr style=\"text-align: right;\">\n",
       "      <th></th>\n",
       "      <th>funded_amount</th>\n",
       "      <th>loan_amount</th>\n",
       "      <th>activity</th>\n",
       "      <th>sector</th>\n",
       "      <th>use</th>\n",
       "      <th>country_code</th>\n",
       "      <th>country</th>\n",
       "      <th>region</th>\n",
       "      <th>term_in_months</th>\n",
       "      <th>lender_count</th>\n",
       "      <th>borrower_genders</th>\n",
       "      <th>repayment_interval</th>\n",
       "      <th>goal_reached</th>\n",
       "      <th>borrower_female</th>\n",
       "      <th>borrower_male</th>\n",
       "    </tr>\n",
       "  </thead>\n",
       "  <tbody>\n",
       "    <tr>\n",
       "      <th>59</th>\n",
       "      <td>3175</td>\n",
       "      <td>3175</td>\n",
       "      <td>Home Products Sales</td>\n",
       "      <td>Retail</td>\n",
       "      <td>to buy fabric to sell and materials to make be...</td>\n",
       "      <td>TZ</td>\n",
       "      <td>Tanzania</td>\n",
       "      <td>Dar es Salaam</td>\n",
       "      <td>8</td>\n",
       "      <td>114</td>\n",
       "      <td>mixed</td>\n",
       "      <td>irregular</td>\n",
       "      <td>reached</td>\n",
       "      <td>3</td>\n",
       "      <td>1</td>\n",
       "    </tr>\n",
       "    <tr>\n",
       "      <th>88</th>\n",
       "      <td>5475</td>\n",
       "      <td>5475</td>\n",
       "      <td>Retail</td>\n",
       "      <td>Retail</td>\n",
       "      <td>to buy food stock and sacks of charcoal to use...</td>\n",
       "      <td>TZ</td>\n",
       "      <td>Tanzania</td>\n",
       "      <td>Dar es Salaam</td>\n",
       "      <td>9</td>\n",
       "      <td>169</td>\n",
       "      <td>mixed</td>\n",
       "      <td>irregular</td>\n",
       "      <td>reached</td>\n",
       "      <td>12</td>\n",
       "      <td>1</td>\n",
       "    </tr>\n",
       "  </tbody>\n",
       "</table>\n",
       "</div>"
      ],
      "text/plain": [
       "    funded_amount  loan_amount             activity  sector  \\\n",
       "59           3175         3175  Home Products Sales  Retail   \n",
       "88           5475         5475               Retail  Retail   \n",
       "\n",
       "                                                  use country_code   country  \\\n",
       "59  to buy fabric to sell and materials to make be...           TZ  Tanzania   \n",
       "88  to buy food stock and sacks of charcoal to use...           TZ  Tanzania   \n",
       "\n",
       "           region  term_in_months  lender_count borrower_genders  \\\n",
       "59  Dar es Salaam               8           114            mixed   \n",
       "88  Dar es Salaam               9           169            mixed   \n",
       "\n",
       "   repayment_interval goal_reached  borrower_female  borrower_male  \n",
       "59          irregular      reached                3              1  \n",
       "88          irregular      reached               12              1  "
      ]
     },
     "execution_count": 39,
     "metadata": {},
     "output_type": "execute_result"
    }
   ],
   "source": [
    "df_crowd.loc[df_crowd[\"borrower_genders\"] == 'mixed'][0:2]"
   ]
  },
  {
   "cell_type": "code",
   "execution_count": 40,
   "metadata": {
    "ExecuteTime": {
     "end_time": "2020-12-10T13:56:04.062405Z",
     "start_time": "2020-12-10T13:56:03.980887Z"
    }
   },
   "outputs": [
    {
     "data": {
      "text/html": [
       "<div>\n",
       "<style scoped>\n",
       "    .dataframe tbody tr th:only-of-type {\n",
       "        vertical-align: middle;\n",
       "    }\n",
       "\n",
       "    .dataframe tbody tr th {\n",
       "        vertical-align: top;\n",
       "    }\n",
       "\n",
       "    .dataframe thead th {\n",
       "        text-align: right;\n",
       "    }\n",
       "</style>\n",
       "<table border=\"1\" class=\"dataframe\">\n",
       "  <thead>\n",
       "    <tr style=\"text-align: right;\">\n",
       "      <th></th>\n",
       "      <th>funded_amount</th>\n",
       "      <th>loan_amount</th>\n",
       "      <th>activity</th>\n",
       "      <th>sector</th>\n",
       "      <th>use</th>\n",
       "      <th>country_code</th>\n",
       "      <th>country</th>\n",
       "      <th>region</th>\n",
       "      <th>term_in_months</th>\n",
       "      <th>lender_count</th>\n",
       "      <th>borrower_genders</th>\n",
       "      <th>repayment_interval</th>\n",
       "      <th>goal_reached</th>\n",
       "      <th>borrower_female</th>\n",
       "      <th>borrower_male</th>\n",
       "    </tr>\n",
       "  </thead>\n",
       "  <tbody>\n",
       "    <tr>\n",
       "      <th>49</th>\n",
       "      <td>450</td>\n",
       "      <td>450</td>\n",
       "      <td>General Store</td>\n",
       "      <td>Retail</td>\n",
       "      <td>to stock his store.</td>\n",
       "      <td>SV</td>\n",
       "      <td>El Salvador</td>\n",
       "      <td>NaN</td>\n",
       "      <td>14</td>\n",
       "      <td>18</td>\n",
       "      <td>male</td>\n",
       "      <td>monthly</td>\n",
       "      <td>reached</td>\n",
       "      <td>0</td>\n",
       "      <td>1</td>\n",
       "    </tr>\n",
       "    <tr>\n",
       "      <th>50</th>\n",
       "      <td>3175</td>\n",
       "      <td>3175</td>\n",
       "      <td>Butcher Shop</td>\n",
       "      <td>Food</td>\n",
       "      <td>to buy meat and also to start selling fish in ...</td>\n",
       "      <td>TZ</td>\n",
       "      <td>Tanzania</td>\n",
       "      <td>Dar es Salaam</td>\n",
       "      <td>10</td>\n",
       "      <td>93</td>\n",
       "      <td>male</td>\n",
       "      <td>monthly</td>\n",
       "      <td>reached</td>\n",
       "      <td>0</td>\n",
       "      <td>5</td>\n",
       "    </tr>\n",
       "  </tbody>\n",
       "</table>\n",
       "</div>"
      ],
      "text/plain": [
       "    funded_amount  loan_amount       activity  sector  \\\n",
       "49            450          450  General Store  Retail   \n",
       "50           3175         3175   Butcher Shop    Food   \n",
       "\n",
       "                                                  use country_code  \\\n",
       "49                                to stock his store.           SV   \n",
       "50  to buy meat and also to start selling fish in ...           TZ   \n",
       "\n",
       "        country         region  term_in_months  lender_count borrower_genders  \\\n",
       "49  El Salvador            NaN              14            18             male   \n",
       "50     Tanzania  Dar es Salaam              10            93             male   \n",
       "\n",
       "   repayment_interval goal_reached  borrower_female  borrower_male  \n",
       "49            monthly      reached                0              1  \n",
       "50            monthly      reached                0              5  "
      ]
     },
     "execution_count": 40,
     "metadata": {},
     "output_type": "execute_result"
    }
   ],
   "source": [
    "df_crowd.loc[df_crowd[\"borrower_genders\"] == 'male'][0:2]"
   ]
  },
  {
   "cell_type": "markdown",
   "metadata": {},
   "source": [
    "## Datei exportieren\n",
    "Datei nach csv exportieren um bei der Visualisierung in Ruhe weitermachen zu können"
   ]
  },
  {
   "cell_type": "code",
   "execution_count": 41,
   "metadata": {
    "ExecuteTime": {
     "end_time": "2020-12-10T13:56:08.366039Z",
     "start_time": "2020-12-10T13:56:04.063759Z"
    }
   },
   "outputs": [
    {
     "name": "stdout",
     "output_type": "stream",
     "text": [
      ",funded_amount,loan_amount,activity,sector,use,country_code,country,region,term_in_months,lender_count,borrower_genders,repayment_interval,goal_reached,borrower_female,borrower_male\r\n",
      "0,300,300,Fruits & Vegetables,Food,\"To buy seasonal, fresh fruits to sell. \",PK,Pakistan,Lahore,12,12,female,irregular,reached,1,0\r\n",
      "1,575,575,Rickshaw,Transportation,to repair and maintain the auto rickshaw used in their business.,PK,Pakistan,Lahore,11,14,female,irregular,reached,2,0\r\n",
      "2,150,150,Transportation,Transportation,To repair their old cycle-van and buy another one to rent out as a source of income,IN,India,Maynaguri,43,6,female,bullet,reached,1,0\r\n",
      "3,200,200,Embroidery,Arts,to purchase an embroidery machine and a variety of new embroidery materials.,PK,Pakistan,Lahore,11,8,female,irregular,reached,1,0\r\n",
      "4,400,400,Milk Sales,Food,to purchase one buffalo.,PK,Pakistan,Abdul Hakeem,14,16,female,monthly,reached,1,0\r\n",
      "5,250,250,Services,Services,purchase leather for my business using ksh 20000.,KE,Kenya,,4,6,female,irregular,reached,1,0\r\n",
      "6,200,200,Dairy,Agriculture,To purchase a dairy cow and start a milk products business .,IN,India,Maynaguri,43,8,female,bullet,reached,1,0\r\n",
      "7,400,400,Beauty Salon,Services,to buy more hair and skin care products.  ,PK,Pakistan,Ellahabad,14,8,female,monthly,reached,1,0\r\n",
      "8,475,475,Manufacturing,Manufacturing,\"to purchase leather, plastic soles and heels in different sizes along with spools of thread.\",PK,Pakistan,Lahore,14,19,female,monthly,reached,1,0\r\n"
     ]
    }
   ],
   "source": [
    "#Nach CSV exportieren\n",
    "df_crowd.to_csv('./crowdfunding_after_preprocessing.csv')\n",
    "#Hat funktioniert?\n",
    "!head './crowdfunding_after_preprocessing.csv'"
   ]
  }
 ],
 "metadata": {
  "kernelspec": {
   "display_name": "Python 3",
   "language": "python",
   "name": "python3"
  },
  "language_info": {
   "codemirror_mode": {
    "name": "ipython",
    "version": 3
   },
   "file_extension": ".py",
   "mimetype": "text/x-python",
   "name": "python",
   "nbconvert_exporter": "python",
   "pygments_lexer": "ipython3",
   "version": "3.7.9"
  },
  "toc": {
   "base_numbering": 1,
   "nav_menu": {},
   "number_sections": false,
   "sideBar": true,
   "skip_h1_title": false,
   "title_cell": "Table of Contents",
   "title_sidebar": "Contents",
   "toc_cell": false,
   "toc_position": {
    "height": "calc(100% - 180px)",
    "left": "10px",
    "top": "150px",
    "width": "294.4px"
   },
   "toc_section_display": true,
   "toc_window_display": false
  },
  "varInspector": {
   "cols": {
    "lenName": 16,
    "lenType": 16,
    "lenVar": 40
   },
   "kernels_config": {
    "python": {
     "delete_cmd_postfix": "",
     "delete_cmd_prefix": "del ",
     "library": "var_list.py",
     "varRefreshCmd": "print(var_dic_list())"
    },
    "r": {
     "delete_cmd_postfix": ") ",
     "delete_cmd_prefix": "rm(",
     "library": "var_list.r",
     "varRefreshCmd": "cat(var_dic_list()) "
    }
   },
   "position": {
    "height": "317.25px",
    "left": "652px",
    "right": "20px",
    "top": "120px",
    "width": "800px"
   },
   "types_to_exclude": [
    "module",
    "function",
    "builtin_function_or_method",
    "instance",
    "_Feature"
   ],
   "window_display": false
  }
 },
 "nbformat": 4,
 "nbformat_minor": 4
}
