{
 "cells": [
  {
   "cell_type": "markdown",
   "metadata": {},
   "source": [
    "# Train delays and cancelled trains in switzerland 2019\n",
    "Jupyter Notebook to inspect the average train delays and ampunt of cancelled trains for Switzerland in year 2019<br>\n",
    "Data is provided by https://opentransportdata.swiss/de/, data for 2019 is stored in an google drive (https://drive.google.com/drive/folders/1SVa68nJJRL3qgRSPKcXY7KuPN9MuHVhJ)<br>\n",
    "Data for the whole year was already downloaded and preprocessed (selecting train data only already calculate the delays). The preprocessed data is stored in two zip-files. delays.zip containing the delay for each train and train station and cancelled.zip containing data for cancelled trains for each train.<br>\n",
    "2019 was choosen because 2020 is impacted by the corona crisis.<br>\n",
    "Delays are counted if a trains is more than 3 minutes late (according to https://www.aargauerzeitung.ch/schweiz/unpunktliche-sbb-so-schummeln-sich-unsere-nachbarlander-ihre-zug-verspatungen-schon-ld.1358444)"
   ]
  },
  {
   "cell_type": "code",
   "execution_count": 1,
   "metadata": {
    "ExecuteTime": {
     "end_time": "2021-03-28T19:05:39.015204Z",
     "start_time": "2021-03-28T19:05:37.899347Z"
    }
   },
   "outputs": [],
   "source": [
    "import numpy as np\n",
    "import pandas as pd\n",
    "import matplotlib.pyplot as plt\n",
    "import seaborn as sns\n",
    "from zipfile import ZipFile\n",
    "from io import BytesIO"
   ]
  },
  {
   "cell_type": "markdown",
   "metadata": {},
   "source": [
    "## Train delays 2019\n",
    "### Loading and Preprocessing"
   ]
  },
  {
   "cell_type": "code",
   "execution_count": 2,
   "metadata": {
    "ExecuteTime": {
     "end_time": "2021-03-28T19:06:34.442192Z",
     "start_time": "2021-03-28T19:05:39.017729Z"
    }
   },
   "outputs": [
    {
     "data": {
      "text/html": [
       "<div>\n",
       "<style scoped>\n",
       "    .dataframe tbody tr th:only-of-type {\n",
       "        vertical-align: middle;\n",
       "    }\n",
       "\n",
       "    .dataframe tbody tr th {\n",
       "        vertical-align: top;\n",
       "    }\n",
       "\n",
       "    .dataframe thead th {\n",
       "        text-align: right;\n",
       "    }\n",
       "</style>\n",
       "<table border=\"1\" class=\"dataframe\">\n",
       "  <thead>\n",
       "    <tr style=\"text-align: right;\">\n",
       "      <th></th>\n",
       "      <th>BETRIEBSTAG</th>\n",
       "      <th>BETREIBER_ABK</th>\n",
       "      <th>BETREIBER_NAME</th>\n",
       "      <th>LINIEN_ID</th>\n",
       "      <th>LINIEN_TEXT</th>\n",
       "      <th>HALTESTELLEN_NAME</th>\n",
       "      <th>ANKUNFTSZEIT</th>\n",
       "      <th>AN_PROGNOSE</th>\n",
       "      <th>VERSPAETUNG</th>\n",
       "    </tr>\n",
       "  </thead>\n",
       "  <tbody>\n",
       "    <tr>\n",
       "      <th>0</th>\n",
       "      <td>01.01.2019</td>\n",
       "      <td>NeTS-DB</td>\n",
       "      <td>NeTS Planung DB</td>\n",
       "      <td>19700.0</td>\n",
       "      <td>RB</td>\n",
       "      <td>Schaffhausen</td>\n",
       "      <td>2019-01-01 05:54:00</td>\n",
       "      <td>2019-01-01 05:54:00</td>\n",
       "      <td>0</td>\n",
       "    </tr>\n",
       "    <tr>\n",
       "      <th>1</th>\n",
       "      <td>01.01.2019</td>\n",
       "      <td>NeTS-DB</td>\n",
       "      <td>NeTS Planung DB</td>\n",
       "      <td>19702.0</td>\n",
       "      <td>RB</td>\n",
       "      <td>Schaffhausen</td>\n",
       "      <td>2019-01-01 06:24:00</td>\n",
       "      <td>2019-01-01 06:24:00</td>\n",
       "      <td>0</td>\n",
       "    </tr>\n",
       "    <tr>\n",
       "      <th>2</th>\n",
       "      <td>01.01.2019</td>\n",
       "      <td>NeTS-DB</td>\n",
       "      <td>NeTS Planung DB</td>\n",
       "      <td>19704.0</td>\n",
       "      <td>RB</td>\n",
       "      <td>Schaffhausen</td>\n",
       "      <td>2019-01-01 06:54:00</td>\n",
       "      <td>2019-01-01 06:54:00</td>\n",
       "      <td>0</td>\n",
       "    </tr>\n",
       "  </tbody>\n",
       "</table>\n",
       "</div>"
      ],
      "text/plain": [
       "  BETRIEBSTAG BETREIBER_ABK   BETREIBER_NAME  LINIEN_ID LINIEN_TEXT  \\\n",
       "0  01.01.2019       NeTS-DB  NeTS Planung DB    19700.0          RB   \n",
       "1  01.01.2019       NeTS-DB  NeTS Planung DB    19702.0          RB   \n",
       "2  01.01.2019       NeTS-DB  NeTS Planung DB    19704.0          RB   \n",
       "\n",
       "  HALTESTELLEN_NAME         ANKUNFTSZEIT          AN_PROGNOSE  VERSPAETUNG  \n",
       "0      Schaffhausen  2019-01-01 05:54:00  2019-01-01 05:54:00            0  \n",
       "1      Schaffhausen  2019-01-01 06:24:00  2019-01-01 06:24:00            0  \n",
       "2      Schaffhausen  2019-01-01 06:54:00  2019-01-01 06:54:00            0  "
      ]
     },
     "metadata": {},
     "output_type": "display_data"
    },
    {
     "name": "stdout",
     "output_type": "stream",
     "text": [
      "<class 'pandas.core.frame.DataFrame'>\n",
      "RangeIndex: 37647301 entries, 0 to 37647300\n",
      "Data columns (total 9 columns):\n",
      " #   Column             Dtype  \n",
      "---  ------             -----  \n",
      " 0   BETRIEBSTAG        object \n",
      " 1   BETREIBER_ABK      object \n",
      " 2   BETREIBER_NAME     object \n",
      " 3   LINIEN_ID          float64\n",
      " 4   LINIEN_TEXT        object \n",
      " 5   HALTESTELLEN_NAME  object \n",
      " 6   ANKUNFTSZEIT       object \n",
      " 7   AN_PROGNOSE        object \n",
      " 8   VERSPAETUNG        int64  \n",
      "dtypes: float64(1), int64(1), object(7)\n",
      "memory usage: 2.5+ GB\n"
     ]
    },
    {
     "data": {
      "text/plain": [
       "None"
      ]
     },
     "metadata": {},
     "output_type": "display_data"
    },
    {
     "data": {
      "text/html": [
       "<div>\n",
       "<style scoped>\n",
       "    .dataframe tbody tr th:only-of-type {\n",
       "        vertical-align: middle;\n",
       "    }\n",
       "\n",
       "    .dataframe tbody tr th {\n",
       "        vertical-align: top;\n",
       "    }\n",
       "\n",
       "    .dataframe thead th {\n",
       "        text-align: right;\n",
       "    }\n",
       "</style>\n",
       "<table border=\"1\" class=\"dataframe\">\n",
       "  <thead>\n",
       "    <tr style=\"text-align: right;\">\n",
       "      <th></th>\n",
       "      <th>LINIEN_ID</th>\n",
       "      <th>VERSPAETUNG</th>\n",
       "    </tr>\n",
       "  </thead>\n",
       "  <tbody>\n",
       "    <tr>\n",
       "      <th>count</th>\n",
       "      <td>3.764730e+07</td>\n",
       "      <td>3.764730e+07</td>\n",
       "    </tr>\n",
       "    <tr>\n",
       "      <th>mean</th>\n",
       "      <td>1.271814e+04</td>\n",
       "      <td>-1.714960e+12</td>\n",
       "    </tr>\n",
       "    <tr>\n",
       "      <th>std</th>\n",
       "      <td>9.376804e+03</td>\n",
       "      <td>3.977148e+15</td>\n",
       "    </tr>\n",
       "    <tr>\n",
       "      <th>min</th>\n",
       "      <td>1.000000e+00</td>\n",
       "      <td>-9.223372e+18</td>\n",
       "    </tr>\n",
       "    <tr>\n",
       "      <th>25%</th>\n",
       "      <td>6.106000e+03</td>\n",
       "      <td>0.000000e+00</td>\n",
       "    </tr>\n",
       "    <tr>\n",
       "      <th>50%</th>\n",
       "      <td>1.247300e+04</td>\n",
       "      <td>0.000000e+00</td>\n",
       "    </tr>\n",
       "    <tr>\n",
       "      <th>75%</th>\n",
       "      <td>1.916900e+04</td>\n",
       "      <td>1.000000e+00</td>\n",
       "    </tr>\n",
       "    <tr>\n",
       "      <th>max</th>\n",
       "      <td>8.871360e+05</td>\n",
       "      <td>1.381000e+03</td>\n",
       "    </tr>\n",
       "  </tbody>\n",
       "</table>\n",
       "</div>"
      ],
      "text/plain": [
       "          LINIEN_ID   VERSPAETUNG\n",
       "count  3.764730e+07  3.764730e+07\n",
       "mean   1.271814e+04 -1.714960e+12\n",
       "std    9.376804e+03  3.977148e+15\n",
       "min    1.000000e+00 -9.223372e+18\n",
       "25%    6.106000e+03  0.000000e+00\n",
       "50%    1.247300e+04  0.000000e+00\n",
       "75%    1.916900e+04  1.000000e+00\n",
       "max    8.871360e+05  1.381000e+03"
      ]
     },
     "metadata": {},
     "output_type": "display_data"
    }
   ],
   "source": [
    "#load data and first look\n",
    "with ZipFile('./delays.zip', 'r') as zipObj:\n",
    "    tmp_data = zipObj.read('delays.csv')\n",
    "    df_delays = pd.read_csv(BytesIO(tmp_data), parse_dates=False)\n",
    "    display(df_delays.head(3))\n",
    "    display(df_delays.info())\n",
    "    display(df_delays.describe())\n",
    "del tmp_data"
   ]
  },
  {
   "cell_type": "markdown",
   "metadata": {},
   "source": [
    "LINIEN_ID can be transformed to int<br>\n",
    "The min, mean values for VERSPAETUNG are odd and need to be checked"
   ]
  },
  {
   "cell_type": "code",
   "execution_count": 3,
   "metadata": {
    "ExecuteTime": {
     "end_time": "2021-03-28T19:06:34.609225Z",
     "start_time": "2021-03-28T19:06:34.444694Z"
    }
   },
   "outputs": [],
   "source": [
    "#change type of LINIEN_ID to int\n",
    "df_delays['LINIEN_ID'] = df_delays['LINIEN_ID'].astype(int)"
   ]
  },
  {
   "cell_type": "code",
   "execution_count": 4,
   "metadata": {
    "ExecuteTime": {
     "end_time": "2021-03-28T19:06:35.090924Z",
     "start_time": "2021-03-28T19:06:34.612208Z"
    }
   },
   "outputs": [
    {
     "data": {
      "text/html": [
       "<div>\n",
       "<style scoped>\n",
       "    .dataframe tbody tr th:only-of-type {\n",
       "        vertical-align: middle;\n",
       "    }\n",
       "\n",
       "    .dataframe tbody tr th {\n",
       "        vertical-align: top;\n",
       "    }\n",
       "\n",
       "    .dataframe thead th {\n",
       "        text-align: right;\n",
       "    }\n",
       "</style>\n",
       "<table border=\"1\" class=\"dataframe\">\n",
       "  <thead>\n",
       "    <tr style=\"text-align: right;\">\n",
       "      <th></th>\n",
       "      <th>BETRIEBSTAG</th>\n",
       "      <th>BETREIBER_ABK</th>\n",
       "      <th>BETREIBER_NAME</th>\n",
       "      <th>LINIEN_ID</th>\n",
       "      <th>LINIEN_TEXT</th>\n",
       "      <th>HALTESTELLEN_NAME</th>\n",
       "      <th>ANKUNFTSZEIT</th>\n",
       "      <th>AN_PROGNOSE</th>\n",
       "      <th>VERSPAETUNG</th>\n",
       "    </tr>\n",
       "  </thead>\n",
       "  <tbody>\n",
       "    <tr>\n",
       "      <th>18676974</th>\n",
       "      <td>23.06.2019</td>\n",
       "      <td>RBS</td>\n",
       "      <td>Regionalverkehr Bern-Solothurn</td>\n",
       "      <td>88215</td>\n",
       "      <td>S8</td>\n",
       "      <td>Moosseedorf</td>\n",
       "      <td>NaN</td>\n",
       "      <td>2019-06-23 21:48:00</td>\n",
       "      <td>-9223372036854775808</td>\n",
       "    </tr>\n",
       "    <tr>\n",
       "      <th>18677006</th>\n",
       "      <td>23.06.2019</td>\n",
       "      <td>RBS</td>\n",
       "      <td>Regionalverkehr Bern-Solothurn</td>\n",
       "      <td>88221</td>\n",
       "      <td>S8</td>\n",
       "      <td>Moosseedorf</td>\n",
       "      <td>NaN</td>\n",
       "      <td>2019-06-23 22:18:00</td>\n",
       "      <td>-9223372036854775808</td>\n",
       "    </tr>\n",
       "    <tr>\n",
       "      <th>18677038</th>\n",
       "      <td>23.06.2019</td>\n",
       "      <td>RBS</td>\n",
       "      <td>Regionalverkehr Bern-Solothurn</td>\n",
       "      <td>88225</td>\n",
       "      <td>S8</td>\n",
       "      <td>Moosseedorf</td>\n",
       "      <td>NaN</td>\n",
       "      <td>2019-06-23 22:47:00</td>\n",
       "      <td>-9223372036854775808</td>\n",
       "    </tr>\n",
       "    <tr>\n",
       "      <th>18677070</th>\n",
       "      <td>23.06.2019</td>\n",
       "      <td>RBS</td>\n",
       "      <td>Regionalverkehr Bern-Solothurn</td>\n",
       "      <td>88231</td>\n",
       "      <td>S8</td>\n",
       "      <td>Moosseedorf</td>\n",
       "      <td>NaN</td>\n",
       "      <td>2019-06-23 23:19:00</td>\n",
       "      <td>-9223372036854775808</td>\n",
       "    </tr>\n",
       "    <tr>\n",
       "      <th>18677102</th>\n",
       "      <td>23.06.2019</td>\n",
       "      <td>RBS</td>\n",
       "      <td>Regionalverkehr Bern-Solothurn</td>\n",
       "      <td>88235</td>\n",
       "      <td>S8</td>\n",
       "      <td>Moosseedorf</td>\n",
       "      <td>NaN</td>\n",
       "      <td>2019-06-23 23:49:00</td>\n",
       "      <td>-9223372036854775808</td>\n",
       "    </tr>\n",
       "    <tr>\n",
       "      <th>18677134</th>\n",
       "      <td>23.06.2019</td>\n",
       "      <td>RBS</td>\n",
       "      <td>Regionalverkehr Bern-Solothurn</td>\n",
       "      <td>88241</td>\n",
       "      <td>S8</td>\n",
       "      <td>Moosseedorf</td>\n",
       "      <td>NaN</td>\n",
       "      <td>2019-06-24 00:22:00</td>\n",
       "      <td>-9223372036854775808</td>\n",
       "    </tr>\n",
       "    <tr>\n",
       "      <th>20161022</th>\n",
       "      <td>23.07.2019</td>\n",
       "      <td>RhB</td>\n",
       "      <td>Rhätische Bahn</td>\n",
       "      <td>1310</td>\n",
       "      <td>RE</td>\n",
       "      <td>Zernez</td>\n",
       "      <td>NaN</td>\n",
       "      <td>2019-07-22 22:33:00</td>\n",
       "      <td>-9223372036854775808</td>\n",
       "    </tr>\n",
       "  </tbody>\n",
       "</table>\n",
       "</div>"
      ],
      "text/plain": [
       "         BETRIEBSTAG BETREIBER_ABK                  BETREIBER_NAME  LINIEN_ID  \\\n",
       "18676974  23.06.2019           RBS  Regionalverkehr Bern-Solothurn      88215   \n",
       "18677006  23.06.2019           RBS  Regionalverkehr Bern-Solothurn      88221   \n",
       "18677038  23.06.2019           RBS  Regionalverkehr Bern-Solothurn      88225   \n",
       "18677070  23.06.2019           RBS  Regionalverkehr Bern-Solothurn      88231   \n",
       "18677102  23.06.2019           RBS  Regionalverkehr Bern-Solothurn      88235   \n",
       "18677134  23.06.2019           RBS  Regionalverkehr Bern-Solothurn      88241   \n",
       "20161022  23.07.2019           RhB                  Rhätische Bahn       1310   \n",
       "\n",
       "         LINIEN_TEXT HALTESTELLEN_NAME ANKUNFTSZEIT          AN_PROGNOSE  \\\n",
       "18676974          S8       Moosseedorf          NaN  2019-06-23 21:48:00   \n",
       "18677006          S8       Moosseedorf          NaN  2019-06-23 22:18:00   \n",
       "18677038          S8       Moosseedorf          NaN  2019-06-23 22:47:00   \n",
       "18677070          S8       Moosseedorf          NaN  2019-06-23 23:19:00   \n",
       "18677102          S8       Moosseedorf          NaN  2019-06-23 23:49:00   \n",
       "18677134          S8       Moosseedorf          NaN  2019-06-24 00:22:00   \n",
       "20161022          RE            Zernez          NaN  2019-07-22 22:33:00   \n",
       "\n",
       "                  VERSPAETUNG  \n",
       "18676974 -9223372036854775808  \n",
       "18677006 -9223372036854775808  \n",
       "18677038 -9223372036854775808  \n",
       "18677070 -9223372036854775808  \n",
       "18677102 -9223372036854775808  \n",
       "18677134 -9223372036854775808  \n",
       "20161022 -9223372036854775808  "
      ]
     },
     "execution_count": 4,
     "metadata": {},
     "output_type": "execute_result"
    }
   ],
   "source": [
    "#show min values\n",
    "df_delays.loc[df_delays['VERSPAETUNG'] == df_delays['VERSPAETUNG'].min()]"
   ]
  },
  {
   "cell_type": "markdown",
   "metadata": {},
   "source": [
    "Caused by NaN values in Arrival time<br>\n",
    "--> anyway we are interessted in delays therefore I set negative delays to zero, so early arrivals don't give a bonus to average delay"
   ]
  },
  {
   "cell_type": "code",
   "execution_count": 5,
   "metadata": {
    "ExecuteTime": {
     "end_time": "2021-03-28T19:06:37.062797Z",
     "start_time": "2021-03-28T19:06:35.092760Z"
    }
   },
   "outputs": [
    {
     "data": {
      "text/html": [
       "<div>\n",
       "<style scoped>\n",
       "    .dataframe tbody tr th:only-of-type {\n",
       "        vertical-align: middle;\n",
       "    }\n",
       "\n",
       "    .dataframe tbody tr th {\n",
       "        vertical-align: top;\n",
       "    }\n",
       "\n",
       "    .dataframe thead th {\n",
       "        text-align: right;\n",
       "    }\n",
       "</style>\n",
       "<table border=\"1\" class=\"dataframe\">\n",
       "  <thead>\n",
       "    <tr style=\"text-align: right;\">\n",
       "      <th></th>\n",
       "      <th>LINIEN_ID</th>\n",
       "      <th>VERSPAETUNG</th>\n",
       "    </tr>\n",
       "  </thead>\n",
       "  <tbody>\n",
       "    <tr>\n",
       "      <th>count</th>\n",
       "      <td>3.764730e+07</td>\n",
       "      <td>3.764730e+07</td>\n",
       "    </tr>\n",
       "    <tr>\n",
       "      <th>mean</th>\n",
       "      <td>1.271814e+04</td>\n",
       "      <td>8.697987e-01</td>\n",
       "    </tr>\n",
       "    <tr>\n",
       "      <th>std</th>\n",
       "      <td>9.376804e+03</td>\n",
       "      <td>2.434919e+00</td>\n",
       "    </tr>\n",
       "    <tr>\n",
       "      <th>min</th>\n",
       "      <td>1.000000e+00</td>\n",
       "      <td>0.000000e+00</td>\n",
       "    </tr>\n",
       "    <tr>\n",
       "      <th>25%</th>\n",
       "      <td>6.106000e+03</td>\n",
       "      <td>0.000000e+00</td>\n",
       "    </tr>\n",
       "    <tr>\n",
       "      <th>50%</th>\n",
       "      <td>1.247300e+04</td>\n",
       "      <td>0.000000e+00</td>\n",
       "    </tr>\n",
       "    <tr>\n",
       "      <th>75%</th>\n",
       "      <td>1.916900e+04</td>\n",
       "      <td>1.000000e+00</td>\n",
       "    </tr>\n",
       "    <tr>\n",
       "      <th>max</th>\n",
       "      <td>8.871360e+05</td>\n",
       "      <td>1.381000e+03</td>\n",
       "    </tr>\n",
       "  </tbody>\n",
       "</table>\n",
       "</div>"
      ],
      "text/plain": [
       "          LINIEN_ID   VERSPAETUNG\n",
       "count  3.764730e+07  3.764730e+07\n",
       "mean   1.271814e+04  8.697987e-01\n",
       "std    9.376804e+03  2.434919e+00\n",
       "min    1.000000e+00  0.000000e+00\n",
       "25%    6.106000e+03  0.000000e+00\n",
       "50%    1.247300e+04  0.000000e+00\n",
       "75%    1.916900e+04  1.000000e+00\n",
       "max    8.871360e+05  1.381000e+03"
      ]
     },
     "execution_count": 5,
     "metadata": {},
     "output_type": "execute_result"
    }
   ],
   "source": [
    "df_delays.loc[df_delays['VERSPAETUNG'] < 0, 'VERSPAETUNG'] = 0\n",
    "df_delays.describe()"
   ]
  },
  {
   "cell_type": "code",
   "execution_count": 6,
   "metadata": {
    "ExecuteTime": {
     "end_time": "2021-03-28T19:06:37.167458Z",
     "start_time": "2021-03-28T19:06:37.064947Z"
    }
   },
   "outputs": [
    {
     "data": {
      "text/html": [
       "<div>\n",
       "<style scoped>\n",
       "    .dataframe tbody tr th:only-of-type {\n",
       "        vertical-align: middle;\n",
       "    }\n",
       "\n",
       "    .dataframe tbody tr th {\n",
       "        vertical-align: top;\n",
       "    }\n",
       "\n",
       "    .dataframe thead th {\n",
       "        text-align: right;\n",
       "    }\n",
       "</style>\n",
       "<table border=\"1\" class=\"dataframe\">\n",
       "  <thead>\n",
       "    <tr style=\"text-align: right;\">\n",
       "      <th></th>\n",
       "      <th>BETRIEBSTAG</th>\n",
       "      <th>BETREIBER_ABK</th>\n",
       "      <th>BETREIBER_NAME</th>\n",
       "      <th>LINIEN_ID</th>\n",
       "      <th>LINIEN_TEXT</th>\n",
       "      <th>HALTESTELLEN_NAME</th>\n",
       "      <th>ANKUNFTSZEIT</th>\n",
       "      <th>AN_PROGNOSE</th>\n",
       "      <th>VERSPAETUNG</th>\n",
       "    </tr>\n",
       "  </thead>\n",
       "  <tbody>\n",
       "    <tr>\n",
       "      <th>19622763</th>\n",
       "      <td>18.07.2019</td>\n",
       "      <td>TPF</td>\n",
       "      <td>Transports publics fribourgeois</td>\n",
       "      <td>14416</td>\n",
       "      <td>S20</td>\n",
       "      <td>Givisiez</td>\n",
       "      <td>2019-07-18 05:35:00</td>\n",
       "      <td>2019-09-02 04:36:00</td>\n",
       "      <td>1381</td>\n",
       "    </tr>\n",
       "  </tbody>\n",
       "</table>\n",
       "</div>"
      ],
      "text/plain": [
       "         BETRIEBSTAG BETREIBER_ABK                   BETREIBER_NAME  \\\n",
       "19622763  18.07.2019           TPF  Transports publics fribourgeois   \n",
       "\n",
       "          LINIEN_ID LINIEN_TEXT HALTESTELLEN_NAME         ANKUNFTSZEIT  \\\n",
       "19622763      14416         S20          Givisiez  2019-07-18 05:35:00   \n",
       "\n",
       "                  AN_PROGNOSE  VERSPAETUNG  \n",
       "19622763  2019-09-02 04:36:00         1381  "
      ]
     },
     "execution_count": 6,
     "metadata": {},
     "output_type": "execute_result"
    }
   ],
   "source": [
    "#show train with maximum delay value\n",
    "df_delays.loc[df_delays['VERSPAETUNG'] == df_delays['VERSPAETUNG'].max()]"
   ]
  },
  {
   "cell_type": "markdown",
   "metadata": {},
   "source": [
    "more than 23hours delay that is impressive but also caused by an wrong value in the scheduled arrival time"
   ]
  },
  {
   "cell_type": "code",
   "execution_count": 7,
   "metadata": {
    "ExecuteTime": {
     "end_time": "2021-03-28T19:06:37.217042Z",
     "start_time": "2021-03-28T19:06:37.169387Z"
    }
   },
   "outputs": [
    {
     "name": "stdout",
     "output_type": "stream",
     "text": [
      "Entries with trains who arrive more than 18h later:\n",
      "54\n"
     ]
    }
   ],
   "source": [
    "print(f\"Entries with trains who arrive more than 18h later:\\n{df_delays.loc[df_delays['VERSPAETUNG'] > 1080].size}\")"
   ]
  },
  {
   "cell_type": "markdown",
   "metadata": {},
   "source": [
    "### Average delay"
   ]
  },
  {
   "cell_type": "code",
   "execution_count": 8,
   "metadata": {
    "ExecuteTime": {
     "end_time": "2021-03-28T19:06:37.785031Z",
     "start_time": "2021-03-28T19:06:37.220836Z"
    }
   },
   "outputs": [
    {
     "name": "stdout",
     "output_type": "stream",
     "text": [
      "0.8697986875606302\n",
      "0.0\n"
     ]
    }
   ],
   "source": [
    "#mean and median delay if also punctual trains are considered\n",
    "print(df_delays['VERSPAETUNG'].mean())\n",
    "print(df_delays['VERSPAETUNG'].median())"
   ]
  },
  {
   "cell_type": "code",
   "execution_count": 9,
   "metadata": {
    "ExecuteTime": {
     "end_time": "2021-03-28T19:06:38.266620Z",
     "start_time": "2021-03-28T19:06:37.789191Z"
    }
   },
   "outputs": [
    {
     "name": "stdout",
     "output_type": "stream",
     "text": [
      "6.548620533945446\n",
      "5.0\n"
     ]
    }
   ],
   "source": [
    "#mean and median delay if only delayed trains are considered\n",
    "df_tmp = df_delays.loc[df_delays['VERSPAETUNG'] > 3]\n",
    "print(df_tmp['VERSPAETUNG'].mean())\n",
    "print(df_tmp['VERSPAETUNG'].median())\n",
    "del df_tmp"
   ]
  },
  {
   "cell_type": "markdown",
   "metadata": {},
   "source": [
    "For more detailed look, only look at major companies"
   ]
  },
  {
   "cell_type": "code",
   "execution_count": 10,
   "metadata": {
    "ExecuteTime": {
     "end_time": "2021-03-28T19:06:41.628225Z",
     "start_time": "2021-03-28T19:06:38.268301Z"
    }
   },
   "outputs": [
    {
     "data": {
      "text/html": [
       "<div>\n",
       "<style scoped>\n",
       "    .dataframe tbody tr th:only-of-type {\n",
       "        vertical-align: middle;\n",
       "    }\n",
       "\n",
       "    .dataframe tbody tr th {\n",
       "        vertical-align: top;\n",
       "    }\n",
       "\n",
       "    .dataframe thead th {\n",
       "        text-align: right;\n",
       "    }\n",
       "</style>\n",
       "<table border=\"1\" class=\"dataframe\">\n",
       "  <thead>\n",
       "    <tr style=\"text-align: right;\">\n",
       "      <th></th>\n",
       "      <th>BETREIBER_ABK</th>\n",
       "      <th>BETREIBER_NAME</th>\n",
       "      <th>BEDIENTE_LINIEN_2019</th>\n",
       "    </tr>\n",
       "  </thead>\n",
       "  <tbody>\n",
       "    <tr>\n",
       "      <th>22</th>\n",
       "      <td>SBB</td>\n",
       "      <td>Schweizerische Bundesbahnen SBB</td>\n",
       "      <td>1875129</td>\n",
       "    </tr>\n",
       "    <tr>\n",
       "      <th>6</th>\n",
       "      <td>BLS-bls</td>\n",
       "      <td>BLS AG (bls)</td>\n",
       "      <td>474450</td>\n",
       "    </tr>\n",
       "    <tr>\n",
       "      <th>26</th>\n",
       "      <td>THURBO</td>\n",
       "      <td>THURBO</td>\n",
       "      <td>405845</td>\n",
       "    </tr>\n",
       "    <tr>\n",
       "      <th>24</th>\n",
       "      <td>SOB-sob</td>\n",
       "      <td>Schweizerische Südostbahn (sob)</td>\n",
       "      <td>119619</td>\n",
       "    </tr>\n",
       "    <tr>\n",
       "      <th>34</th>\n",
       "      <td>ZB</td>\n",
       "      <td>Zentralbahn</td>\n",
       "      <td>98319</td>\n",
       "    </tr>\n",
       "    <tr>\n",
       "      <th>20</th>\n",
       "      <td>RBS</td>\n",
       "      <td>Regionalverkehr Bern-Solothurn</td>\n",
       "      <td>98295</td>\n",
       "    </tr>\n",
       "    <tr>\n",
       "      <th>25</th>\n",
       "      <td>SZU</td>\n",
       "      <td>Sihltal-Zürich-Uetliberg-Bahn</td>\n",
       "      <td>96710</td>\n",
       "    </tr>\n",
       "    <tr>\n",
       "      <th>21</th>\n",
       "      <td>RhB</td>\n",
       "      <td>Rhätische Bahn</td>\n",
       "      <td>93979</td>\n",
       "    </tr>\n",
       "    <tr>\n",
       "      <th>28</th>\n",
       "      <td>TPF</td>\n",
       "      <td>Transports publics fribourgeois</td>\n",
       "      <td>65605</td>\n",
       "    </tr>\n",
       "    <tr>\n",
       "      <th>0</th>\n",
       "      <td>AB-ab</td>\n",
       "      <td>Appenzeller Bahnen (ab)</td>\n",
       "      <td>57853</td>\n",
       "    </tr>\n",
       "    <tr>\n",
       "      <th>19</th>\n",
       "      <td>RA</td>\n",
       "      <td>Regionalps</td>\n",
       "      <td>35378</td>\n",
       "    </tr>\n",
       "    <tr>\n",
       "      <th>33</th>\n",
       "      <td>WAB</td>\n",
       "      <td>Wengernalpbahn</td>\n",
       "      <td>33406</td>\n",
       "    </tr>\n",
       "    <tr>\n",
       "      <th>8</th>\n",
       "      <td>BOB</td>\n",
       "      <td>Berner Oberland-Bahnen</td>\n",
       "      <td>32624</td>\n",
       "    </tr>\n",
       "    <tr>\n",
       "      <th>3</th>\n",
       "      <td>ASM-snb</td>\n",
       "      <td>Aare Seeland mobil (snb)</td>\n",
       "      <td>30879</td>\n",
       "    </tr>\n",
       "    <tr>\n",
       "      <th>23</th>\n",
       "      <td>SBB GmbH</td>\n",
       "      <td>SBB GmbH (Grenzverkehr)</td>\n",
       "      <td>26463</td>\n",
       "    </tr>\n",
       "    <tr>\n",
       "      <th>4</th>\n",
       "      <td>AVA-bd</td>\n",
       "      <td>Aargau Verkehr AG</td>\n",
       "      <td>21561</td>\n",
       "    </tr>\n",
       "    <tr>\n",
       "      <th>14</th>\n",
       "      <td>KWO-mib</td>\n",
       "      <td>Meiringen-Innertkirchen-Bahn</td>\n",
       "      <td>16977</td>\n",
       "    </tr>\n",
       "    <tr>\n",
       "      <th>11</th>\n",
       "      <td>FLP</td>\n",
       "      <td>Lugano-Ponte Tresa</td>\n",
       "      <td>16199</td>\n",
       "    </tr>\n",
       "    <tr>\n",
       "      <th>1</th>\n",
       "      <td>ASM-bti</td>\n",
       "      <td>Aare Seeland mobil (bti)</td>\n",
       "      <td>15597</td>\n",
       "    </tr>\n",
       "    <tr>\n",
       "      <th>17</th>\n",
       "      <td>NeTS-DB</td>\n",
       "      <td>NeTS Planung DB</td>\n",
       "      <td>12880</td>\n",
       "    </tr>\n",
       "    <tr>\n",
       "      <th>30</th>\n",
       "      <td>TRAVYS-pbr</td>\n",
       "      <td>Transports Vallée de Joux-Yverdon-Ste-Croix (pbr)</td>\n",
       "      <td>12621</td>\n",
       "    </tr>\n",
       "    <tr>\n",
       "      <th>18</th>\n",
       "      <td>NeTS-ÖBB</td>\n",
       "      <td>NeTS Planung ÖBB</td>\n",
       "      <td>12088</td>\n",
       "    </tr>\n",
       "    <tr>\n",
       "      <th>12</th>\n",
       "      <td>FW</td>\n",
       "      <td>Frauenfeld-Wil</td>\n",
       "      <td>12060</td>\n",
       "    </tr>\n",
       "    <tr>\n",
       "      <th>7</th>\n",
       "      <td>BLT-wb</td>\n",
       "      <td>Waldenburgerbahn</td>\n",
       "      <td>10925</td>\n",
       "    </tr>\n",
       "    <tr>\n",
       "      <th>9</th>\n",
       "      <td>DB Regio</td>\n",
       "      <td>DB Regio</td>\n",
       "      <td>7799</td>\n",
       "    </tr>\n",
       "    <tr>\n",
       "      <th>16</th>\n",
       "      <td>MGB-fo</td>\n",
       "      <td>Matterhorn Gotthard Bahn (fo)</td>\n",
       "      <td>6817</td>\n",
       "    </tr>\n",
       "    <tr>\n",
       "      <th>5</th>\n",
       "      <td>AVA-wsb</td>\n",
       "      <td>Aargau Verkehr AG</td>\n",
       "      <td>4629</td>\n",
       "    </tr>\n",
       "    <tr>\n",
       "      <th>13</th>\n",
       "      <td>JB</td>\n",
       "      <td>Jungfraubahn</td>\n",
       "      <td>4443</td>\n",
       "    </tr>\n",
       "    <tr>\n",
       "      <th>31</th>\n",
       "      <td>TRN-cmn</td>\n",
       "      <td>Transports Publics Neuchâtelois SA (cmn)</td>\n",
       "      <td>4103</td>\n",
       "    </tr>\n",
       "    <tr>\n",
       "      <th>10</th>\n",
       "      <td>DB Regio</td>\n",
       "      <td>DB Regio 2018</td>\n",
       "      <td>3897</td>\n",
       "    </tr>\n",
       "    <tr>\n",
       "      <th>27</th>\n",
       "      <td>TN</td>\n",
       "      <td>TreNord</td>\n",
       "      <td>3710</td>\n",
       "    </tr>\n",
       "    <tr>\n",
       "      <th>2</th>\n",
       "      <td>ASM-rvo</td>\n",
       "      <td>Aare Seeland mobil (rvo)</td>\n",
       "      <td>3132</td>\n",
       "    </tr>\n",
       "    <tr>\n",
       "      <th>15</th>\n",
       "      <td>MGB-bvz</td>\n",
       "      <td>Matterhorn Gotthard Bahn (bvz)</td>\n",
       "      <td>623</td>\n",
       "    </tr>\n",
       "    <tr>\n",
       "      <th>32</th>\n",
       "      <td>TRN-rvt</td>\n",
       "      <td>Transports Publics Neuchâtelois SA (rvt)</td>\n",
       "      <td>466</td>\n",
       "    </tr>\n",
       "    <tr>\n",
       "      <th>29</th>\n",
       "      <td>TR</td>\n",
       "      <td>Trans Rail GmbH</td>\n",
       "      <td>2</td>\n",
       "    </tr>\n",
       "  </tbody>\n",
       "</table>\n",
       "</div>"
      ],
      "text/plain": [
       "   BETREIBER_ABK                                     BETREIBER_NAME  \\\n",
       "22           SBB                    Schweizerische Bundesbahnen SBB   \n",
       "6        BLS-bls                                       BLS AG (bls)   \n",
       "26        THURBO                                             THURBO   \n",
       "24       SOB-sob                    Schweizerische Südostbahn (sob)   \n",
       "34            ZB                                        Zentralbahn   \n",
       "20           RBS                     Regionalverkehr Bern-Solothurn   \n",
       "25           SZU                      Sihltal-Zürich-Uetliberg-Bahn   \n",
       "21           RhB                                     Rhätische Bahn   \n",
       "28           TPF                    Transports publics fribourgeois   \n",
       "0          AB-ab                            Appenzeller Bahnen (ab)   \n",
       "19            RA                                         Regionalps   \n",
       "33           WAB                                     Wengernalpbahn   \n",
       "8            BOB                             Berner Oberland-Bahnen   \n",
       "3        ASM-snb                           Aare Seeland mobil (snb)   \n",
       "23      SBB GmbH                            SBB GmbH (Grenzverkehr)   \n",
       "4         AVA-bd                                  Aargau Verkehr AG   \n",
       "14       KWO-mib                       Meiringen-Innertkirchen-Bahn   \n",
       "11           FLP                                 Lugano-Ponte Tresa   \n",
       "1        ASM-bti                           Aare Seeland mobil (bti)   \n",
       "17       NeTS-DB                                    NeTS Planung DB   \n",
       "30    TRAVYS-pbr  Transports Vallée de Joux-Yverdon-Ste-Croix (pbr)   \n",
       "18      NeTS-ÖBB                                   NeTS Planung ÖBB   \n",
       "12            FW                                     Frauenfeld-Wil   \n",
       "7         BLT-wb                                   Waldenburgerbahn   \n",
       "9       DB Regio                                           DB Regio   \n",
       "16        MGB-fo                      Matterhorn Gotthard Bahn (fo)   \n",
       "5        AVA-wsb                                  Aargau Verkehr AG   \n",
       "13            JB                                       Jungfraubahn   \n",
       "31       TRN-cmn           Transports Publics Neuchâtelois SA (cmn)   \n",
       "10      DB Regio                                      DB Regio 2018   \n",
       "27            TN                                            TreNord   \n",
       "2        ASM-rvo                           Aare Seeland mobil (rvo)   \n",
       "15       MGB-bvz                     Matterhorn Gotthard Bahn (bvz)   \n",
       "32       TRN-rvt           Transports Publics Neuchâtelois SA (rvt)   \n",
       "29            TR                                    Trans Rail GmbH   \n",
       "\n",
       "    BEDIENTE_LINIEN_2019  \n",
       "22               1875129  \n",
       "6                 474450  \n",
       "26                405845  \n",
       "24                119619  \n",
       "34                 98319  \n",
       "20                 98295  \n",
       "25                 96710  \n",
       "21                 93979  \n",
       "28                 65605  \n",
       "0                  57853  \n",
       "19                 35378  \n",
       "33                 33406  \n",
       "8                  32624  \n",
       "3                  30879  \n",
       "23                 26463  \n",
       "4                  21561  \n",
       "14                 16977  \n",
       "11                 16199  \n",
       "1                  15597  \n",
       "17                 12880  \n",
       "30                 12621  \n",
       "18                 12088  \n",
       "12                 12060  \n",
       "7                  10925  \n",
       "9                   7799  \n",
       "16                  6817  \n",
       "5                   4629  \n",
       "13                  4443  \n",
       "31                  4103  \n",
       "10                  3897  \n",
       "27                  3710  \n",
       "2                   3132  \n",
       "15                   623  \n",
       "32                   466  \n",
       "29                     2  "
      ]
     },
     "execution_count": 10,
     "metadata": {},
     "output_type": "execute_result"
    }
   ],
   "source": [
    "#show amount of served lines per company, count lines only once per day\n",
    "df_tmp = df_delays.drop_duplicates(subset=['BETRIEBSTAG', 'LINIEN_ID'])\n",
    "df_served = df_tmp.groupby(['BETREIBER_ABK', 'BETREIBER_NAME'], as_index=False).agg({'LINIEN_ID' : np.size})\n",
    "del df_tmp\n",
    "df_served.rename(columns={'LINIEN_ID' : 'BEDIENTE_LINIEN_2019'}, inplace=True)\n",
    "df_served['BEDIENTE_LINIEN_2019'] = df_served['BEDIENTE_LINIEN_2019'].astype(int)\n",
    "df_served.sort_values(by='BEDIENTE_LINIEN_2019', ascending=False, inplace=True)\n",
    "df_served"
   ]
  },
  {
   "cell_type": "markdown",
   "metadata": {},
   "source": [
    "The most important companies are the SBB, BLS and THURBO. I will also look at the other SBB subsidiaries like Regionalps and SBB GmbH"
   ]
  },
  {
   "cell_type": "code",
   "execution_count": 11,
   "metadata": {
    "ExecuteTime": {
     "end_time": "2021-03-28T19:06:42.919248Z",
     "start_time": "2021-03-28T19:06:41.629755Z"
    }
   },
   "outputs": [],
   "source": [
    "#define list with companies and reduce dataframe\n",
    "companies_list = ['SBB', 'BLS-bls', 'THURBO', 'SBB GmbH', 'RA']\n",
    "df_delays_reduced = df_delays.loc[(df_delays['BETREIBER_ABK'].isin(companies_list)) & (df_delays['VERSPAETUNG'] > 3)]"
   ]
  },
  {
   "cell_type": "code",
   "execution_count": 12,
   "metadata": {
    "ExecuteTime": {
     "end_time": "2021-03-28T19:06:43.125342Z",
     "start_time": "2021-03-28T19:06:42.920904Z"
    }
   },
   "outputs": [],
   "source": [
    "df_delays_grouped = df_delays_reduced.groupby('BETREIBER_ABK', as_index=True).agg({'VERSPAETUNG' : [np.mean, np.std, np.median, np.min, np.max]})"
   ]
  },
  {
   "cell_type": "code",
   "execution_count": 13,
   "metadata": {
    "ExecuteTime": {
     "end_time": "2021-03-28T19:06:43.138382Z",
     "start_time": "2021-03-28T19:06:43.127476Z"
    }
   },
   "outputs": [
    {
     "data": {
      "text/html": [
       "<div>\n",
       "<style scoped>\n",
       "    .dataframe tbody tr th:only-of-type {\n",
       "        vertical-align: middle;\n",
       "    }\n",
       "\n",
       "    .dataframe tbody tr th {\n",
       "        vertical-align: top;\n",
       "    }\n",
       "\n",
       "    .dataframe thead tr th {\n",
       "        text-align: left;\n",
       "    }\n",
       "\n",
       "    .dataframe thead tr:last-of-type th {\n",
       "        text-align: right;\n",
       "    }\n",
       "</style>\n",
       "<table border=\"1\" class=\"dataframe\">\n",
       "  <thead>\n",
       "    <tr>\n",
       "      <th></th>\n",
       "      <th colspan=\"5\" halign=\"left\">VERSPAETUNG</th>\n",
       "    </tr>\n",
       "    <tr>\n",
       "      <th></th>\n",
       "      <th>mean</th>\n",
       "      <th>std</th>\n",
       "      <th>median</th>\n",
       "      <th>amin</th>\n",
       "      <th>amax</th>\n",
       "    </tr>\n",
       "    <tr>\n",
       "      <th>BETREIBER_ABK</th>\n",
       "      <th></th>\n",
       "      <th></th>\n",
       "      <th></th>\n",
       "      <th></th>\n",
       "      <th></th>\n",
       "    </tr>\n",
       "  </thead>\n",
       "  <tbody>\n",
       "    <tr>\n",
       "      <th>BLS-bls</th>\n",
       "      <td>5.610774</td>\n",
       "      <td>3.144455</td>\n",
       "      <td>5</td>\n",
       "      <td>4</td>\n",
       "      <td>377</td>\n",
       "    </tr>\n",
       "    <tr>\n",
       "      <th>RA</th>\n",
       "      <td>6.097110</td>\n",
       "      <td>3.687545</td>\n",
       "      <td>5</td>\n",
       "      <td>4</td>\n",
       "      <td>100</td>\n",
       "    </tr>\n",
       "    <tr>\n",
       "      <th>SBB</th>\n",
       "      <td>6.720946</td>\n",
       "      <td>6.288464</td>\n",
       "      <td>5</td>\n",
       "      <td>4</td>\n",
       "      <td>360</td>\n",
       "    </tr>\n",
       "    <tr>\n",
       "      <th>SBB GmbH</th>\n",
       "      <td>6.148446</td>\n",
       "      <td>3.929396</td>\n",
       "      <td>5</td>\n",
       "      <td>4</td>\n",
       "      <td>104</td>\n",
       "    </tr>\n",
       "    <tr>\n",
       "      <th>THURBO</th>\n",
       "      <td>5.432385</td>\n",
       "      <td>2.639763</td>\n",
       "      <td>5</td>\n",
       "      <td>4</td>\n",
       "      <td>65</td>\n",
       "    </tr>\n",
       "  </tbody>\n",
       "</table>\n",
       "</div>"
      ],
      "text/plain": [
       "              VERSPAETUNG                           \n",
       "                     mean       std median amin amax\n",
       "BETREIBER_ABK                                       \n",
       "BLS-bls          5.610774  3.144455      5    4  377\n",
       "RA               6.097110  3.687545      5    4  100\n",
       "SBB              6.720946  6.288464      5    4  360\n",
       "SBB GmbH         6.148446  3.929396      5    4  104\n",
       "THURBO           5.432385  2.639763      5    4   65"
      ]
     },
     "execution_count": 13,
     "metadata": {},
     "output_type": "execute_result"
    }
   ],
   "source": [
    "df_delays_grouped"
   ]
  },
  {
   "cell_type": "code",
   "execution_count": 14,
   "metadata": {
    "ExecuteTime": {
     "end_time": "2021-03-28T19:06:43.485684Z",
     "start_time": "2021-03-28T19:06:43.140149Z"
    }
   },
   "outputs": [
    {
     "data": {
      "image/png": "[encoded data removed]",
      "text/plain": [
       "<Figure size 1728x864 with 1 Axes>"
      ]
     },
     "metadata": {
      "needs_background": "light"
     },
     "output_type": "display_data"
    }
   ],
   "source": [
    "fig, ax = plt.subplots(figsize=(24,12))\n",
    "\n",
    "bar = sns.barplot(data=df_delays_grouped,\n",
    "        x=df_delays_grouped.index,\n",
    "        y=df_delays_grouped.loc[:, ('VERSPAETUNG', 'mean')],\n",
    "        yerr=df_delays_grouped.loc[:, ('VERSPAETUNG', 'std')], #height of errorbars\n",
    "        palette=\"muted\")\n",
    "\n",
    "#changeplot settings\n",
    "bar.set(ylim=(0,14), #Range y-Axis\n",
    "        xlabel=\"\", #Label x-Axis\n",
    "        ylabel=\"Mean Delay [min]\", #label y-axis\n",
    "        title=\"Mean train delay 2019 for major train companies in Switzerland\"); #Title"
   ]
  },
  {
   "cell_type": "code",
   "execution_count": 15,
   "metadata": {
    "ExecuteTime": {
     "end_time": "2021-03-28T19:06:51.601552Z",
     "start_time": "2021-03-28T19:06:43.487447Z"
    }
   },
   "outputs": [],
   "source": [
    "#pivot table to calc the percentage of delayed trains\n",
    "df_tmp = df_delays.loc[df_delays['BETREIBER_ABK'].isin(companies_list)].copy()\n",
    "df_tmp['VERSPAETET_TF'] = df_tmp['VERSPAETUNG'] > 3\n",
    "df_tmp = df_tmp.drop_duplicates(subset=['BETREIBER_ABK', 'LINIEN_ID', 'BETRIEBSTAG'])\n",
    "df_delays_percent = df_tmp.pivot_table('VERSPAETET_TF', ['BETREIBER_ABK'])\n",
    "del df_tmp"
   ]
  },
  {
   "cell_type": "code",
   "execution_count": 16,
   "metadata": {
    "ExecuteTime": {
     "end_time": "2021-03-28T19:06:51.612185Z",
     "start_time": "2021-03-28T19:06:51.603451Z"
    }
   },
   "outputs": [
    {
     "data": {
      "text/html": [
       "<div>\n",
       "<style scoped>\n",
       "    .dataframe tbody tr th:only-of-type {\n",
       "        vertical-align: middle;\n",
       "    }\n",
       "\n",
       "    .dataframe tbody tr th {\n",
       "        vertical-align: top;\n",
       "    }\n",
       "\n",
       "    .dataframe thead th {\n",
       "        text-align: right;\n",
       "    }\n",
       "</style>\n",
       "<table border=\"1\" class=\"dataframe\">\n",
       "  <thead>\n",
       "    <tr style=\"text-align: right;\">\n",
       "      <th></th>\n",
       "      <th>VERSPAETET_TF</th>\n",
       "    </tr>\n",
       "    <tr>\n",
       "      <th>BETREIBER_ABK</th>\n",
       "      <th></th>\n",
       "    </tr>\n",
       "  </thead>\n",
       "  <tbody>\n",
       "    <tr>\n",
       "      <th>BLS-bls</th>\n",
       "      <td>0.053084</td>\n",
       "    </tr>\n",
       "    <tr>\n",
       "      <th>RA</th>\n",
       "      <td>0.087142</td>\n",
       "    </tr>\n",
       "    <tr>\n",
       "      <th>SBB</th>\n",
       "      <td>0.054278</td>\n",
       "    </tr>\n",
       "    <tr>\n",
       "      <th>SBB GmbH</th>\n",
       "      <td>0.070514</td>\n",
       "    </tr>\n",
       "    <tr>\n",
       "      <th>THURBO</th>\n",
       "      <td>0.018266</td>\n",
       "    </tr>\n",
       "  </tbody>\n",
       "</table>\n",
       "</div>"
      ],
      "text/plain": [
       "               VERSPAETET_TF\n",
       "BETREIBER_ABK               \n",
       "BLS-bls             0.053084\n",
       "RA                  0.087142\n",
       "SBB                 0.054278\n",
       "SBB GmbH            0.070514\n",
       "THURBO              0.018266"
      ]
     },
     "execution_count": 16,
     "metadata": {},
     "output_type": "execute_result"
    }
   ],
   "source": [
    "df_delays_percent"
   ]
  },
  {
   "cell_type": "markdown",
   "metadata": {},
   "source": [
    "~5.4% of the SBB and BLS trains are late. This is less the official values given by the SBB (https://reporting.sbb.ch/qualitaet?years=0,1,4,5,6,7&scroll=627). But could be due to ignoring trains which are cancelled and because here SBB and SBB GmbH are treated seperatly and I don't know how the SBB counts delayed trains. Interesstingly the THURBO is very punctual and the RegionAlps has a higher percentage of delayed trains"
   ]
  },
  {
   "cell_type": "code",
   "execution_count": 17,
   "metadata": {
    "ExecuteTime": {
     "end_time": "2021-03-28T19:06:51.900704Z",
     "start_time": "2021-03-28T19:06:51.613843Z"
    }
   },
   "outputs": [
    {
     "data": {
      "image/png": "[encoded data removed]",
      "text/plain": [
       "<Figure size 1728x864 with 1 Axes>"
      ]
     },
     "metadata": {
      "needs_background": "light"
     },
     "output_type": "display_data"
    }
   ],
   "source": [
    "fig, ax = plt.subplots(figsize=(24,12))\n",
    "\n",
    "bar = sns.barplot(data=df_delays_percent,\n",
    "        x=df_delays_percent.index,\n",
    "        y=df_delays_percent['VERSPAETET_TF'],\n",
    "        palette=\"muted\")\n",
    "\n",
    "#changeplot settings\n",
    "bar.set(ylim=(0,0.1), #Range y-Axis\n",
    "        xlabel=\"\", #Label x-Axis\n",
    "        ylabel=\"Amount of delayed trains [%]\", #label y-axis\n",
    "        title=\"Percentage of delayed trains in 2019 for major train companies in Switzerland\"); #Title"
   ]
  },
  {
   "cell_type": "markdown",
   "metadata": {},
   "source": [
    "# Cancelled trains"
   ]
  },
  {
   "cell_type": "code",
   "execution_count": 18,
   "metadata": {
    "ExecuteTime": {
     "end_time": "2021-03-28T19:06:55.628886Z",
     "start_time": "2021-03-28T19:06:51.902494Z"
    }
   },
   "outputs": [
    {
     "data": {
      "text/html": [
       "<div>\n",
       "<style scoped>\n",
       "    .dataframe tbody tr th:only-of-type {\n",
       "        vertical-align: middle;\n",
       "    }\n",
       "\n",
       "    .dataframe tbody tr th {\n",
       "        vertical-align: top;\n",
       "    }\n",
       "\n",
       "    .dataframe thead th {\n",
       "        text-align: right;\n",
       "    }\n",
       "</style>\n",
       "<table border=\"1\" class=\"dataframe\">\n",
       "  <thead>\n",
       "    <tr style=\"text-align: right;\">\n",
       "      <th></th>\n",
       "      <th>BETRIEBSTAG</th>\n",
       "      <th>BETREIBER_ABK</th>\n",
       "      <th>BETREIBER_NAME</th>\n",
       "      <th>LINIEN_ID</th>\n",
       "      <th>LINIEN_TEXT</th>\n",
       "      <th>FAELLT_AUS_TF</th>\n",
       "      <th>HALTESTELLEN_NAME</th>\n",
       "    </tr>\n",
       "  </thead>\n",
       "  <tbody>\n",
       "    <tr>\n",
       "      <th>0</th>\n",
       "      <td>01.01.2019</td>\n",
       "      <td>DB</td>\n",
       "      <td>DB Regio AG Baden-Württemberg</td>\n",
       "      <td>17004.0</td>\n",
       "      <td>RE</td>\n",
       "      <td>False</td>\n",
       "      <td>Basel Bad Bf</td>\n",
       "    </tr>\n",
       "    <tr>\n",
       "      <th>1</th>\n",
       "      <td>01.01.2019</td>\n",
       "      <td>DB</td>\n",
       "      <td>DB Regio AG Baden-Württemberg</td>\n",
       "      <td>17011.0</td>\n",
       "      <td>RE</td>\n",
       "      <td>False</td>\n",
       "      <td>Basel Bad Bf</td>\n",
       "    </tr>\n",
       "    <tr>\n",
       "      <th>2</th>\n",
       "      <td>01.01.2019</td>\n",
       "      <td>DB</td>\n",
       "      <td>DB Regio AG Baden-Württemberg</td>\n",
       "      <td>17012.0</td>\n",
       "      <td>RE</td>\n",
       "      <td>False</td>\n",
       "      <td>Basel Bad Bf</td>\n",
       "    </tr>\n",
       "  </tbody>\n",
       "</table>\n",
       "</div>"
      ],
      "text/plain": [
       "  BETRIEBSTAG BETREIBER_ABK                 BETREIBER_NAME  LINIEN_ID  \\\n",
       "0  01.01.2019            DB  DB Regio AG Baden-Württemberg    17004.0   \n",
       "1  01.01.2019            DB  DB Regio AG Baden-Württemberg    17011.0   \n",
       "2  01.01.2019            DB  DB Regio AG Baden-Württemberg    17012.0   \n",
       "\n",
       "  LINIEN_TEXT  FAELLT_AUS_TF HALTESTELLEN_NAME  \n",
       "0          RE          False      Basel Bad Bf  \n",
       "1          RE          False      Basel Bad Bf  \n",
       "2          RE          False      Basel Bad Bf  "
      ]
     },
     "metadata": {},
     "output_type": "display_data"
    },
    {
     "name": "stdout",
     "output_type": "stream",
     "text": [
      "<class 'pandas.core.frame.DataFrame'>\n",
      "RangeIndex: 5032411 entries, 0 to 5032410\n",
      "Data columns (total 7 columns):\n",
      " #   Column             Dtype  \n",
      "---  ------             -----  \n",
      " 0   BETRIEBSTAG        object \n",
      " 1   BETREIBER_ABK      object \n",
      " 2   BETREIBER_NAME     object \n",
      " 3   LINIEN_ID          float64\n",
      " 4   LINIEN_TEXT        object \n",
      " 5   FAELLT_AUS_TF      bool   \n",
      " 6   HALTESTELLEN_NAME  object \n",
      "dtypes: bool(1), float64(1), object(5)\n",
      "memory usage: 235.2+ MB\n"
     ]
    },
    {
     "data": {
      "text/plain": [
       "None"
      ]
     },
     "metadata": {},
     "output_type": "display_data"
    }
   ],
   "source": [
    "#load data\n",
    "with ZipFile('./cancelled.zip', 'r') as zipObj:\n",
    "    tmp_data = zipObj.read('cancelled.csv')\n",
    "    df_cancelled = pd.read_csv(BytesIO(tmp_data), parse_dates=False)\n",
    "    display(df_cancelled.head(3))\n",
    "    display(df_cancelled.info())\n",
    "del tmp_data"
   ]
  },
  {
   "cell_type": "code",
   "execution_count": 19,
   "metadata": {
    "ExecuteTime": {
     "end_time": "2021-03-28T19:06:56.936438Z",
     "start_time": "2021-03-28T19:06:55.631525Z"
    }
   },
   "outputs": [],
   "source": [
    "#drop duplicate lines so cancelled trains are only counted once per day\n",
    "df_cancelled.drop_duplicates(subset=['LINIEN_ID', 'BETREIBER_ABK', 'FAELLT_AUS_TF', 'BETRIEBSTAG'], inplace=True)"
   ]
  },
  {
   "cell_type": "code",
   "execution_count": 20,
   "metadata": {
    "ExecuteTime": {
     "end_time": "2021-03-28T19:06:57.419001Z",
     "start_time": "2021-03-28T19:06:56.938300Z"
    }
   },
   "outputs": [],
   "source": [
    "#Only the larger companies\n",
    "df_cancelled_reduced = df_cancelled.loc[df_cancelled['BETREIBER_ABK'].isin(companies_list)]\n",
    "\n",
    "#pivot table to calc the percentage of canncelled trains\n",
    "df_cancelled_percentage = df_cancelled_reduced.pivot_table('FAELLT_AUS_TF', ['BETREIBER_ABK'])"
   ]
  },
  {
   "cell_type": "code",
   "execution_count": 21,
   "metadata": {
    "ExecuteTime": {
     "end_time": "2021-03-28T19:06:57.426977Z",
     "start_time": "2021-03-28T19:06:57.420788Z"
    }
   },
   "outputs": [
    {
     "data": {
      "text/html": [
       "<div>\n",
       "<style scoped>\n",
       "    .dataframe tbody tr th:only-of-type {\n",
       "        vertical-align: middle;\n",
       "    }\n",
       "\n",
       "    .dataframe tbody tr th {\n",
       "        vertical-align: top;\n",
       "    }\n",
       "\n",
       "    .dataframe thead th {\n",
       "        text-align: right;\n",
       "    }\n",
       "</style>\n",
       "<table border=\"1\" class=\"dataframe\">\n",
       "  <thead>\n",
       "    <tr style=\"text-align: right;\">\n",
       "      <th></th>\n",
       "      <th>FAELLT_AUS_TF</th>\n",
       "    </tr>\n",
       "    <tr>\n",
       "      <th>BETREIBER_ABK</th>\n",
       "      <th></th>\n",
       "    </tr>\n",
       "  </thead>\n",
       "  <tbody>\n",
       "    <tr>\n",
       "      <th>BLS-bls</th>\n",
       "      <td>0.010177</td>\n",
       "    </tr>\n",
       "    <tr>\n",
       "      <th>RA</th>\n",
       "      <td>0.016484</td>\n",
       "    </tr>\n",
       "    <tr>\n",
       "      <th>SBB</th>\n",
       "      <td>0.021254</td>\n",
       "    </tr>\n",
       "    <tr>\n",
       "      <th>SBB GmbH</th>\n",
       "      <td>0.000981</td>\n",
       "    </tr>\n",
       "    <tr>\n",
       "      <th>THURBO</th>\n",
       "      <td>0.005989</td>\n",
       "    </tr>\n",
       "  </tbody>\n",
       "</table>\n",
       "</div>"
      ],
      "text/plain": [
       "               FAELLT_AUS_TF\n",
       "BETREIBER_ABK               \n",
       "BLS-bls             0.010177\n",
       "RA                  0.016484\n",
       "SBB                 0.021254\n",
       "SBB GmbH            0.000981\n",
       "THURBO              0.005989"
      ]
     },
     "execution_count": 21,
     "metadata": {},
     "output_type": "execute_result"
    }
   ],
   "source": [
    "df_cancelled_percentage"
   ]
  },
  {
   "cell_type": "markdown",
   "metadata": {},
   "source": [
    "~2.1% of the SBB trains are cancelled and only 1% percent of the BLS trains"
   ]
  },
  {
   "cell_type": "code",
   "execution_count": 22,
   "metadata": {
    "ExecuteTime": {
     "end_time": "2021-03-28T19:06:57.691700Z",
     "start_time": "2021-03-28T19:06:57.429414Z"
    }
   },
   "outputs": [
    {
     "data": {
      "image/png": "[encoded data removed]",
      "text/plain": [
       "<Figure size 1728x864 with 1 Axes>"
      ]
     },
     "metadata": {
      "needs_background": "light"
     },
     "output_type": "display_data"
    }
   ],
   "source": [
    "fig, ax = plt.subplots(figsize=(24,12))\n",
    "\n",
    "bar = sns.barplot(data=df_cancelled_percentage,\n",
    "        x=df_cancelled_percentage.index,\n",
    "        y=df_cancelled_percentage['FAELLT_AUS_TF'],\n",
    "        palette=\"muted\")\n",
    "\n",
    "#changeplot settings\n",
    "bar.set(ylim=(0,0.025), #Range y-Axis\n",
    "        xlabel=\"\", #Label x-Axis\n",
    "        ylabel=\"Amount of cancelled trains [%]\", #label y-axis\n",
    "        title=\"Percentage of cancelled trains in 2019 for major train companies in Switzerland\"); #Title"
   ]
  },
  {
   "cell_type": "code",
   "execution_count": null,
   "metadata": {},
   "outputs": [],
   "source": []
  }
 ],
 "metadata": {
  "kernelspec": {
   "display_name": "Python 3",
   "language": "python",
   "name": "python3"
  },
  "language_info": {
   "codemirror_mode": {
    "name": "ipython",
    "version": 3
   },
   "file_extension": ".py",
   "mimetype": "text/x-python",
   "name": "python",
   "nbconvert_exporter": "python",
   "pygments_lexer": "ipython3",
   "version": "3.8.8"
  },
  "toc": {
   "base_numbering": 1,
   "nav_menu": {},
   "number_sections": true,
   "sideBar": true,
   "skip_h1_title": false,
   "title_cell": "Table of Contents",
   "title_sidebar": "Contents",
   "toc_cell": false,
   "toc_position": {},
   "toc_section_display": true,
   "toc_window_display": false
  },
  "varInspector": {
   "cols": {
    "lenName": 16,
    "lenType": 16,
    "lenVar": 40
   },
   "kernels_config": {
    "python": {
     "delete_cmd_postfix": "",
     "delete_cmd_prefix": "del ",
     "library": "var_list.py",
     "varRefreshCmd": "print(var_dic_list())"
    },
    "r": {
     "delete_cmd_postfix": ") ",
     "delete_cmd_prefix": "rm(",
     "library": "var_list.r",
     "varRefreshCmd": "cat(var_dic_list()) "
    }
   },
   "types_to_exclude": [
    "module",
    "function",
    "builtin_function_or_method",
    "instance",
    "_Feature"
   ],
   "window_display": false
  }
 },
 "nbformat": 4,
 "nbformat_minor": 4
}
