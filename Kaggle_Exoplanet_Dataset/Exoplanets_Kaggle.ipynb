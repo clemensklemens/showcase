{
 "cells": [
  {
   "cell_type": "markdown",
   "id": "automatic-patrick",
   "metadata": {},
   "source": [
    "# Exoplanet Hunting in Deep Space\n",
    "Machine Learning project on preprocessed data from the NASA Kepler space telescope. Hosted on Kaggle: https://www.kaggle.com/keplersmachines/kepler-labelled-time-series-data\n",
    "<br>\n",
    "The data is labeled and cleaned. The rows represent one solar system. Columns the flux emitted by the system over time. The data gives no information about the time between two measurements. Column label is indicates if there are exoplanets present in the system. 1 means there are no confirmed exoplanets, 2 means there is at least one confirmed exoplanet in the system.\n",
    "\n",
    "Trainset:\n",
    "\n",
    "- 5087 rows or observations.\n",
    "- 3198 columns or features.\n",
    "- Column 1 is the label vector. Columns 2 - 3198 are the flux values over time.\n",
    "- 37 confirmed exoplanet-stars and 5050 non-exoplanet-stars.\n",
    "\n",
    "Testset:\n",
    "\n",
    "- 570 rows or observations.\n",
    "- 3198 columns or features.\n",
    "- Column 1 is the label vector. Columns 2 - 3198 are the flux values over time.\n",
    "- 5 confirmed exoplanet-stars and 565 non-exoplanet-stars."
   ]
  },
  {
   "cell_type": "code",
   "execution_count": 86,
   "id": "seven-facility",
   "metadata": {
    "ExecuteTime": {
     "end_time": "2021-02-04T14:44:55.545752Z",
     "start_time": "2021-02-04T14:44:55.541149Z"
    }
   },
   "outputs": [],
   "source": [
    "#import libaries\n",
    "import numpy as np\n",
    "import pandas as pd\n",
    "import matplotlib.pyplot as plt\n",
    "import seaborn as sns\n",
    "import plotly.express as px\n",
    "\n",
    "#timer\n",
    "from timeit import default_timer as timer\n",
    "\n",
    "#sklearn\n",
    "from sklearn.model_selection import train_test_split\n",
    "from sklearn.preprocessing import StandardScaler\n",
    "\n",
    "from sklearn.linear_model import LogisticRegression\n",
    "from sklearn.ensemble import RandomForestClassifier, AdaBoostClassifier\n",
    "from sklearn.neighbors import KNeighborsClassifier\n",
    "from sklearn.svm import SVC\n",
    "from sklearn.naive_bayes import GaussianNB"
   ]
  },
  {
   "cell_type": "markdown",
   "id": "minute-blast",
   "metadata": {},
   "source": [
    "## Preprocessing\n",
    "### Loading Data and first inspection"
   ]
  },
  {
   "cell_type": "code",
   "execution_count": 2,
   "id": "african-overview",
   "metadata": {
    "ExecuteTime": {
     "end_time": "2021-02-04T13:37:37.087575Z",
     "start_time": "2021-02-04T13:37:32.893798Z"
    }
   },
   "outputs": [
    {
     "data": {
      "text/html": [
       "<div>\n",
       "<style scoped>\n",
       "    .dataframe tbody tr th:only-of-type {\n",
       "        vertical-align: middle;\n",
       "    }\n",
       "\n",
       "    .dataframe tbody tr th {\n",
       "        vertical-align: top;\n",
       "    }\n",
       "\n",
       "    .dataframe thead th {\n",
       "        text-align: right;\n",
       "    }\n",
       "</style>\n",
       "<table border=\"1\" class=\"dataframe\">\n",
       "  <thead>\n",
       "    <tr style=\"text-align: right;\">\n",
       "      <th></th>\n",
       "      <th>LABEL</th>\n",
       "      <th>FLUX.1</th>\n",
       "      <th>FLUX.2</th>\n",
       "      <th>FLUX.3</th>\n",
       "      <th>FLUX.4</th>\n",
       "      <th>FLUX.5</th>\n",
       "      <th>FLUX.6</th>\n",
       "      <th>FLUX.7</th>\n",
       "      <th>FLUX.8</th>\n",
       "      <th>FLUX.9</th>\n",
       "      <th>...</th>\n",
       "      <th>FLUX.3188</th>\n",
       "      <th>FLUX.3189</th>\n",
       "      <th>FLUX.3190</th>\n",
       "      <th>FLUX.3191</th>\n",
       "      <th>FLUX.3192</th>\n",
       "      <th>FLUX.3193</th>\n",
       "      <th>FLUX.3194</th>\n",
       "      <th>FLUX.3195</th>\n",
       "      <th>FLUX.3196</th>\n",
       "      <th>FLUX.3197</th>\n",
       "    </tr>\n",
       "  </thead>\n",
       "  <tbody>\n",
       "    <tr>\n",
       "      <th>0</th>\n",
       "      <td>2</td>\n",
       "      <td>93.85</td>\n",
       "      <td>83.81</td>\n",
       "      <td>20.10</td>\n",
       "      <td>-26.98</td>\n",
       "      <td>-39.56</td>\n",
       "      <td>-124.71</td>\n",
       "      <td>-135.18</td>\n",
       "      <td>-96.27</td>\n",
       "      <td>-79.89</td>\n",
       "      <td>...</td>\n",
       "      <td>-78.07</td>\n",
       "      <td>-102.15</td>\n",
       "      <td>-102.15</td>\n",
       "      <td>25.13</td>\n",
       "      <td>48.57</td>\n",
       "      <td>92.54</td>\n",
       "      <td>39.32</td>\n",
       "      <td>61.42</td>\n",
       "      <td>5.08</td>\n",
       "      <td>-39.54</td>\n",
       "    </tr>\n",
       "    <tr>\n",
       "      <th>1</th>\n",
       "      <td>2</td>\n",
       "      <td>-38.88</td>\n",
       "      <td>-33.83</td>\n",
       "      <td>-58.54</td>\n",
       "      <td>-40.09</td>\n",
       "      <td>-79.31</td>\n",
       "      <td>-72.81</td>\n",
       "      <td>-86.55</td>\n",
       "      <td>-85.33</td>\n",
       "      <td>-83.97</td>\n",
       "      <td>...</td>\n",
       "      <td>-3.28</td>\n",
       "      <td>-32.21</td>\n",
       "      <td>-32.21</td>\n",
       "      <td>-24.89</td>\n",
       "      <td>-4.86</td>\n",
       "      <td>0.76</td>\n",
       "      <td>-11.70</td>\n",
       "      <td>6.46</td>\n",
       "      <td>16.00</td>\n",
       "      <td>19.93</td>\n",
       "    </tr>\n",
       "    <tr>\n",
       "      <th>2</th>\n",
       "      <td>2</td>\n",
       "      <td>532.64</td>\n",
       "      <td>535.92</td>\n",
       "      <td>513.73</td>\n",
       "      <td>496.92</td>\n",
       "      <td>456.45</td>\n",
       "      <td>466.00</td>\n",
       "      <td>464.50</td>\n",
       "      <td>486.39</td>\n",
       "      <td>436.56</td>\n",
       "      <td>...</td>\n",
       "      <td>-71.69</td>\n",
       "      <td>13.31</td>\n",
       "      <td>13.31</td>\n",
       "      <td>-29.89</td>\n",
       "      <td>-20.88</td>\n",
       "      <td>5.06</td>\n",
       "      <td>-11.80</td>\n",
       "      <td>-28.91</td>\n",
       "      <td>-70.02</td>\n",
       "      <td>-96.67</td>\n",
       "    </tr>\n",
       "  </tbody>\n",
       "</table>\n",
       "<p>3 rows × 3198 columns</p>\n",
       "</div>"
      ],
      "text/plain": [
       "   LABEL  FLUX.1  FLUX.2  FLUX.3  FLUX.4  FLUX.5  FLUX.6  FLUX.7  FLUX.8  \\\n",
       "0      2   93.85   83.81   20.10  -26.98  -39.56 -124.71 -135.18  -96.27   \n",
       "1      2  -38.88  -33.83  -58.54  -40.09  -79.31  -72.81  -86.55  -85.33   \n",
       "2      2  532.64  535.92  513.73  496.92  456.45  466.00  464.50  486.39   \n",
       "\n",
       "   FLUX.9  ...  FLUX.3188  FLUX.3189  FLUX.3190  FLUX.3191  FLUX.3192  \\\n",
       "0  -79.89  ...     -78.07    -102.15    -102.15      25.13      48.57   \n",
       "1  -83.97  ...      -3.28     -32.21     -32.21     -24.89      -4.86   \n",
       "2  436.56  ...     -71.69      13.31      13.31     -29.89     -20.88   \n",
       "\n",
       "   FLUX.3193  FLUX.3194  FLUX.3195  FLUX.3196  FLUX.3197  \n",
       "0      92.54      39.32      61.42       5.08     -39.54  \n",
       "1       0.76     -11.70       6.46      16.00      19.93  \n",
       "2       5.06     -11.80     -28.91     -70.02     -96.67  \n",
       "\n",
       "[3 rows x 3198 columns]"
      ]
     },
     "metadata": {},
     "output_type": "display_data"
    },
    {
     "name": "stdout",
     "output_type": "stream",
     "text": [
      "<class 'pandas.core.frame.DataFrame'>\n",
      "RangeIndex: 5087 entries, 0 to 5086\n",
      "Columns: 3198 entries, LABEL to FLUX.3197\n",
      "dtypes: float64(3197), int64(1)\n",
      "memory usage: 124.1 MB\n"
     ]
    },
    {
     "data": {
      "text/plain": [
       "None"
      ]
     },
     "metadata": {},
     "output_type": "display_data"
    }
   ],
   "source": [
    "#read training data\n",
    "df_train = pd.read_csv('./exoTrain.csv')\n",
    "display(df_train.head(3))\n",
    "df_train.info()"
   ]
  },
  {
   "cell_type": "markdown",
   "id": "catholic-administration",
   "metadata": {},
   "source": [
    "Flux values are float64 only label has int64\n",
    "- Transform label into bool"
   ]
  },
  {
   "cell_type": "code",
   "execution_count": 3,
   "id": "amended-watershed",
   "metadata": {
    "ExecuteTime": {
     "end_time": "2021-02-04T13:37:37.094573Z",
     "start_time": "2021-02-04T13:37:37.090282Z"
    }
   },
   "outputs": [
    {
     "name": "stdout",
     "output_type": "stream",
     "text": [
      "[2 1]\n"
     ]
    }
   ],
   "source": [
    "#Check if there are really only two labels\n",
    "print(df_train['LABEL'].unique())"
   ]
  },
  {
   "cell_type": "code",
   "execution_count": 4,
   "id": "touched-visitor",
   "metadata": {
    "ExecuteTime": {
     "end_time": "2021-02-04T13:37:37.113192Z",
     "start_time": "2021-02-04T13:37:37.096411Z"
    }
   },
   "outputs": [
    {
     "data": {
      "text/plain": [
       "array([ True, False])"
      ]
     },
     "execution_count": 4,
     "metadata": {},
     "output_type": "execute_result"
    }
   ],
   "source": [
    "#transform into bool (minus 1 to give 0 and 1 as labels)\n",
    "df_train['LABEL'] = (df_train['LABEL'] - 1).astype('bool')\n",
    "df_train['LABEL'].unique()"
   ]
  },
  {
   "cell_type": "markdown",
   "id": "synthetic-darwin",
   "metadata": {},
   "source": [
    "### Missing values"
   ]
  },
  {
   "cell_type": "code",
   "execution_count": 5,
   "id": "sitting-naples",
   "metadata": {
    "ExecuteTime": {
     "end_time": "2021-02-04T13:37:37.167725Z",
     "start_time": "2021-02-04T13:37:37.114662Z"
    }
   },
   "outputs": [
    {
     "name": "stdout",
     "output_type": "stream",
     "text": [
      "There are: 0 missing values\n"
     ]
    }
   ],
   "source": [
    "#Are there any missing values at all?\n",
    "print(f\"There are: {df_train.isna().sum().sum()} missing values\")"
   ]
  },
  {
   "cell_type": "markdown",
   "id": "static-consortium",
   "metadata": {},
   "source": [
    "### Value range and outliers"
   ]
  },
  {
   "cell_type": "code",
   "execution_count": 44,
   "id": "floating-niger",
   "metadata": {
    "ExecuteTime": {
     "end_time": "2021-02-04T14:05:34.317027Z",
     "start_time": "2021-02-04T14:05:33.631955Z"
    }
   },
   "outputs": [
    {
     "name": "stdout",
     "output_type": "stream",
     "text": [
      "Min    flux value: -2385019.12\n",
      "Max    flux value:  4299288.0\n",
      "Mean   flux value:  130.41674038757165\n",
      "Median flux value: -0.25\n"
     ]
    }
   ],
   "source": [
    "#print min / max / mean / median values\n",
    "print(f\"Min    flux value: {df_train.iloc[:, 1:].min().min()}\")\n",
    "print(f\"Max    flux value:  {df_train.iloc[:, 1:].max().max()}\")\n",
    "print(f\"Mean   flux value:  {df_train.iloc[:, 1:].mean().mean()}\")\n",
    "print(f\"Median flux value: {df_train.iloc[:, 1:].median().median()}\")"
   ]
  },
  {
   "cell_type": "markdown",
   "id": "yellow-circus",
   "metadata": {},
   "source": [
    "- wide range of values\n",
    "    - need normalisation\n",
    "- if model performs very badly maybe remove outlier systems"
   ]
  },
  {
   "cell_type": "markdown",
   "id": "understanding-clinton",
   "metadata": {},
   "source": [
    "### Plot of two random systems"
   ]
  },
  {
   "cell_type": "code",
   "execution_count": 7,
   "id": "large-desperate",
   "metadata": {
    "ExecuteTime": {
     "end_time": "2021-02-04T13:37:37.920033Z",
     "start_time": "2021-02-04T13:37:37.836030Z"
    }
   },
   "outputs": [],
   "source": [
    "#Transpose data\n",
    "df_train_trans_data = df_train.drop(columns=(['LABEL'])).T"
   ]
  },
  {
   "cell_type": "code",
   "execution_count": 8,
   "id": "quiet-lawsuit",
   "metadata": {
    "ExecuteTime": {
     "end_time": "2021-02-04T13:37:37.931635Z",
     "start_time": "2021-02-04T13:37:37.924117Z"
    }
   },
   "outputs": [],
   "source": [
    "#extract labels\n",
    "df_train_label = df_train['LABEL']"
   ]
  },
  {
   "cell_type": "code",
   "execution_count": 31,
   "id": "outside-division",
   "metadata": {
    "ExecuteTime": {
     "end_time": "2021-02-04T13:50:36.747619Z",
     "start_time": "2021-02-04T13:50:36.742055Z"
    }
   },
   "outputs": [],
   "source": [
    "plt.plot?"
   ]
  },
  {
   "cell_type": "code",
   "execution_count": 32,
   "id": "conservative-disposal",
   "metadata": {
    "ExecuteTime": {
     "end_time": "2021-02-04T13:52:00.252899Z",
     "start_time": "2021-02-04T13:51:56.323495Z"
    }
   },
   "outputs": [
    {
     "data": {
      "image/png": "[encoded data removed]",
      "text/plain": [
       "<Figure size 864x432 with 1 Axes>"
      ]
     },
     "metadata": {
      "needs_background": "light"
     },
     "output_type": "display_data"
    }
   ],
   "source": [
    "plt.figure(figsize=(12, 6))\n",
    "ax = plt.gca() #get current axis\n",
    "ax.axes.xaxis.set_visible(False)\n",
    "plt.plot(df_train_trans_data[0], label='eg exoplanets present')\n",
    "plt.plot(df_train_trans_data[100], label='eg no exoplanets present') #has no exoplanet\n",
    "plt.legend()\n",
    "plt.show()"
   ]
  },
  {
   "cell_type": "markdown",
   "id": "junior-sauce",
   "metadata": {},
   "source": [
    "- clearly visibile sinusodial wave in case of present exoplanet\n",
    "- in both cases cleary visible outliers which should be adressed\n",
    "- flux values have different magnitudes"
   ]
  },
  {
   "cell_type": "markdown",
   "id": "brutal-switzerland",
   "metadata": {},
   "source": [
    "## Machine Learning Model\n",
    "### Baseline Models\n",
    "- First check the difficulty of the problem with a couple of baseline models\n",
    "    - No further preprocessing or hyperparameter tuning\n",
    "    - Simple accracy score\n",
    "- Split train data into train and validation data\n",
    "    - For hyperparameter tuning I will use cross-validation instead"
   ]
  },
  {
   "cell_type": "code",
   "execution_count": 74,
   "id": "bored-blade",
   "metadata": {
    "ExecuteTime": {
     "end_time": "2021-02-04T14:30:14.669208Z",
     "start_time": "2021-02-04T14:30:13.967117Z"
    }
   },
   "outputs": [],
   "source": [
    "#Split into train and validate data\n",
    "X = df_train.iloc[:, 1:].values\n",
    "y = df_train.iloc[:, :1].values\n",
    "y = y.reshape(y.shape[0])\n",
    "\n",
    "X_train, X_val, y_train, y_val = train_test_split(X, y, train_size=0.8, stratify=y, random_state=1234)"
   ]
  },
  {
   "cell_type": "code",
   "execution_count": 91,
   "id": "regular-horse",
   "metadata": {
    "ExecuteTime": {
     "end_time": "2021-02-04T14:54:40.880489Z",
     "start_time": "2021-02-04T14:54:40.876940Z"
    }
   },
   "outputs": [
    {
     "name": "stdout",
     "output_type": "stream",
     "text": [
      "Samples in trainings data:\t4069\n",
      "Samples in validation data:\t1018\n"
     ]
    }
   ],
   "source": [
    "print(f'Samples in trainings data:\\t{X_train.shape[0]}')\n",
    "print(f'Samples in validation data:\\t{X_val.shape[0]}')"
   ]
  },
  {
   "cell_type": "code",
   "execution_count": 79,
   "id": "humanitarian-canon",
   "metadata": {
    "ExecuteTime": {
     "end_time": "2021-02-04T14:37:10.565334Z",
     "start_time": "2021-02-04T14:37:10.558870Z"
    }
   },
   "outputs": [],
   "source": [
    "#list of baseline models\n",
    "model_names = [\"Logistic_Regression\", \"Random_Forest\", \"AdaBoost\", \"KNN\", \"Linear_SVC\", \"Naive_Bayes\"]\n",
    "\n",
    "model_list = [LogisticRegression()\n",
    "               , RandomForestClassifier()\n",
    "               , AdaBoostClassifier()\n",
    "               , KNeighborsClassifier()\n",
    "               , SVC(kernel=\"linear\")\n",
    "               , GaussianNB()]"
   ]
  },
  {
   "cell_type": "code",
   "execution_count": 89,
   "id": "cosmetic-being",
   "metadata": {
    "ExecuteTime": {
     "end_time": "2021-02-04T14:50:22.828930Z",
     "start_time": "2021-02-04T14:46:44.784134Z"
    }
   },
   "outputs": [
    {
     "name": "stderr",
     "output_type": "stream",
     "text": [
      "/home/clemens/miniconda3/lib/python3.7/site-packages/sklearn/linear_model/_logistic.py:764: ConvergenceWarning: lbfgs failed to converge (status=1):\n",
      "STOP: TOTAL NO. of ITERATIONS REACHED LIMIT.\n",
      "\n",
      "Increase the number of iterations (max_iter) or scale the data as shown in:\n",
      "    https://scikit-learn.org/stable/modules/preprocessing.html\n",
      "Please also refer to the documentation for alternative solver options:\n",
      "    https://scikit-learn.org/stable/modules/linear_model.html#logistic-regression\n",
      "  extra_warning_msg=_LOGISTIC_SOLVER_CONVERGENCE_MSG)\n"
     ]
    },
    {
     "name": "stdout",
     "output_type": "stream",
     "text": [
      "Model: Logistic_Regression\n",
      "Trainings  Score: 0.9934\n",
      "Validation Score: 0.9892\n",
      "Elapsed Time: 2.06s\n",
      "\n",
      "Model: Random_Forest\n",
      "Trainings  Score: 1.0000\n",
      "Validation Score: 0.9931\n",
      "Elapsed Time: 9.11s\n",
      "\n",
      "Model: AdaBoost\n",
      "Trainings  Score: 1.0000\n",
      "Validation Score: 0.9921\n",
      "Elapsed Time: 75.49s\n",
      "\n",
      "Model: KNN\n",
      "Trainings  Score: 0.9926\n",
      "Validation Score: 0.9931\n",
      "Elapsed Time: 117.73s\n",
      "\n",
      "Model: Linear_SVC\n",
      "Trainings  Score: 0.9941\n",
      "Validation Score: 0.9862\n",
      "Elapsed Time: 12.00s\n",
      "\n",
      "Model: Naive_Bayes\n",
      "Trainings  Score: 0.0329\n",
      "Validation Score: 0.0255\n",
      "Elapsed Time: 0.90s\n",
      "\n"
     ]
    }
   ],
   "source": [
    "#train and predict on baseline models\n",
    "std_scaler = StandardScaler()\n",
    "std_scaler.fit(X_train)\n",
    "X_train_scaled = std_scaler.transform(X_train)\n",
    "X_val_scaled = std_scaler.transform(X_val)\n",
    "for i, model in enumerate(model_list):\n",
    "    start = timer()\n",
    "    model.fit(X_train_scaled, y_train)\n",
    "    print(f'Model: {model_names[i]}')\n",
    "    print(f'Trainings  Score:\\t{model.score(X_train_scaled, y_train):0.4f}')\n",
    "    print(f'Validation Score:\\t{model.score(X_val_scaled, y_val):0.4f}')\n",
    "    end = timer()\n",
    "    print(f'Elapsed Time:\\t{end - start:0.2f}s\\n')"
   ]
  },
  {
   "cell_type": "markdown",
   "id": "animal-hospital",
   "metadata": {},
   "source": [
    "- All models (except naive bayes) show very good results\n",
    "- KNN and AdaBoost take to long to train\n",
    "- Random Forest has highest accuracy while being resonable fast to train\n",
    "- Next step is to improve perfomance of random forest further by tweaking the hyperparameters and preprocessing"
   ]
  },
  {
   "cell_type": "code",
   "execution_count": null,
   "id": "affected-concept",
   "metadata": {},
   "outputs": [],
   "source": []
  }
 ],
 "metadata": {
  "kernelspec": {
   "display_name": "Python 3",
   "language": "python",
   "name": "python3"
  },
  "language_info": {
   "codemirror_mode": {
    "name": "ipython",
    "version": 3
   },
   "file_extension": ".py",
   "mimetype": "text/x-python",
   "name": "python",
   "nbconvert_exporter": "python",
   "pygments_lexer": "ipython3",
   "version": "3.7.9"
  },
  "toc": {
   "base_numbering": 1,
   "nav_menu": {},
   "number_sections": true,
   "sideBar": true,
   "skip_h1_title": false,
   "title_cell": "Table of Contents",
   "title_sidebar": "Contents",
   "toc_cell": false,
   "toc_position": {},
   "toc_section_display": true,
   "toc_window_display": false
  },
  "varInspector": {
   "cols": {
    "lenName": 16,
    "lenType": 16,
    "lenVar": 40
   },
   "kernels_config": {
    "python": {
     "delete_cmd_postfix": "",
     "delete_cmd_prefix": "del ",
     "library": "var_list.py",
     "varRefreshCmd": "print(var_dic_list())"
    },
    "r": {
     "delete_cmd_postfix": ") ",
     "delete_cmd_prefix": "rm(",
     "library": "var_list.r",
     "varRefreshCmd": "cat(var_dic_list()) "
    }
   },
   "types_to_exclude": [
    "module",
    "function",
    "builtin_function_or_method",
    "instance",
    "_Feature"
   ],
   "window_display": false
  }
 },
 "nbformat": 4,
 "nbformat_minor": 5
}
