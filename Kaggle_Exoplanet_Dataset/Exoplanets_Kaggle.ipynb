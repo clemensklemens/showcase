{
 "cells": [
  {
   "cell_type": "markdown",
   "id": "quick-setting",
   "metadata": {},
   "source": [
    "# Exoplanet Hunting in Deep Space\n",
    "Machine Learning project on preprocessed data from the NASA Kepler space telescope. Hosted on Kaggle: https://www.kaggle.com/keplersmachines/kepler-labelled-time-series-data\n",
    "<br>\n",
    "The data is labeled and cleaned. The rows represent one solar system. Columns the flux emitted by the system over time. The data gives no information about the time between two measurements. Column label is indicates if there are exoplanets present in the system. 1 means there are no confirmed exoplanets, 2 means there is at least one confirmed exoplanet in the system.\n",
    "\n",
    "Trainset:\n",
    "\n",
    "- 5087 rows or observations.\n",
    "- 3198 columns or features.\n",
    "- Column 1 is the label vector. Columns 2 - 3198 are the flux values over time.\n",
    "- 37 confirmed exoplanet-stars and 5050 non-exoplanet-stars.\n",
    "\n",
    "Testset:\n",
    "\n",
    "- 570 rows or observations.\n",
    "- 3198 columns or features.\n",
    "- Column 1 is the label vector. Columns 2 - 3198 are the flux values over time.\n",
    "- 5 confirmed exoplanet-stars and 565 non-exoplanet-stars."
   ]
  },
  {
   "cell_type": "code",
   "execution_count": 55,
   "id": "modern-austin",
   "metadata": {
    "ExecuteTime": {
     "end_time": "2021-02-08T14:31:00.729456Z",
     "start_time": "2021-02-08T14:31:00.724750Z"
    }
   },
   "outputs": [],
   "source": [
    "#import libaries\n",
    "import numpy as np\n",
    "import pandas as pd\n",
    "import matplotlib.pyplot as plt\n",
    "import seaborn as sns\n",
    "import plotly.express as px\n",
    "\n",
    "#timer\n",
    "from timeit import default_timer as timer\n",
    "\n",
    "#scipy\n",
    "from scipy.signal import wiener, periodogram\n",
    "\n",
    "#sklearn\n",
    "from sklearn.model_selection import train_test_split, cross_val_score, GridSearchCV, RandomizedSearchCV, RepeatedStratifiedKFold\n",
    "from sklearn.preprocessing import StandardScaler\n",
    "from sklearn.metrics import confusion_matrix, classification_report, accuracy_score\n",
    "from sklearn.pipeline import make_pipeline, Pipeline\n",
    "from sklearn.base import BaseEstimator, TransformerMixin\n",
    "\n",
    "from sklearn.linear_model import LogisticRegression\n",
    "from sklearn.ensemble import RandomForestClassifier, AdaBoostClassifier\n",
    "from sklearn.neighbors import KNeighborsClassifier\n",
    "from sklearn.svm import SVC\n",
    "from sklearn.naive_bayes import GaussianNB\n",
    "from sklearn.decomposition import PCA"
   ]
  },
  {
   "cell_type": "markdown",
   "id": "exclusive-principal",
   "metadata": {},
   "source": [
    "## Preprocessing\n",
    "### Loading Data and first inspection"
   ]
  },
  {
   "cell_type": "code",
   "execution_count": 2,
   "id": "prostate-coalition",
   "metadata": {
    "ExecuteTime": {
     "end_time": "2021-02-08T13:39:41.695485Z",
     "start_time": "2021-02-08T13:39:37.123137Z"
    }
   },
   "outputs": [
    {
     "data": {
      "text/html": [
       "<div>\n",
       "<style scoped>\n",
       "    .dataframe tbody tr th:only-of-type {\n",
       "        vertical-align: middle;\n",
       "    }\n",
       "\n",
       "    .dataframe tbody tr th {\n",
       "        vertical-align: top;\n",
       "    }\n",
       "\n",
       "    .dataframe thead th {\n",
       "        text-align: right;\n",
       "    }\n",
       "</style>\n",
       "<table border=\"1\" class=\"dataframe\">\n",
       "  <thead>\n",
       "    <tr style=\"text-align: right;\">\n",
       "      <th></th>\n",
       "      <th>LABEL</th>\n",
       "      <th>FLUX.1</th>\n",
       "      <th>FLUX.2</th>\n",
       "      <th>FLUX.3</th>\n",
       "      <th>FLUX.4</th>\n",
       "      <th>FLUX.5</th>\n",
       "      <th>FLUX.6</th>\n",
       "      <th>FLUX.7</th>\n",
       "      <th>FLUX.8</th>\n",
       "      <th>FLUX.9</th>\n",
       "      <th>...</th>\n",
       "      <th>FLUX.3188</th>\n",
       "      <th>FLUX.3189</th>\n",
       "      <th>FLUX.3190</th>\n",
       "      <th>FLUX.3191</th>\n",
       "      <th>FLUX.3192</th>\n",
       "      <th>FLUX.3193</th>\n",
       "      <th>FLUX.3194</th>\n",
       "      <th>FLUX.3195</th>\n",
       "      <th>FLUX.3196</th>\n",
       "      <th>FLUX.3197</th>\n",
       "    </tr>\n",
       "  </thead>\n",
       "  <tbody>\n",
       "    <tr>\n",
       "      <th>0</th>\n",
       "      <td>2</td>\n",
       "      <td>93.85</td>\n",
       "      <td>83.81</td>\n",
       "      <td>20.10</td>\n",
       "      <td>-26.98</td>\n",
       "      <td>-39.56</td>\n",
       "      <td>-124.71</td>\n",
       "      <td>-135.18</td>\n",
       "      <td>-96.27</td>\n",
       "      <td>-79.89</td>\n",
       "      <td>...</td>\n",
       "      <td>-78.07</td>\n",
       "      <td>-102.15</td>\n",
       "      <td>-102.15</td>\n",
       "      <td>25.13</td>\n",
       "      <td>48.57</td>\n",
       "      <td>92.54</td>\n",
       "      <td>39.32</td>\n",
       "      <td>61.42</td>\n",
       "      <td>5.08</td>\n",
       "      <td>-39.54</td>\n",
       "    </tr>\n",
       "    <tr>\n",
       "      <th>1</th>\n",
       "      <td>2</td>\n",
       "      <td>-38.88</td>\n",
       "      <td>-33.83</td>\n",
       "      <td>-58.54</td>\n",
       "      <td>-40.09</td>\n",
       "      <td>-79.31</td>\n",
       "      <td>-72.81</td>\n",
       "      <td>-86.55</td>\n",
       "      <td>-85.33</td>\n",
       "      <td>-83.97</td>\n",
       "      <td>...</td>\n",
       "      <td>-3.28</td>\n",
       "      <td>-32.21</td>\n",
       "      <td>-32.21</td>\n",
       "      <td>-24.89</td>\n",
       "      <td>-4.86</td>\n",
       "      <td>0.76</td>\n",
       "      <td>-11.70</td>\n",
       "      <td>6.46</td>\n",
       "      <td>16.00</td>\n",
       "      <td>19.93</td>\n",
       "    </tr>\n",
       "    <tr>\n",
       "      <th>2</th>\n",
       "      <td>2</td>\n",
       "      <td>532.64</td>\n",
       "      <td>535.92</td>\n",
       "      <td>513.73</td>\n",
       "      <td>496.92</td>\n",
       "      <td>456.45</td>\n",
       "      <td>466.00</td>\n",
       "      <td>464.50</td>\n",
       "      <td>486.39</td>\n",
       "      <td>436.56</td>\n",
       "      <td>...</td>\n",
       "      <td>-71.69</td>\n",
       "      <td>13.31</td>\n",
       "      <td>13.31</td>\n",
       "      <td>-29.89</td>\n",
       "      <td>-20.88</td>\n",
       "      <td>5.06</td>\n",
       "      <td>-11.80</td>\n",
       "      <td>-28.91</td>\n",
       "      <td>-70.02</td>\n",
       "      <td>-96.67</td>\n",
       "    </tr>\n",
       "  </tbody>\n",
       "</table>\n",
       "<p>3 rows × 3198 columns</p>\n",
       "</div>"
      ],
      "text/plain": [
       "   LABEL  FLUX.1  FLUX.2  FLUX.3  FLUX.4  FLUX.5  FLUX.6  FLUX.7  FLUX.8  \\\n",
       "0      2   93.85   83.81   20.10  -26.98  -39.56 -124.71 -135.18  -96.27   \n",
       "1      2  -38.88  -33.83  -58.54  -40.09  -79.31  -72.81  -86.55  -85.33   \n",
       "2      2  532.64  535.92  513.73  496.92  456.45  466.00  464.50  486.39   \n",
       "\n",
       "   FLUX.9  ...  FLUX.3188  FLUX.3189  FLUX.3190  FLUX.3191  FLUX.3192  \\\n",
       "0  -79.89  ...     -78.07    -102.15    -102.15      25.13      48.57   \n",
       "1  -83.97  ...      -3.28     -32.21     -32.21     -24.89      -4.86   \n",
       "2  436.56  ...     -71.69      13.31      13.31     -29.89     -20.88   \n",
       "\n",
       "   FLUX.3193  FLUX.3194  FLUX.3195  FLUX.3196  FLUX.3197  \n",
       "0      92.54      39.32      61.42       5.08     -39.54  \n",
       "1       0.76     -11.70       6.46      16.00      19.93  \n",
       "2       5.06     -11.80     -28.91     -70.02     -96.67  \n",
       "\n",
       "[3 rows x 3198 columns]"
      ]
     },
     "metadata": {},
     "output_type": "display_data"
    },
    {
     "name": "stdout",
     "output_type": "stream",
     "text": [
      "<class 'pandas.core.frame.DataFrame'>\n",
      "RangeIndex: 5087 entries, 0 to 5086\n",
      "Columns: 3198 entries, LABEL to FLUX.3197\n",
      "dtypes: float64(3197), int64(1)\n",
      "memory usage: 124.1 MB\n"
     ]
    }
   ],
   "source": [
    "#read training data\n",
    "df_train = pd.read_csv('./exoTrain.csv')\n",
    "display(df_train.head(3))\n",
    "df_train.info()"
   ]
  },
  {
   "cell_type": "markdown",
   "id": "alien-pledge",
   "metadata": {},
   "source": [
    "Flux values are float64 only label has int64\n",
    "- Transform label into bool"
   ]
  },
  {
   "cell_type": "code",
   "execution_count": 3,
   "id": "nutritional-sponsorship",
   "metadata": {
    "ExecuteTime": {
     "end_time": "2021-02-08T13:39:41.700086Z",
     "start_time": "2021-02-08T13:39:41.697165Z"
    }
   },
   "outputs": [
    {
     "name": "stdout",
     "output_type": "stream",
     "text": [
      "[2 1]\n"
     ]
    }
   ],
   "source": [
    "#Check if there are really only two labels\n",
    "print(df_train['LABEL'].unique())"
   ]
  },
  {
   "cell_type": "code",
   "execution_count": 4,
   "id": "hearing-indianapolis",
   "metadata": {
    "ExecuteTime": {
     "end_time": "2021-02-08T13:39:41.735013Z",
     "start_time": "2021-02-08T13:39:41.701697Z"
    }
   },
   "outputs": [
    {
     "data": {
      "text/plain": [
       "array([ True, False])"
      ]
     },
     "execution_count": 4,
     "metadata": {},
     "output_type": "execute_result"
    }
   ],
   "source": [
    "#transform into bool (minus 1 to give 0 and 1 as labels)\n",
    "df_train['LABEL'] = (df_train['LABEL'] - 1).astype('bool')\n",
    "df_train['LABEL'].unique()"
   ]
  },
  {
   "cell_type": "markdown",
   "id": "religious-insured",
   "metadata": {},
   "source": [
    "### Missing values"
   ]
  },
  {
   "cell_type": "code",
   "execution_count": 5,
   "id": "golden-mount",
   "metadata": {
    "ExecuteTime": {
     "end_time": "2021-02-08T13:39:41.786480Z",
     "start_time": "2021-02-08T13:39:41.736524Z"
    }
   },
   "outputs": [
    {
     "name": "stdout",
     "output_type": "stream",
     "text": [
      "There are: 0 missing values\n"
     ]
    }
   ],
   "source": [
    "#Are there any missing values at all?\n",
    "print(f\"There are: {df_train.isna().sum().sum()} missing values\")"
   ]
  },
  {
   "cell_type": "markdown",
   "id": "elect-movement",
   "metadata": {},
   "source": [
    "### Value range and outliers"
   ]
  },
  {
   "cell_type": "code",
   "execution_count": 6,
   "id": "residential-fountain",
   "metadata": {
    "ExecuteTime": {
     "end_time": "2021-02-08T13:39:42.471035Z",
     "start_time": "2021-02-08T13:39:41.787821Z"
    }
   },
   "outputs": [
    {
     "name": "stdout",
     "output_type": "stream",
     "text": [
      "Min    flux value: -2385019.12\n",
      "Max    flux value:  4299288.0\n",
      "Mean   flux value:  130.41674038757165\n",
      "Median flux value: -0.25\n"
     ]
    }
   ],
   "source": [
    "#print min / max / mean / median values\n",
    "print(f\"Min    flux value: {df_train.iloc[:, 1:].min().min()}\")\n",
    "print(f\"Max    flux value:  {df_train.iloc[:, 1:].max().max()}\")\n",
    "print(f\"Mean   flux value:  {df_train.iloc[:, 1:].mean().mean()}\")\n",
    "print(f\"Median flux value: {df_train.iloc[:, 1:].median().median()}\")"
   ]
  },
  {
   "cell_type": "markdown",
   "id": "modern-reduction",
   "metadata": {},
   "source": [
    "- wide range of values\n",
    "    - need normalisation\n",
    "- if model performs very badly maybe remove outlier systems"
   ]
  },
  {
   "cell_type": "markdown",
   "id": "thrown-argentina",
   "metadata": {},
   "source": [
    "### Plot of two random systems"
   ]
  },
  {
   "cell_type": "code",
   "execution_count": 7,
   "id": "selected-german",
   "metadata": {
    "ExecuteTime": {
     "end_time": "2021-02-08T13:39:42.508459Z",
     "start_time": "2021-02-08T13:39:42.472433Z"
    }
   },
   "outputs": [],
   "source": [
    "#Transpose data\n",
    "df_train_trans_data = df_train.drop(columns=(['LABEL'])).T"
   ]
  },
  {
   "cell_type": "code",
   "execution_count": 8,
   "id": "latin-african",
   "metadata": {
    "ExecuteTime": {
     "end_time": "2021-02-08T13:39:42.525528Z",
     "start_time": "2021-02-08T13:39:42.510809Z"
    }
   },
   "outputs": [],
   "source": [
    "#extract labels\n",
    "df_train_label = df_train['LABEL']"
   ]
  },
  {
   "cell_type": "code",
   "execution_count": 9,
   "id": "healthy-general",
   "metadata": {
    "ExecuteTime": {
     "end_time": "2021-02-08T13:39:42.534796Z",
     "start_time": "2021-02-08T13:39:42.527915Z"
    }
   },
   "outputs": [],
   "source": [
    "#funtion to plot two systems (random choice 5 and 100, 5 has exoplanets, 100 has no exoplanets)\n",
    "def plot_systems(X):\n",
    "    plt.figure(figsize=(12, 6))\n",
    "    ax = plt.gca() #get current axis\n",
    "    ax.axes.xaxis.set_visible(False)\n",
    "    plt.plot(X[5], label='eg exoplanets present')\n",
    "    plt.plot(X[100], label='eg no exoplanets present') #has no exoplanet\n",
    "    plt.legend()\n",
    "    plt.show() "
   ]
  },
  {
   "cell_type": "code",
   "execution_count": 10,
   "id": "gorgeous-robertson",
   "metadata": {
    "ExecuteTime": {
     "end_time": "2021-02-08T13:39:46.166572Z",
     "start_time": "2021-02-08T13:39:42.536411Z"
    }
   },
   "outputs": [
    {
     "data": {
      "image/png": "[encoded data removed]",
      "text/plain": [
       "<Figure size 864x432 with 1 Axes>"
      ]
     },
     "metadata": {
      "needs_background": "light"
     },
     "output_type": "display_data"
    }
   ],
   "source": [
    "plot_systems(df_train_trans_data)"
   ]
  },
  {
   "cell_type": "markdown",
   "id": "civil-parks",
   "metadata": {},
   "source": [
    "- clearly visibile sinusodial wave in case of present exoplanet\n",
    "- in both cases cleary visible outliers which should be adressed\n",
    "- flux values have different magnitudes"
   ]
  },
  {
   "cell_type": "markdown",
   "id": "rising-alpha",
   "metadata": {},
   "source": [
    "## Machine Learning Model\n",
    "### Baseline Models\n",
    "- First check the difficulty of the problem with a couple of baseline models\n",
    "    - No further preprocessing or hyperparameter tuning\n",
    "    - Simple accracy score\n",
    "- Split train data into train and validation data\n",
    "    - For hyperparameter tuning I will use cross-validation instead\n",
    "- Filter data\n",
    "- Scale data with standard scaler\n",
    "- Use periodogram instead of features"
   ]
  },
  {
   "cell_type": "code",
   "execution_count": 11,
   "id": "through-chess",
   "metadata": {
    "ExecuteTime": {
     "end_time": "2021-02-08T13:39:46.411611Z",
     "start_time": "2021-02-08T13:39:46.167990Z"
    }
   },
   "outputs": [],
   "source": [
    "#Split into train and validate data\n",
    "X = df_train.iloc[:, 1:].values\n",
    "y = df_train.iloc[:, :1].values\n",
    "y = y.reshape(y.shape[0])\n",
    "\n",
    "X_train, X_val, y_train, y_val = train_test_split(X, y, train_size=0.8, stratify=y, random_state=1234)"
   ]
  },
  {
   "cell_type": "code",
   "execution_count": 12,
   "id": "reflected-sherman",
   "metadata": {
    "ExecuteTime": {
     "end_time": "2021-02-08T13:39:46.416859Z",
     "start_time": "2021-02-08T13:39:46.413477Z"
    }
   },
   "outputs": [
    {
     "name": "stdout",
     "output_type": "stream",
     "text": [
      "Samples in trainings data:\t4069\n",
      "Samples in validation data:\t1018\n"
     ]
    }
   ],
   "source": [
    "print(f'Samples in trainings data:\\t{X_train.shape[0]}')\n",
    "print(f'Samples in validation data:\\t{X_val.shape[0]}')"
   ]
  },
  {
   "cell_type": "code",
   "execution_count": 59,
   "id": "blocked-vegetarian",
   "metadata": {
    "ExecuteTime": {
     "end_time": "2021-02-08T14:38:24.467442Z",
     "start_time": "2021-02-08T14:38:24.462991Z"
    }
   },
   "outputs": [],
   "source": [
    "#function to evaluate baseline models\n",
    "def base_models(X_train, X_test, y_train, y_test):\n",
    "    #list of baseline models\n",
    "    model_names = [\"Logistic_Regression\", \"Random_Forest\", \"AdaBoost\", \"KNN\", \"Linear_SVC\", \"Naive_Bayes\"]\n",
    "\n",
    "    model_list = [LogisticRegression()\n",
    "               , RandomForestClassifier()\n",
    "               , AdaBoostClassifier()\n",
    "               , KNeighborsClassifier()\n",
    "               , SVC(kernel=\"linear\")\n",
    "               , GaussianNB()]  \n",
    "    \n",
    "    #evaluate all models\n",
    "    for i, model in enumerate(model_list):\n",
    "        start = timer()\n",
    "        model.fit(X_train, y_train)\n",
    "        print(f'Model: {model_names[i]}')\n",
    "        print(f'Trainings  Score:\\t{model.score(X_train, y_train):0.10f}')\n",
    "        print(f'Validation Score:\\t{model.score(X_test, y_test):0.10f}')\n",
    "        end = timer()\n",
    "        print(f'Elapsed Time:\\t{end - start:0.4f}s\\n')"
   ]
  },
  {
   "cell_type": "code",
   "execution_count": 14,
   "id": "skilled-republic",
   "metadata": {
    "ExecuteTime": {
     "end_time": "2021-02-08T13:43:22.509283Z",
     "start_time": "2021-02-08T13:39:46.438153Z"
    }
   },
   "outputs": [
    {
     "name": "stderr",
     "output_type": "stream",
     "text": [
      "/home/clemens/miniconda3/lib/python3.7/site-packages/sklearn/linear_model/_logistic.py:764: ConvergenceWarning: lbfgs failed to converge (status=1):\n",
      "STOP: TOTAL NO. of ITERATIONS REACHED LIMIT.\n",
      "\n",
      "Increase the number of iterations (max_iter) or scale the data as shown in:\n",
      "    https://scikit-learn.org/stable/modules/preprocessing.html\n",
      "Please also refer to the documentation for alternative solver options:\n",
      "    https://scikit-learn.org/stable/modules/linear_model.html#logistic-regression\n",
      "  extra_warning_msg=_LOGISTIC_SOLVER_CONVERGENCE_MSG)\n"
     ]
    },
    {
     "name": "stdout",
     "output_type": "stream",
     "text": [
      "Model: Logistic_Regression\n",
      "Trainings  Score:\t0.708036\n",
      "Validation Score:\t0.640472\n",
      "Elapsed Time:\t2.37s\n",
      "\n",
      "Model: Random_Forest\n",
      "Trainings  Score:\t1.000000\n",
      "Validation Score:\t0.993124\n",
      "Elapsed Time:\t8.47s\n",
      "\n",
      "Model: AdaBoost\n",
      "Trainings  Score:\t1.000000\n",
      "Validation Score:\t0.992141\n",
      "Elapsed Time:\t73.10s\n",
      "\n",
      "Model: KNN\n",
      "Trainings  Score:\t0.992627\n",
      "Validation Score:\t0.993124\n",
      "Elapsed Time:\t109.92s\n",
      "\n",
      "Model: Linear_SVC\n",
      "Trainings  Score:\t1.000000\n",
      "Validation Score:\t0.961690\n",
      "Elapsed Time:\t21.80s\n",
      "\n",
      "Model: Naive_Bayes\n",
      "Trainings  Score:\t0.032932\n",
      "Validation Score:\t0.025540\n",
      "Elapsed Time:\t0.41s\n",
      "\n"
     ]
    }
   ],
   "source": [
    "#baseline on untreated data\n",
    "base_models(X_train, X_val, y_train, y_val)"
   ]
  },
  {
   "cell_type": "markdown",
   "id": "gentle-laugh",
   "metadata": {},
   "source": [
    "- All models (except naive bayes and Log Regression) show very good results\n",
    "- KNN and AdaBoost take to long to train\n",
    "- Random Forest has highest accuracy while being resonable fast to train\n",
    "- Next step is to improve perfomance of random forest further by tweaking the hyperparameters and preprocessing"
   ]
  },
  {
   "cell_type": "markdown",
   "id": "violent-stability",
   "metadata": {},
   "source": [
    "#### Baseline on Filtered data\n",
    "I used Wiener Filter"
   ]
  },
  {
   "cell_type": "code",
   "execution_count": 15,
   "id": "sunset-morning",
   "metadata": {
    "ExecuteTime": {
     "end_time": "2021-02-08T13:43:24.869854Z",
     "start_time": "2021-02-08T13:43:22.510675Z"
    }
   },
   "outputs": [
    {
     "data": {
      "image/png": "[encoded data removed]",
      "text/plain": [
       "<Figure size 864x432 with 1 Axes>"
      ]
     },
     "metadata": {
      "needs_background": "light"
     },
     "output_type": "display_data"
    }
   ],
   "source": [
    "#Filter input\n",
    "X_train_filtered = wiener(X_train, mysize=15)\n",
    "X_val_filtered = wiener(X_val, mysize=15)\n",
    "plot_systems(X_train_filtered)"
   ]
  },
  {
   "cell_type": "code",
   "execution_count": 16,
   "id": "prescription-perception",
   "metadata": {
    "ExecuteTime": {
     "end_time": "2021-02-08T13:46:00.041244Z",
     "start_time": "2021-02-08T13:43:24.871974Z"
    }
   },
   "outputs": [
    {
     "name": "stderr",
     "output_type": "stream",
     "text": [
      "/home/clemens/miniconda3/lib/python3.7/site-packages/sklearn/linear_model/_logistic.py:764: ConvergenceWarning: lbfgs failed to converge (status=1):\n",
      "STOP: TOTAL NO. of ITERATIONS REACHED LIMIT.\n",
      "\n",
      "Increase the number of iterations (max_iter) or scale the data as shown in:\n",
      "    https://scikit-learn.org/stable/modules/preprocessing.html\n",
      "Please also refer to the documentation for alternative solver options:\n",
      "    https://scikit-learn.org/stable/modules/linear_model.html#logistic-regression\n",
      "  extra_warning_msg=_LOGISTIC_SOLVER_CONVERGENCE_MSG)\n"
     ]
    },
    {
     "name": "stdout",
     "output_type": "stream",
     "text": [
      "Model: Logistic_Regression\n",
      "Trainings  Score:\t0.874662\n",
      "Validation Score:\t0.617878\n",
      "Elapsed Time:\t2.28s\n",
      "\n",
      "Model: Random_Forest\n",
      "Trainings  Score:\t1.000000\n",
      "Validation Score:\t0.993124\n",
      "Elapsed Time:\t9.60s\n",
      "\n",
      "Model: AdaBoost\n",
      "Trainings  Score:\t0.995085\n",
      "Validation Score:\t0.990177\n",
      "Elapsed Time:\t71.23s\n",
      "\n",
      "Model: KNN\n",
      "Trainings  Score:\t0.992627\n",
      "Validation Score:\t0.993124\n",
      "Elapsed Time:\t51.50s\n",
      "\n",
      "Model: Linear_SVC\n",
      "Trainings  Score:\t0.989187\n",
      "Validation Score:\t0.665029\n",
      "Elapsed Time:\t20.16s\n",
      "\n",
      "Model: Naive_Bayes\n",
      "Trainings  Score:\t0.049889\n",
      "Validation Score:\t0.039293\n",
      "Elapsed Time:\t0.39s\n",
      "\n"
     ]
    }
   ],
   "source": [
    "base_models(X_train_filtered, X_val_filtered, y_train, y_val)"
   ]
  },
  {
   "cell_type": "markdown",
   "id": "varying-retail",
   "metadata": {},
   "source": [
    "- Performance of SVC drops\n",
    "- Performance of Log Regression drops slightly\n",
    "- Performance of other models does not change\n",
    "\n",
    "#### Baseline on scaled data\n",
    "Use Standard Scaler"
   ]
  },
  {
   "cell_type": "code",
   "execution_count": 17,
   "id": "informational-demonstration",
   "metadata": {
    "ExecuteTime": {
     "end_time": "2021-02-08T13:46:00.470926Z",
     "start_time": "2021-02-08T13:46:00.042542Z"
    }
   },
   "outputs": [
    {
     "data": {
      "image/png": "[encoded data removed]",
      "text/plain": [
       "<Figure size 864x432 with 1 Axes>"
      ]
     },
     "metadata": {
      "needs_background": "light"
     },
     "output_type": "display_data"
    }
   ],
   "source": [
    "#scale input\n",
    "std_scaler = StandardScaler()\n",
    "std_scaler.fit(X_train_filtered)\n",
    "X_train_scaled = std_scaler.transform(X_train_filtered)\n",
    "X_val_scaled = std_scaler.transform(X_val_filtered)\n",
    "plot_systems(X_train_scaled)"
   ]
  },
  {
   "cell_type": "code",
   "execution_count": 18,
   "id": "binding-assist",
   "metadata": {
    "ExecuteTime": {
     "end_time": "2021-02-08T13:48:21.771036Z",
     "start_time": "2021-02-08T13:46:00.472871Z"
    }
   },
   "outputs": [
    {
     "name": "stderr",
     "output_type": "stream",
     "text": [
      "/home/clemens/miniconda3/lib/python3.7/site-packages/sklearn/linear_model/_logistic.py:764: ConvergenceWarning: lbfgs failed to converge (status=1):\n",
      "STOP: TOTAL NO. of ITERATIONS REACHED LIMIT.\n",
      "\n",
      "Increase the number of iterations (max_iter) or scale the data as shown in:\n",
      "    https://scikit-learn.org/stable/modules/preprocessing.html\n",
      "Please also refer to the documentation for alternative solver options:\n",
      "    https://scikit-learn.org/stable/modules/linear_model.html#logistic-regression\n",
      "  extra_warning_msg=_LOGISTIC_SOLVER_CONVERGENCE_MSG)\n"
     ]
    },
    {
     "name": "stdout",
     "output_type": "stream",
     "text": [
      "Model: Logistic_Regression\n",
      "Trainings  Score:\t0.992627\n",
      "Validation Score:\t0.991159\n",
      "Elapsed Time:\t2.03s\n",
      "\n",
      "Model: Random_Forest\n",
      "Trainings  Score:\t1.000000\n",
      "Validation Score:\t0.993124\n",
      "Elapsed Time:\t9.46s\n",
      "\n",
      "Model: AdaBoost\n",
      "Trainings  Score:\t0.995085\n",
      "Validation Score:\t0.990177\n",
      "Elapsed Time:\t70.72s\n",
      "\n",
      "Model: KNN\n",
      "Trainings  Score:\t0.992627\n",
      "Validation Score:\t0.993124\n",
      "Elapsed Time:\t52.10s\n",
      "\n",
      "Model: Linear_SVC\n",
      "Trainings  Score:\t0.992873\n",
      "Validation Score:\t0.992141\n",
      "Elapsed Time:\t6.62s\n",
      "\n",
      "Model: Naive_Bayes\n",
      "Trainings  Score:\t0.049889\n",
      "Validation Score:\t0.039293\n",
      "Elapsed Time:\t0.37s\n",
      "\n"
     ]
    }
   ],
   "source": [
    "base_models(X_train_scaled, X_val_scaled, y_train, y_val)"
   ]
  },
  {
   "cell_type": "markdown",
   "id": "incorrect-frame",
   "metadata": {},
   "source": [
    "- Scaling increases performance of Log Regression and SVC\n",
    "- Other models are not affected\n",
    "#### Baseline on Periodogram"
   ]
  },
  {
   "cell_type": "code",
   "execution_count": 42,
   "id": "proved-watch",
   "metadata": {
    "ExecuteTime": {
     "end_time": "2021-02-08T14:02:29.393257Z",
     "start_time": "2021-02-08T14:02:28.751917Z"
    }
   },
   "outputs": [
    {
     "data": {
      "image/png": "[encoded data removed]",
      "text/plain": [
       "<Figure size 864x432 with 1 Axes>"
      ]
     },
     "metadata": {
      "needs_background": "light"
     },
     "output_type": "display_data"
    }
   ],
   "source": [
    "#Calc periodogram\n",
    "_, X_train_period = periodogram(X_train_scaled)\n",
    "_, X_val_period = periodogram(X_val_scaled)\n",
    "plot_systems(X_train_period)"
   ]
  },
  {
   "cell_type": "code",
   "execution_count": 20,
   "id": "smaller-algorithm",
   "metadata": {
    "ExecuteTime": {
     "end_time": "2021-02-08T13:49:16.256839Z",
     "start_time": "2021-02-08T13:48:22.416860Z"
    }
   },
   "outputs": [
    {
     "name": "stderr",
     "output_type": "stream",
     "text": [
      "/home/clemens/miniconda3/lib/python3.7/site-packages/sklearn/linear_model/_logistic.py:764: ConvergenceWarning: lbfgs failed to converge (status=2):\n",
      "ABNORMAL_TERMINATION_IN_LNSRCH.\n",
      "\n",
      "Increase the number of iterations (max_iter) or scale the data as shown in:\n",
      "    https://scikit-learn.org/stable/modules/preprocessing.html\n",
      "Please also refer to the documentation for alternative solver options:\n",
      "    https://scikit-learn.org/stable/modules/linear_model.html#logistic-regression\n",
      "  extra_warning_msg=_LOGISTIC_SOLVER_CONVERGENCE_MSG)\n"
     ]
    },
    {
     "name": "stdout",
     "output_type": "stream",
     "text": [
      "Model: Logistic_Regression\n",
      "Trainings  Score:\t0.992627\n",
      "Validation Score:\t0.993124\n",
      "Elapsed Time:\t0.44s\n",
      "\n",
      "Model: Random_Forest\n",
      "Trainings  Score:\t1.000000\n",
      "Validation Score:\t0.993124\n",
      "Elapsed Time:\t7.69s\n",
      "\n",
      "Model: AdaBoost\n",
      "Trainings  Score:\t0.996314\n",
      "Validation Score:\t0.993124\n",
      "Elapsed Time:\t29.69s\n",
      "\n",
      "Model: KNN\n",
      "Trainings  Score:\t0.992627\n",
      "Validation Score:\t0.993124\n",
      "Elapsed Time:\t11.05s\n",
      "\n",
      "Model: Linear_SVC\n",
      "Trainings  Score:\t0.992873\n",
      "Validation Score:\t0.993124\n",
      "Elapsed Time:\t4.70s\n",
      "\n",
      "Model: Naive_Bayes\n",
      "Trainings  Score:\t0.018432\n",
      "Validation Score:\t0.009823\n",
      "Elapsed Time:\t0.27s\n",
      "\n"
     ]
    }
   ],
   "source": [
    "base_models(X_train_period, X_val_period, y_train, y_val)"
   ]
  },
  {
   "cell_type": "markdown",
   "id": "threatened-theater",
   "metadata": {},
   "source": [
    "- Naive Bayes performs worse\n",
    "- Other models are not affected\n",
    "#### Baseline with PCA\n",
    "- Should improve performance\n",
    "- 1000 is just a guess will be imprived later with grid and random search"
   ]
  },
  {
   "cell_type": "code",
   "execution_count": 57,
   "id": "numeric-seventh",
   "metadata": {
    "ExecuteTime": {
     "end_time": "2021-02-08T14:33:38.775504Z",
     "start_time": "2021-02-08T14:33:35.740749Z"
    }
   },
   "outputs": [],
   "source": [
    "#reduce features with PCA\n",
    "pca = PCA(n_components=1000)\n",
    "pca.fit(X_train_period)\n",
    "X_train_pca = pca.transform(X_train_period)\n",
    "X_val_pca = pca.transform(X_val_period)"
   ]
  },
  {
   "cell_type": "code",
   "execution_count": 58,
   "id": "unexpected-purpose",
   "metadata": {
    "ExecuteTime": {
     "end_time": "2021-02-08T14:34:31.086141Z",
     "start_time": "2021-02-08T14:33:56.948246Z"
    }
   },
   "outputs": [
    {
     "name": "stdout",
     "output_type": "stream",
     "text": [
      "Model: Logistic_Regression\n",
      "Trainings  Score:\t0.992627\n",
      "Validation Score:\t0.993124\n",
      "Elapsed Time:\t0.16s\n",
      "\n",
      "Model: Random_Forest\n",
      "Trainings  Score:\t0.996805\n",
      "Validation Score:\t0.990177\n",
      "Elapsed Time:\t9.46s\n",
      "\n",
      "Model: AdaBoost\n",
      "Trainings  Score:\t0.994102\n",
      "Validation Score:\t0.980354\n",
      "Elapsed Time:\t16.74s\n",
      "\n",
      "Model: KNN\n",
      "Trainings  Score:\t0.992627\n",
      "Validation Score:\t0.993124\n",
      "Elapsed Time:\t6.95s\n",
      "\n",
      "Model: Linear_SVC\n",
      "Trainings  Score:\t0.992627\n",
      "Validation Score:\t0.993124\n",
      "Elapsed Time:\t0.71s\n",
      "\n",
      "Model: Naive_Bayes\n",
      "Trainings  Score:\t0.036864\n",
      "Validation Score:\t0.038310\n",
      "Elapsed Time:\t0.11s\n",
      "\n"
     ]
    }
   ],
   "source": [
    "base_models(X_train_pca, X_val_pca, y_train, y_val)"
   ]
  },
  {
   "cell_type": "markdown",
   "id": "curious-mandate",
   "metadata": {},
   "source": [
    "- implement pipeline with all preprocessing steps\n",
    "- use LogRegression seems to show good performance and is fast"
   ]
  },
  {
   "cell_type": "markdown",
   "id": "technical-belize",
   "metadata": {},
   "source": [
    "### Custom transformer classes for pipeline"
   ]
  },
  {
   "cell_type": "code",
   "execution_count": 67,
   "id": "bizarre-replication",
   "metadata": {
    "ExecuteTime": {
     "end_time": "2021-02-08T14:52:28.963256Z",
     "start_time": "2021-02-08T14:52:28.957271Z"
    }
   },
   "outputs": [],
   "source": [
    "#Transformer class for Filter\n",
    "class WienerFilter(BaseEstimator, TransformerMixin):\n",
    "    def __init__(self, mysize=15, noise=None):\n",
    "        self.mysize = mysize\n",
    "        self.noise = noise\n",
    "    \n",
    "    #There is nothing happening in the fit function\n",
    "    def fit(self, X, y = None):\n",
    "        return self\n",
    "    \n",
    "    #transform data\n",
    "    def transform(self, X, y = None):\n",
    "        return wiener(X, mysize=self.mysize, noise=self.noise)\n",
    "    \n",
    "    \n",
    "#Transformer class for periodogramm\n",
    "class Periodogram(BaseEstimator, TransformerMixin):\n",
    "    def __init__(self, fs=1.0, window='boxcar', nfft=None, detrend='constant', scaling='density'):\n",
    "        self.fs = fs\n",
    "        self.window = window\n",
    "        self.nfft = nfft\n",
    "        self.detrend = detrend\n",
    "        self.scaling = scaling\n",
    "    \n",
    "    #There is nothing happening in the fit function\n",
    "    def fit(self, X, y = None):\n",
    "        return self\n",
    "    \n",
    "    #transform data\n",
    "    def transform(self, X, y = None):\n",
    "        _, X_period = periodogram(X, fs=self.fs, window=self.window, nfft=self.nfft,\n",
    "                                  detrend=self.detrend, scaling=self.scaling)\n",
    "        return X_period"
   ]
  },
  {
   "cell_type": "markdown",
   "id": "dimensional-floating",
   "metadata": {},
   "source": [
    "### Logistic Regression Classifier\n",
    "#### Pipeline for all steps"
   ]
  },
  {
   "cell_type": "code",
   "execution_count": 68,
   "id": "binary-console",
   "metadata": {
    "ExecuteTime": {
     "end_time": "2021-02-08T14:52:31.677037Z",
     "start_time": "2021-02-08T14:52:31.672194Z"
    }
   },
   "outputs": [],
   "source": [
    "logreg_pipe = Pipeline(steps=[\n",
    "                         ('wiener_filter', WienerFilter())\n",
    "                        ,('std_scaler', StandardScaler())\n",
    "                        ,('periodogram', Periodogram())\n",
    "                        ,('pca', PCA(n_components=1000))\n",
    "                        ,('log_regression', LogisticRegression())\n",
    "                         ])"
   ]
  },
  {
   "cell_type": "code",
   "execution_count": 70,
   "id": "variable-radar",
   "metadata": {
    "ExecuteTime": {
     "end_time": "2021-02-08T14:52:33.135178Z",
     "start_time": "2021-02-08T14:52:33.132116Z"
    }
   },
   "outputs": [],
   "source": [
    "#lists of hyperparameters to tune\n",
    "random_params = {'pca__n_components': [1000, 750, 500, 250, 100]\n",
    "                , 'log_regression__C' : [0.001, 0.01, 0.1, 1, 10]\n",
    "                , 'log_regression__max_iter' : [100, 200, 500, 1000]\n",
    "                , 'log_regression__fit_intercept' : [True, False]\n",
    "                }"
   ]
  },
  {
   "cell_type": "code",
   "execution_count": 76,
   "id": "reported-venezuela",
   "metadata": {
    "ExecuteTime": {
     "end_time": "2021-02-08T15:18:38.149748Z",
     "start_time": "2021-02-08T14:56:47.529533Z"
    }
   },
   "outputs": [
    {
     "name": "stdout",
     "output_type": "stream",
     "text": [
      "Fitting 5 folds for each of 100 candidates, totalling 500 fits\n"
     ]
    },
    {
     "name": "stderr",
     "output_type": "stream",
     "text": [
      "[Parallel(n_jobs=-1)]: Using backend LokyBackend with 8 concurrent workers.\n",
      "[Parallel(n_jobs=-1)]: Done   2 tasks      | elapsed:    8.0s\n",
      "[Parallel(n_jobs=-1)]: Done   9 tasks      | elapsed:   19.7s\n",
      "[Parallel(n_jobs=-1)]: Done  16 tasks      | elapsed:   26.9s\n",
      "[Parallel(n_jobs=-1)]: Done  25 tasks      | elapsed:   35.0s\n",
      "[Parallel(n_jobs=-1)]: Done  34 tasks      | elapsed:  1.5min\n",
      "[Parallel(n_jobs=-1)]: Done  45 tasks      | elapsed:  1.9min\n",
      "[Parallel(n_jobs=-1)]: Done  56 tasks      | elapsed:  2.7min\n",
      "[Parallel(n_jobs=-1)]: Done  69 tasks      | elapsed:  3.0min\n",
      "[Parallel(n_jobs=-1)]: Done  82 tasks      | elapsed:  3.4min\n",
      "[Parallel(n_jobs=-1)]: Done  97 tasks      | elapsed:  4.2min\n",
      "[Parallel(n_jobs=-1)]: Done 112 tasks      | elapsed:  4.7min\n",
      "[Parallel(n_jobs=-1)]: Done 129 tasks      | elapsed:  5.8min\n",
      "[Parallel(n_jobs=-1)]: Done 146 tasks      | elapsed:  6.4min\n",
      "[Parallel(n_jobs=-1)]: Done 165 tasks      | elapsed:  6.9min\n",
      "[Parallel(n_jobs=-1)]: Done 184 tasks      | elapsed:  7.6min\n",
      "[Parallel(n_jobs=-1)]: Done 205 tasks      | elapsed:  8.6min\n",
      "[Parallel(n_jobs=-1)]: Done 226 tasks      | elapsed:  9.4min\n",
      "[Parallel(n_jobs=-1)]: Done 249 tasks      | elapsed: 10.2min\n",
      "[Parallel(n_jobs=-1)]: Done 272 tasks      | elapsed: 11.3min\n",
      "[Parallel(n_jobs=-1)]: Done 297 tasks      | elapsed: 13.9min\n",
      "[Parallel(n_jobs=-1)]: Done 322 tasks      | elapsed: 15.1min\n",
      "[Parallel(n_jobs=-1)]: Done 349 tasks      | elapsed: 16.5min\n",
      "[Parallel(n_jobs=-1)]: Done 376 tasks      | elapsed: 17.5min\n",
      "[Parallel(n_jobs=-1)]: Done 405 tasks      | elapsed: 18.7min\n",
      "[Parallel(n_jobs=-1)]: Done 434 tasks      | elapsed: 19.5min\n",
      "[Parallel(n_jobs=-1)]: Done 465 tasks      | elapsed: 20.4min\n",
      "[Parallel(n_jobs=-1)]: Done 500 out of 500 | elapsed: 21.7min finished\n",
      "/home/clemens/miniconda3/lib/python3.7/site-packages/sklearn/linear_model/_logistic.py:764: ConvergenceWarning: lbfgs failed to converge (status=1):\n",
      "STOP: TOTAL NO. of ITERATIONS REACHED LIMIT.\n",
      "\n",
      "Increase the number of iterations (max_iter) or scale the data as shown in:\n",
      "    https://scikit-learn.org/stable/modules/preprocessing.html\n",
      "Please also refer to the documentation for alternative solver options:\n",
      "    https://scikit-learn.org/stable/modules/linear_model.html#logistic-regression\n",
      "  extra_warning_msg=_LOGISTIC_SOLVER_CONVERGENCE_MSG)\n"
     ]
    },
    {
     "data": {
      "text/plain": [
       "RandomizedSearchCV(cv=5,\n",
       "                   estimator=Pipeline(steps=[('wiener_filter', WienerFilter()),\n",
       "                                             ('std_scaler', StandardScaler()),\n",
       "                                             ('periodogram', Periodogram()),\n",
       "                                             ('pca', PCA(n_components=1000)),\n",
       "                                             ('log_regression',\n",
       "                                              LogisticRegression())]),\n",
       "                   n_iter=100, n_jobs=-1,\n",
       "                   param_distributions={'log_regression__C': [0.001, 0.01, 0.1,\n",
       "                                                              1, 10],\n",
       "                                        'log_regression__fit_intercept': [True,\n",
       "                                                                          False],\n",
       "                                        'log_regression__max_iter': [100, 200,\n",
       "                                                                     500,\n",
       "                                                                     1000],\n",
       "                                        'pca__n_components': [None, 3000, 2000,\n",
       "                                                              1000, 500, 250,\n",
       "                                                              100]},\n",
       "                   random_state=4321, verbose=10)"
      ]
     },
     "execution_count": 76,
     "metadata": {},
     "output_type": "execute_result"
    }
   ],
   "source": [
    "#random search\n",
    "logpipe_random_cv = RandomizedSearchCV(logreg_pipe, param_distributions=random_params,\n",
    "                                      n_iter=100, cv=5, n_jobs=-1, verbose=10, random_state=4321)\n",
    "logpipe_random_cv.fit(X_train, y_train)"
   ]
  },
  {
   "cell_type": "code",
   "execution_count": 77,
   "id": "multiple-computer",
   "metadata": {
    "ExecuteTime": {
     "end_time": "2021-02-08T15:18:50.272946Z",
     "start_time": "2021-02-08T15:18:46.269601Z"
    }
   },
   "outputs": [
    {
     "name": "stdout",
     "output_type": "stream",
     "text": [
      "Training Score:\t0.13295650036864096\n",
      "Validate Score:\t0.09233791748526522\n",
      "Best model: {'pca__n_components': None, 'log_regression__max_iter': 100, 'log_regression__fit_intercept': True, 'log_regression__C': 0.001}\n",
      "Confusion Matrix:\n",
      "[[ 89 922]\n",
      " [  2   5]]\n",
      "Classification report:\n",
      "              precision    recall  f1-score   support\n",
      "\n",
      "       False       0.98      0.09      0.16      1011\n",
      "        True       0.01      0.71      0.01         7\n",
      "\n",
      "    accuracy                           0.09      1018\n",
      "   macro avg       0.49      0.40      0.09      1018\n",
      "weighted avg       0.97      0.09      0.16      1018\n",
      "\n"
     ]
    }
   ],
   "source": [
    "print(f'Training Score:\\t{logpipe_random_cv.score(X_train, y_train)}')\n",
    "print(f'Validate Score:\\t{logpipe_random_cv.score(X_val, y_val)}')\n",
    "print(f'Best model: {logpipe_random_cv.best_params_}')\n",
    "\n",
    "y_val_predicted = logpipe_random_cv.best_estimator_.predict(X_val)\n",
    "print(f'Confusion Matrix:\\n{confusion_matrix(y_val, y_val_predicted)}')\n",
    "print(f'Classification report:\\n{classification_report(y_val, y_val_predicted)}')"
   ]
  },
  {
   "cell_type": "markdown",
   "id": "auburn-recipient",
   "metadata": {},
   "source": [
    "#### Hyperparameter tuning with Random Search\n",
    "Tune for\n",
    "- Estimators\n",
    "- max depth\n",
    "- min leafs\n",
    "- max features\n",
    "- criterion"
   ]
  },
  {
   "cell_type": "code",
   "execution_count": 21,
   "id": "upset-architecture",
   "metadata": {
    "ExecuteTime": {
     "end_time": "2021-02-08T13:51:40.573464Z",
     "start_time": "2021-02-08T13:49:16.258147Z"
    }
   },
   "outputs": [
    {
     "name": "stdout",
     "output_type": "stream",
     "text": [
      "Fitting 3 folds for each of 50 candidates, totalling 150 fits\n"
     ]
    },
    {
     "name": "stderr",
     "output_type": "stream",
     "text": [
      "[Parallel(n_jobs=-1)]: Using backend LokyBackend with 8 concurrent workers.\n",
      "[Parallel(n_jobs=-1)]: Done   2 tasks      | elapsed:    4.6s\n",
      "[Parallel(n_jobs=-1)]: Done   9 tasks      | elapsed:   10.5s\n",
      "[Parallel(n_jobs=-1)]: Done  16 tasks      | elapsed:   18.8s\n",
      "[Parallel(n_jobs=-1)]: Done  25 tasks      | elapsed:   28.4s\n",
      "[Parallel(n_jobs=-1)]: Done  34 tasks      | elapsed:   35.2s\n",
      "[Parallel(n_jobs=-1)]: Done  45 tasks      | elapsed:   45.7s\n",
      "[Parallel(n_jobs=-1)]: Done  56 tasks      | elapsed:   57.8s\n",
      "[Parallel(n_jobs=-1)]: Done  69 tasks      | elapsed:  1.4min\n",
      "[Parallel(n_jobs=-1)]: Done  82 tasks      | elapsed:  2.0min\n"
     ]
    },
    {
     "ename": "KeyboardInterrupt",
     "evalue": "",
     "output_type": "error",
     "traceback": [
      "\u001b[0;31m---------------------------------------------------------------------------\u001b[0m",
      "\u001b[0;31mKeyboardInterrupt\u001b[0m                         Traceback (most recent call last)",
      "\u001b[0;32m<ipython-input-21-076b2fe49b96>\u001b[0m in \u001b[0;36m<module>\u001b[0;34m\u001b[0m\n\u001b[1;32m     10\u001b[0m forest_random_cv = RandomizedSearchCV(RandomForestClassifier(), param_distributions=random_params,\n\u001b[1;32m     11\u001b[0m                                       n_iter=50, cv=3, n_jobs=-1, verbose=10, random_state=4321)\n\u001b[0;32m---> 12\u001b[0;31m \u001b[0mforest_random_cv\u001b[0m\u001b[0;34m.\u001b[0m\u001b[0mfit\u001b[0m\u001b[0;34m(\u001b[0m\u001b[0mX_train_period\u001b[0m\u001b[0;34m,\u001b[0m \u001b[0my_train\u001b[0m\u001b[0;34m)\u001b[0m\u001b[0;34m\u001b[0m\u001b[0;34m\u001b[0m\u001b[0m\n\u001b[0m\u001b[1;32m     13\u001b[0m \u001b[0;34m\u001b[0m\u001b[0m\n\u001b[1;32m     14\u001b[0m \u001b[0mprint\u001b[0m\u001b[0;34m(\u001b[0m\u001b[0;34mf'Training Score:\\t{forest_random_cv.score(X_train_period, y_train)}'\u001b[0m\u001b[0;34m)\u001b[0m\u001b[0;34m\u001b[0m\u001b[0;34m\u001b[0m\u001b[0m\n",
      "\u001b[0;32m~/miniconda3/lib/python3.7/site-packages/sklearn/utils/validation.py\u001b[0m in \u001b[0;36minner_f\u001b[0;34m(*args, **kwargs)\u001b[0m\n\u001b[1;32m     70\u001b[0m                           FutureWarning)\n\u001b[1;32m     71\u001b[0m         \u001b[0mkwargs\u001b[0m\u001b[0;34m.\u001b[0m\u001b[0mupdate\u001b[0m\u001b[0;34m(\u001b[0m\u001b[0;34m{\u001b[0m\u001b[0mk\u001b[0m\u001b[0;34m:\u001b[0m \u001b[0marg\u001b[0m \u001b[0;32mfor\u001b[0m \u001b[0mk\u001b[0m\u001b[0;34m,\u001b[0m \u001b[0marg\u001b[0m \u001b[0;32min\u001b[0m \u001b[0mzip\u001b[0m\u001b[0;34m(\u001b[0m\u001b[0msig\u001b[0m\u001b[0;34m.\u001b[0m\u001b[0mparameters\u001b[0m\u001b[0;34m,\u001b[0m \u001b[0margs\u001b[0m\u001b[0;34m)\u001b[0m\u001b[0;34m}\u001b[0m\u001b[0;34m)\u001b[0m\u001b[0;34m\u001b[0m\u001b[0;34m\u001b[0m\u001b[0m\n\u001b[0;32m---> 72\u001b[0;31m         \u001b[0;32mreturn\u001b[0m \u001b[0mf\u001b[0m\u001b[0;34m(\u001b[0m\u001b[0;34m**\u001b[0m\u001b[0mkwargs\u001b[0m\u001b[0;34m)\u001b[0m\u001b[0;34m\u001b[0m\u001b[0;34m\u001b[0m\u001b[0m\n\u001b[0m\u001b[1;32m     73\u001b[0m     \u001b[0;32mreturn\u001b[0m \u001b[0minner_f\u001b[0m\u001b[0;34m\u001b[0m\u001b[0;34m\u001b[0m\u001b[0m\n\u001b[1;32m     74\u001b[0m \u001b[0;34m\u001b[0m\u001b[0m\n",
      "\u001b[0;32m~/miniconda3/lib/python3.7/site-packages/sklearn/model_selection/_search.py\u001b[0m in \u001b[0;36mfit\u001b[0;34m(self, X, y, groups, **fit_params)\u001b[0m\n\u001b[1;32m    734\u001b[0m                 \u001b[0;32mreturn\u001b[0m \u001b[0mresults\u001b[0m\u001b[0;34m\u001b[0m\u001b[0;34m\u001b[0m\u001b[0m\n\u001b[1;32m    735\u001b[0m \u001b[0;34m\u001b[0m\u001b[0m\n\u001b[0;32m--> 736\u001b[0;31m             \u001b[0mself\u001b[0m\u001b[0;34m.\u001b[0m\u001b[0m_run_search\u001b[0m\u001b[0;34m(\u001b[0m\u001b[0mevaluate_candidates\u001b[0m\u001b[0;34m)\u001b[0m\u001b[0;34m\u001b[0m\u001b[0;34m\u001b[0m\u001b[0m\n\u001b[0m\u001b[1;32m    737\u001b[0m \u001b[0;34m\u001b[0m\u001b[0m\n\u001b[1;32m    738\u001b[0m         \u001b[0;31m# For multi-metric evaluation, store the best_index_, best_params_ and\u001b[0m\u001b[0;34m\u001b[0m\u001b[0;34m\u001b[0m\u001b[0;34m\u001b[0m\u001b[0m\n",
      "\u001b[0;32m~/miniconda3/lib/python3.7/site-packages/sklearn/model_selection/_search.py\u001b[0m in \u001b[0;36m_run_search\u001b[0;34m(self, evaluate_candidates)\u001b[0m\n\u001b[1;32m   1529\u001b[0m         evaluate_candidates(ParameterSampler(\n\u001b[1;32m   1530\u001b[0m             \u001b[0mself\u001b[0m\u001b[0;34m.\u001b[0m\u001b[0mparam_distributions\u001b[0m\u001b[0;34m,\u001b[0m \u001b[0mself\u001b[0m\u001b[0;34m.\u001b[0m\u001b[0mn_iter\u001b[0m\u001b[0;34m,\u001b[0m\u001b[0;34m\u001b[0m\u001b[0;34m\u001b[0m\u001b[0m\n\u001b[0;32m-> 1531\u001b[0;31m             random_state=self.random_state))\n\u001b[0m",
      "\u001b[0;32m~/miniconda3/lib/python3.7/site-packages/sklearn/model_selection/_search.py\u001b[0m in \u001b[0;36mevaluate_candidates\u001b[0;34m(candidate_params)\u001b[0m\n\u001b[1;32m    713\u001b[0m                                \u001b[0;32mfor\u001b[0m \u001b[0mparameters\u001b[0m\u001b[0;34m,\u001b[0m \u001b[0;34m(\u001b[0m\u001b[0mtrain\u001b[0m\u001b[0;34m,\u001b[0m \u001b[0mtest\u001b[0m\u001b[0;34m)\u001b[0m\u001b[0;34m\u001b[0m\u001b[0;34m\u001b[0m\u001b[0m\n\u001b[1;32m    714\u001b[0m                                in product(candidate_params,\n\u001b[0;32m--> 715\u001b[0;31m                                           cv.split(X, y, groups)))\n\u001b[0m\u001b[1;32m    716\u001b[0m \u001b[0;34m\u001b[0m\u001b[0m\n\u001b[1;32m    717\u001b[0m                 \u001b[0;32mif\u001b[0m \u001b[0mlen\u001b[0m\u001b[0;34m(\u001b[0m\u001b[0mout\u001b[0m\u001b[0;34m)\u001b[0m \u001b[0;34m<\u001b[0m \u001b[0;36m1\u001b[0m\u001b[0;34m:\u001b[0m\u001b[0;34m\u001b[0m\u001b[0;34m\u001b[0m\u001b[0m\n",
      "\u001b[0;32m~/miniconda3/lib/python3.7/site-packages/joblib/parallel.py\u001b[0m in \u001b[0;36m__call__\u001b[0;34m(self, iterable)\u001b[0m\n\u001b[1;32m   1052\u001b[0m \u001b[0;34m\u001b[0m\u001b[0m\n\u001b[1;32m   1053\u001b[0m             \u001b[0;32mwith\u001b[0m \u001b[0mself\u001b[0m\u001b[0;34m.\u001b[0m\u001b[0m_backend\u001b[0m\u001b[0;34m.\u001b[0m\u001b[0mretrieval_context\u001b[0m\u001b[0;34m(\u001b[0m\u001b[0;34m)\u001b[0m\u001b[0;34m:\u001b[0m\u001b[0;34m\u001b[0m\u001b[0;34m\u001b[0m\u001b[0m\n\u001b[0;32m-> 1054\u001b[0;31m                 \u001b[0mself\u001b[0m\u001b[0;34m.\u001b[0m\u001b[0mretrieve\u001b[0m\u001b[0;34m(\u001b[0m\u001b[0;34m)\u001b[0m\u001b[0;34m\u001b[0m\u001b[0;34m\u001b[0m\u001b[0m\n\u001b[0m\u001b[1;32m   1055\u001b[0m             \u001b[0;31m# Make sure that we get a last message telling us we are done\u001b[0m\u001b[0;34m\u001b[0m\u001b[0;34m\u001b[0m\u001b[0;34m\u001b[0m\u001b[0m\n\u001b[1;32m   1056\u001b[0m             \u001b[0melapsed_time\u001b[0m \u001b[0;34m=\u001b[0m \u001b[0mtime\u001b[0m\u001b[0;34m.\u001b[0m\u001b[0mtime\u001b[0m\u001b[0;34m(\u001b[0m\u001b[0;34m)\u001b[0m \u001b[0;34m-\u001b[0m \u001b[0mself\u001b[0m\u001b[0;34m.\u001b[0m\u001b[0m_start_time\u001b[0m\u001b[0;34m\u001b[0m\u001b[0;34m\u001b[0m\u001b[0m\n",
      "\u001b[0;32m~/miniconda3/lib/python3.7/site-packages/joblib/parallel.py\u001b[0m in \u001b[0;36mretrieve\u001b[0;34m(self)\u001b[0m\n\u001b[1;32m    931\u001b[0m             \u001b[0;32mtry\u001b[0m\u001b[0;34m:\u001b[0m\u001b[0;34m\u001b[0m\u001b[0;34m\u001b[0m\u001b[0m\n\u001b[1;32m    932\u001b[0m                 \u001b[0;32mif\u001b[0m \u001b[0mgetattr\u001b[0m\u001b[0;34m(\u001b[0m\u001b[0mself\u001b[0m\u001b[0;34m.\u001b[0m\u001b[0m_backend\u001b[0m\u001b[0;34m,\u001b[0m \u001b[0;34m'supports_timeout'\u001b[0m\u001b[0;34m,\u001b[0m \u001b[0;32mFalse\u001b[0m\u001b[0;34m)\u001b[0m\u001b[0;34m:\u001b[0m\u001b[0;34m\u001b[0m\u001b[0;34m\u001b[0m\u001b[0m\n\u001b[0;32m--> 933\u001b[0;31m                     \u001b[0mself\u001b[0m\u001b[0;34m.\u001b[0m\u001b[0m_output\u001b[0m\u001b[0;34m.\u001b[0m\u001b[0mextend\u001b[0m\u001b[0;34m(\u001b[0m\u001b[0mjob\u001b[0m\u001b[0;34m.\u001b[0m\u001b[0mget\u001b[0m\u001b[0;34m(\u001b[0m\u001b[0mtimeout\u001b[0m\u001b[0;34m=\u001b[0m\u001b[0mself\u001b[0m\u001b[0;34m.\u001b[0m\u001b[0mtimeout\u001b[0m\u001b[0;34m)\u001b[0m\u001b[0;34m)\u001b[0m\u001b[0;34m\u001b[0m\u001b[0;34m\u001b[0m\u001b[0m\n\u001b[0m\u001b[1;32m    934\u001b[0m                 \u001b[0;32melse\u001b[0m\u001b[0;34m:\u001b[0m\u001b[0;34m\u001b[0m\u001b[0;34m\u001b[0m\u001b[0m\n\u001b[1;32m    935\u001b[0m                     \u001b[0mself\u001b[0m\u001b[0;34m.\u001b[0m\u001b[0m_output\u001b[0m\u001b[0;34m.\u001b[0m\u001b[0mextend\u001b[0m\u001b[0;34m(\u001b[0m\u001b[0mjob\u001b[0m\u001b[0;34m.\u001b[0m\u001b[0mget\u001b[0m\u001b[0;34m(\u001b[0m\u001b[0;34m)\u001b[0m\u001b[0;34m)\u001b[0m\u001b[0;34m\u001b[0m\u001b[0;34m\u001b[0m\u001b[0m\n",
      "\u001b[0;32m~/miniconda3/lib/python3.7/site-packages/joblib/_parallel_backends.py\u001b[0m in \u001b[0;36mwrap_future_result\u001b[0;34m(future, timeout)\u001b[0m\n\u001b[1;32m    540\u001b[0m         AsyncResults.get from multiprocessing.\"\"\"\n\u001b[1;32m    541\u001b[0m         \u001b[0;32mtry\u001b[0m\u001b[0;34m:\u001b[0m\u001b[0;34m\u001b[0m\u001b[0;34m\u001b[0m\u001b[0m\n\u001b[0;32m--> 542\u001b[0;31m             \u001b[0;32mreturn\u001b[0m \u001b[0mfuture\u001b[0m\u001b[0;34m.\u001b[0m\u001b[0mresult\u001b[0m\u001b[0;34m(\u001b[0m\u001b[0mtimeout\u001b[0m\u001b[0;34m=\u001b[0m\u001b[0mtimeout\u001b[0m\u001b[0;34m)\u001b[0m\u001b[0;34m\u001b[0m\u001b[0;34m\u001b[0m\u001b[0m\n\u001b[0m\u001b[1;32m    543\u001b[0m         \u001b[0;32mexcept\u001b[0m \u001b[0mCfTimeoutError\u001b[0m \u001b[0;32mas\u001b[0m \u001b[0me\u001b[0m\u001b[0;34m:\u001b[0m\u001b[0;34m\u001b[0m\u001b[0;34m\u001b[0m\u001b[0m\n\u001b[1;32m    544\u001b[0m             \u001b[0;32mraise\u001b[0m \u001b[0mTimeoutError\u001b[0m \u001b[0;32mfrom\u001b[0m \u001b[0me\u001b[0m\u001b[0;34m\u001b[0m\u001b[0;34m\u001b[0m\u001b[0m\n",
      "\u001b[0;32m~/miniconda3/lib/python3.7/concurrent/futures/_base.py\u001b[0m in \u001b[0;36mresult\u001b[0;34m(self, timeout)\u001b[0m\n\u001b[1;32m    428\u001b[0m                 \u001b[0;32mreturn\u001b[0m \u001b[0mself\u001b[0m\u001b[0;34m.\u001b[0m\u001b[0m__get_result\u001b[0m\u001b[0;34m(\u001b[0m\u001b[0;34m)\u001b[0m\u001b[0;34m\u001b[0m\u001b[0;34m\u001b[0m\u001b[0m\n\u001b[1;32m    429\u001b[0m \u001b[0;34m\u001b[0m\u001b[0m\n\u001b[0;32m--> 430\u001b[0;31m             \u001b[0mself\u001b[0m\u001b[0;34m.\u001b[0m\u001b[0m_condition\u001b[0m\u001b[0;34m.\u001b[0m\u001b[0mwait\u001b[0m\u001b[0;34m(\u001b[0m\u001b[0mtimeout\u001b[0m\u001b[0;34m)\u001b[0m\u001b[0;34m\u001b[0m\u001b[0;34m\u001b[0m\u001b[0m\n\u001b[0m\u001b[1;32m    431\u001b[0m \u001b[0;34m\u001b[0m\u001b[0m\n\u001b[1;32m    432\u001b[0m             \u001b[0;32mif\u001b[0m \u001b[0mself\u001b[0m\u001b[0;34m.\u001b[0m\u001b[0m_state\u001b[0m \u001b[0;32min\u001b[0m \u001b[0;34m[\u001b[0m\u001b[0mCANCELLED\u001b[0m\u001b[0;34m,\u001b[0m \u001b[0mCANCELLED_AND_NOTIFIED\u001b[0m\u001b[0;34m]\u001b[0m\u001b[0;34m:\u001b[0m\u001b[0;34m\u001b[0m\u001b[0;34m\u001b[0m\u001b[0m\n",
      "\u001b[0;32m~/miniconda3/lib/python3.7/threading.py\u001b[0m in \u001b[0;36mwait\u001b[0;34m(self, timeout)\u001b[0m\n\u001b[1;32m    294\u001b[0m         \u001b[0;32mtry\u001b[0m\u001b[0;34m:\u001b[0m    \u001b[0;31m# restore state no matter what (e.g., KeyboardInterrupt)\u001b[0m\u001b[0;34m\u001b[0m\u001b[0;34m\u001b[0m\u001b[0m\n\u001b[1;32m    295\u001b[0m             \u001b[0;32mif\u001b[0m \u001b[0mtimeout\u001b[0m \u001b[0;32mis\u001b[0m \u001b[0;32mNone\u001b[0m\u001b[0;34m:\u001b[0m\u001b[0;34m\u001b[0m\u001b[0;34m\u001b[0m\u001b[0m\n\u001b[0;32m--> 296\u001b[0;31m                 \u001b[0mwaiter\u001b[0m\u001b[0;34m.\u001b[0m\u001b[0macquire\u001b[0m\u001b[0;34m(\u001b[0m\u001b[0;34m)\u001b[0m\u001b[0;34m\u001b[0m\u001b[0;34m\u001b[0m\u001b[0m\n\u001b[0m\u001b[1;32m    297\u001b[0m                 \u001b[0mgotit\u001b[0m \u001b[0;34m=\u001b[0m \u001b[0;32mTrue\u001b[0m\u001b[0;34m\u001b[0m\u001b[0;34m\u001b[0m\u001b[0m\n\u001b[1;32m    298\u001b[0m             \u001b[0;32melse\u001b[0m\u001b[0;34m:\u001b[0m\u001b[0;34m\u001b[0m\u001b[0;34m\u001b[0m\u001b[0m\n",
      "\u001b[0;31mKeyboardInterrupt\u001b[0m: "
     ]
    }
   ],
   "source": [
    "#lists of hyperparameters to tune\n",
    "random_params = {'criterion': ['entropy', 'gini']\n",
    "                , 'max_depth' : [10, 100, 1000, None]\n",
    "                ,'n_estimators' : [50, 100, 200, 500]\n",
    "                , 'min_samples_leaf' : [1, 5, 10]\n",
    "                , 'min_samples_split': [5, 10, 15]\n",
    "                , 'max_features' : ['auto', 'log2']}\n",
    "\n",
    "#random search\n",
    "forest_random_cv = RandomizedSearchCV(RandomForestClassifier(), param_distributions=random_params,\n",
    "                                      n_iter=50, cv=3, n_jobs=-1, verbose=10, random_state=4321)\n",
    "forest_random_cv.fit(X_train_period, y_train)\n",
    "\n",
    "print(f'Training Score:\\t{forest_random_cv.score(X_train_period, y_train)}')\n",
    "print(f'Validate Score:\\t{forest_random_cv.score(X_val_period, y_val)}')\n",
    "print(f'Best model: {forest_random_cv.best_params_}')"
   ]
  },
  {
   "cell_type": "code",
   "execution_count": null,
   "id": "equivalent-relief",
   "metadata": {
    "ExecuteTime": {
     "end_time": "2021-02-08T13:51:40.578076Z",
     "start_time": "2021-02-08T13:39:35.547Z"
    }
   },
   "outputs": [],
   "source": [
    "y_val_predicted = forest_random_cv.best_estimator_.predict(X_val_period)\n",
    "print(confusion_matrix(y_val, y_val_predicted))\n",
    "print(classification_report(y_val, y_val_predicted))\n",
    "print(accuracy_score(y_val, y_val_predicted))"
   ]
  },
  {
   "cell_type": "code",
   "execution_count": null,
   "id": "included-bryan",
   "metadata": {
    "ExecuteTime": {
     "end_time": "2021-02-08T13:51:40.578766Z",
     "start_time": "2021-02-08T13:39:35.550Z"
    }
   },
   "outputs": [],
   "source": [
    "#lists of hyperparameters to tune\n",
    "grid_params = {'criterion': [forest_random_cv.best_params_['criterion']]\n",
    "                , 'max_features' : [forest_random_cv.best_params_['max_features']]\n",
    "                ,'n_estimators' : [forest_random_cv.best_params_['n_estimators']]                   \n",
    "                , 'max_depth' : [forest_random_cv.best_params_['max_depth'] - 5\n",
    "                                , forest_random_cv.best_params_['max_depth']\n",
    "                                , forest_random_cv.best_params_['max_depth'] + 5]\n",
    "                , 'min_samples_leaf' : [forest_random_cv.best_params_['min_samples_leaf'] - 2\n",
    "                                       , forest_random_cv.best_params_['min_samples_leaf']\n",
    "                                       , forest_random_cv.best_params_['min_samples_leaf'] + 2]\n",
    "                , 'min_samples_split': [forest_random_cv.best_params_['min_samples_split'] - 3\n",
    "                                       , forest_random_cv.best_params_['min_samples_split']\n",
    "                                       , forest_random_cv.best_params_['min_samples_split'] + 3]\n",
    "              }\n",
    "\n",
    "#grid search\n",
    "forest_grid_cv = GridSearchCV(RandomForestClassifier(), param_grid=grid_params, cv=3, n_jobs=-1, verbose=10)\n",
    "forest_grid_cv.fit(X_train_period, y_train)\n",
    "\n",
    "print(f'Training Score:\\t{forest_grid_cv.score(X_train_period, y_train)}')\n",
    "print(f'Validate Score:\\t{forest_grid_cv.score(X_val_period, y_val)}')\n",
    "print(f'Best model: {forest_grid_cv.best_params_}')"
   ]
  },
  {
   "cell_type": "code",
   "execution_count": null,
   "id": "limited-apparatus",
   "metadata": {
    "ExecuteTime": {
     "end_time": "2021-02-08T13:51:40.579652Z",
     "start_time": "2021-02-08T13:39:35.554Z"
    }
   },
   "outputs": [],
   "source": [
    "y_val_predicted = forest_grid_cv.best_estimator_.predict(X_val_period)\n",
    "print(confusion_matrix(y_val, y_val_predicted))\n",
    "print(classification_report(y_val, y_val_predicted))\n",
    "print(accuracy_score(y_val, y_val_predicted))"
   ]
  },
  {
   "cell_type": "markdown",
   "id": "grave-stanford",
   "metadata": {},
   "source": [
    "- Apperantly there are no changes if I change imput..."
   ]
  },
  {
   "cell_type": "code",
   "execution_count": null,
   "id": "parallel-spirit",
   "metadata": {},
   "outputs": [],
   "source": []
  }
 ],
 "metadata": {
  "kernelspec": {
   "display_name": "Python 3",
   "language": "python",
   "name": "python3"
  },
  "language_info": {
   "codemirror_mode": {
    "name": "ipython",
    "version": 3
   },
   "file_extension": ".py",
   "mimetype": "text/x-python",
   "name": "python",
   "nbconvert_exporter": "python",
   "pygments_lexer": "ipython3",
   "version": "3.7.9"
  },
  "toc": {
   "base_numbering": 1,
   "nav_menu": {},
   "number_sections": true,
   "sideBar": true,
   "skip_h1_title": false,
   "title_cell": "Table of Contents",
   "title_sidebar": "Contents",
   "toc_cell": false,
   "toc_position": {
    "height": "calc(100% - 180px)",
    "left": "10px",
    "top": "150px",
    "width": "278.933px"
   },
   "toc_section_display": true,
   "toc_window_display": false
  },
  "varInspector": {
   "cols": {
    "lenName": 16,
    "lenType": 16,
    "lenVar": 40
   },
   "kernels_config": {
    "python": {
     "delete_cmd_postfix": "",
     "delete_cmd_prefix": "del ",
     "library": "var_list.py",
     "varRefreshCmd": "print(var_dic_list())"
    },
    "r": {
     "delete_cmd_postfix": ") ",
     "delete_cmd_prefix": "rm(",
     "library": "var_list.r",
     "varRefreshCmd": "cat(var_dic_list()) "
    }
   },
   "types_to_exclude": [
    "module",
    "function",
    "builtin_function_or_method",
    "instance",
    "_Feature"
   ],
   "window_display": false
  }
 },
 "nbformat": 4,
 "nbformat_minor": 5
}
